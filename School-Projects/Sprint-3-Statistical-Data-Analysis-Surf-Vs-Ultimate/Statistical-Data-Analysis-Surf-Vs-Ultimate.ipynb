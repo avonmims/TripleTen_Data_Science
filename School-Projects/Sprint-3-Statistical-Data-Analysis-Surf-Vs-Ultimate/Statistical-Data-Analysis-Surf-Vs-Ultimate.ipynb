{
 "cells": [
  {
   "cell_type": "markdown",
   "metadata": {},
   "source": [
    "<div style=\"border:solid green 2px; padding: 20px\"> <h1 style=\"color:green; margin-bottom:20px\">Reviewers comment v1</h1>\n",
    "\n",
    "Hello Avon!\n",
    "\n",
    "I'm happy to review your project today 🙌\n",
    "\n",
    "You can find my comments under the heading **«Review»**. I will categorize my comments in green, blue or red boxes like this:\n",
    "\n",
    "<div class=\"alert alert-success\">\n",
    "    <b>Success:</b> if everything is done successfully\n",
    "</div>\n",
    "<div class=\"alert alert-warning\">\n",
    "    <b>Remarks:</b> if I can give some recommendations or ways to improve the project\n",
    "</div>\n",
    "<div class=\"alert alert-danger\">\n",
    "    <b>Needs fixing:</b> if the block requires some corrections. Work cant be accepted with the red comments\n",
    "</div>\n",
    "\n",
    "Please don't remove my comments :) If you have any questions don't hesitate to respond to my comments in a different section. \n",
    "<div class=\"alert alert-info\"> <b>Student comments:</b> For example like this</div>    \n",
    "\n"
   ]
  },
  {
   "cell_type": "markdown",
   "metadata": {},
   "source": [
    "<div style=\"border:solid green 2px; padding: 20px\">\n",
    "<b>Reviewer's comment v1:</b>\n",
    "\n",
    "    \n",
    "<b>Overall Feedback</b>\n",
    "    \n",
    "Hello Avon,\n",
    "    \n",
    "You’ve submitted another project—great work! Your commitment to pushing through the challenges of this program is admirable.\n",
    "\n",
    "After reviewing your submission, I’ve returned it with some feedback to help you make the necessary improvements.\n",
    "    \n",
    "   \n",
    "You can find my more detailed notes within your project notebook in the **Reviewer's comment v1:** section.\n",
    "\n",
    "**🚧 Suggested Tweaks & Areas for Attention**\n",
    "\n",
    "- The join type needs to be updated. The current configuration excludes users who did not call but used other services, causing them to be omitted from the final dataset.\n",
    "   \n",
    "Keep in mind that revisions are a normal and valuable part of the learning process. Use this feedback to refine your work and resubmit when you’re ready. I know you’re capable of great things, and I’m here to support you every step of the way. Keep going—you’re doing a great job! 🏄\n",
    "\n",
    "If you find yourself uncertain or in need of further insights, never hesitate to consult with your tutor or ask your questions here. We are here to guide and assist you."
   ]
  },
  {
   "cell_type": "markdown",
   "metadata": {},
   "source": [
    "<div style=\"border:solid green 2px; padding: 20px\">\n",
    "<b>Reviewer's comment v2:</b>\n",
    "    \n",
    "<b>Overall Feedback</b> \n",
    "    \n",
    "I appreciate the effort you have put into revising your project.  There are no issues left, so your project has been accepted. I wish you engaging projects in the upcoming sprints! ☘️\n",
    "    \n",
    "PS: As a final note, I can recommend cool lectures on stat analysis here: https://www.youtube.com/playlist?list=PL2SOU6wwxB0uwwH80KTQ6ht66KWxbzTIo  \n",
    "    \n",
    "Another great self-paced course that covers basic concepts in probability and statistics - Probability and Statistics by Stanford Online or you could check this one [An Introduction to Statistical Learning with Applications in R](https://www.r-bloggers.com/2014/09/in-depth-introduction-to-machine-learning-in-15-hours-of-expert-videos/) 🙌\n",
    "\n",
    "</div>"
   ]
  },
  {
   "cell_type": "markdown",
   "metadata": {},
   "source": [
    "# Which one is a better plan?\n",
    "\n",
    "You work as an analyst for the telecom operator Megaline. The company offers its clients two prepaid plans, Surf and Ultimate. The commercial department wants to know which of the plans brings in more revenue in order to adjust the advertising budget.\n",
    "\n",
    "You are going to carry out a preliminary analysis of the plans based on a relatively small client selection. You'll have the data on 500 Megaline clients: who the clients are, where they're from, which plan they use, and the number of calls they made and text messages they sent in 2018. Your job is to analyze the clients' behavior and determine which prepaid plan brings in more revenue."
   ]
  },
  {
   "cell_type": "markdown",
   "metadata": {},
   "source": [
    "[We've provided you with some commentary to guide your thinking as you complete this project. However, make sure to remove all the bracketed comments before submitting your project.]\n",
    "\n",
    "[Before you dive into analyzing your data, explain for yourself the purpose of the project and actions you plan to take.]\n",
    "\n",
    "[Please bear in mind that studying, amending, and analyzing data is an iterative process. It is normal to return to previous steps and correct/expand them to allow for further steps.]"
   ]
  },
  {
   "cell_type": "markdown",
   "metadata": {},
   "source": [
    "<div style=\"background-color: #d4edda; color: #155724; padding: 15px; border-radius: 4px; border: 1px solid #c3e6cb;\">\n",
    "\n",
    "<b>Reviewer's comment v1</b>\n",
    " \n",
    "Great job keeping the additional information about the project goal! Additionally, you could add a short description of the tasks you plan to perform and the available data. This information could be helpful for the notebook reader.\n",
    "\n"
   ]
  },
  {
   "cell_type": "markdown",
   "metadata": {},
   "source": [
    "## Initialization"
   ]
  },
  {
   "cell_type": "code",
   "execution_count": 1,
   "metadata": {},
   "outputs": [],
   "source": [
    "import math as mt\n",
    "import numpy as np\n",
    "import pandas as pd\n",
    "import seaborn as sns\n",
    "from scipy import stats as st\n",
    "from matplotlib import pyplot as plt"
   ]
  },
  {
   "cell_type": "markdown",
   "metadata": {},
   "source": [
    "**loading libraries**"
   ]
  },
  {
   "cell_type": "markdown",
   "metadata": {},
   "source": [
    "## Load data"
   ]
  },
  {
   "cell_type": "code",
   "execution_count": 2,
   "metadata": {},
   "outputs": [],
   "source": [
    "calls = pd.read_csv('/datasets/megaline_calls.csv')\n",
    "users = pd.read_csv('/datasets/megaline_users.csv')\n",
    "plans = pd.read_csv('/datasets/megaline_plans.csv')\n",
    "messages = pd.read_csv('/datasets/megaline_messages.csv')\n",
    "internet = pd.read_csv('/datasets/megaline_internet.csv')"
   ]
  },
  {
   "cell_type": "markdown",
   "metadata": {},
   "source": [
    "**loading datasets**"
   ]
  },
  {
   "cell_type": "markdown",
   "metadata": {},
   "source": [
    "## Prepare the data"
   ]
  },
  {
   "cell_type": "markdown",
   "metadata": {},
   "source": [
    "[The data for this project is split into several tables. Explore each one to get an initial understanding of the data. Do necessary corrections to each table if necessary.]"
   ]
  },
  {
   "cell_type": "markdown",
   "metadata": {},
   "source": [
    "**i started doing all of the below steps, in a new cell under this prompt, then i realized there's workspace and prompts for each individual dataset below**"
   ]
  },
  {
   "cell_type": "markdown",
   "metadata": {},
   "source": [
    "## Plans"
   ]
  },
  {
   "cell_type": "code",
   "execution_count": 3,
   "metadata": {},
   "outputs": [
    {
     "name": "stdout",
     "output_type": "stream",
     "text": [
      "<class 'pandas.core.frame.DataFrame'>\n",
      "RangeIndex: 2 entries, 0 to 1\n",
      "Data columns (total 8 columns):\n",
      " #   Column                 Non-Null Count  Dtype  \n",
      "---  ------                 --------------  -----  \n",
      " 0   messages_included      2 non-null      int64  \n",
      " 1   mb_per_month_included  2 non-null      int64  \n",
      " 2   minutes_included       2 non-null      int64  \n",
      " 3   usd_monthly_pay        2 non-null      int64  \n",
      " 4   usd_per_gb             2 non-null      int64  \n",
      " 5   usd_per_message        2 non-null      float64\n",
      " 6   usd_per_minute         2 non-null      float64\n",
      " 7   plan_name              2 non-null      object \n",
      "dtypes: float64(2), int64(5), object(1)\n",
      "memory usage: 256.0+ bytes\n"
     ]
    }
   ],
   "source": [
    "# Print the general/summary information about the plans' DataFrame\n",
    "\n",
    "plans.info()"
   ]
  },
  {
   "cell_type": "code",
   "execution_count": 4,
   "metadata": {},
   "outputs": [
    {
     "data": {
      "text/html": [
       "<div>\n",
       "<style scoped>\n",
       "    .dataframe tbody tr th:only-of-type {\n",
       "        vertical-align: middle;\n",
       "    }\n",
       "\n",
       "    .dataframe tbody tr th {\n",
       "        vertical-align: top;\n",
       "    }\n",
       "\n",
       "    .dataframe thead th {\n",
       "        text-align: right;\n",
       "    }\n",
       "</style>\n",
       "<table border=\"1\" class=\"dataframe\">\n",
       "  <thead>\n",
       "    <tr style=\"text-align: right;\">\n",
       "      <th></th>\n",
       "      <th>messages_included</th>\n",
       "      <th>mb_per_month_included</th>\n",
       "      <th>minutes_included</th>\n",
       "      <th>usd_monthly_pay</th>\n",
       "      <th>usd_per_gb</th>\n",
       "      <th>usd_per_message</th>\n",
       "      <th>usd_per_minute</th>\n",
       "      <th>plan_name</th>\n",
       "    </tr>\n",
       "  </thead>\n",
       "  <tbody>\n",
       "    <tr>\n",
       "      <th>0</th>\n",
       "      <td>50</td>\n",
       "      <td>15360</td>\n",
       "      <td>500</td>\n",
       "      <td>20</td>\n",
       "      <td>10</td>\n",
       "      <td>0.03</td>\n",
       "      <td>0.03</td>\n",
       "      <td>surf</td>\n",
       "    </tr>\n",
       "    <tr>\n",
       "      <th>1</th>\n",
       "      <td>1000</td>\n",
       "      <td>30720</td>\n",
       "      <td>3000</td>\n",
       "      <td>70</td>\n",
       "      <td>7</td>\n",
       "      <td>0.01</td>\n",
       "      <td>0.01</td>\n",
       "      <td>ultimate</td>\n",
       "    </tr>\n",
       "  </tbody>\n",
       "</table>\n",
       "</div>"
      ],
      "text/plain": [
       "   messages_included  mb_per_month_included  minutes_included  \\\n",
       "0                 50                  15360               500   \n",
       "1               1000                  30720              3000   \n",
       "\n",
       "   usd_monthly_pay  usd_per_gb  usd_per_message  usd_per_minute plan_name  \n",
       "0               20          10             0.03            0.03      surf  \n",
       "1               70           7             0.01            0.01  ultimate  "
      ]
     },
     "metadata": {},
     "output_type": "display_data"
    }
   ],
   "source": [
    "# Print a sample of data for plans\n",
    "\n",
    "display(plans)"
   ]
  },
  {
   "cell_type": "markdown",
   "metadata": {},
   "source": [
    "**the plan_name would be much better suited as the index, for clarity**"
   ]
  },
  {
   "cell_type": "markdown",
   "metadata": {},
   "source": [
    "[Describe what you see and notice in the general information and the printed data sample for the above price of data. Are there any issues (inappropriate data types, missing data etc) that may need further investigation and changes? How that can be fixed?]"
   ]
  },
  {
   "cell_type": "markdown",
   "metadata": {},
   "source": [
    " "
   ]
  },
  {
   "cell_type": "markdown",
   "metadata": {
    "collapsed": false,
    "jupyter": {
     "outputs_hidden": false
    }
   },
   "source": [
    "## Fix data"
   ]
  },
  {
   "cell_type": "markdown",
   "metadata": {},
   "source": [
    "[Fix obvious issues with the data given the initial observations.]"
   ]
  },
  {
   "cell_type": "markdown",
   "metadata": {},
   "source": [
    "**i see no issues surrounding dtypes, or missing values, and this dataframe (to my current understanding) is more or less a key by which to do calculations later on**"
   ]
  },
  {
   "cell_type": "markdown",
   "metadata": {},
   "source": [
    "## Enrich data"
   ]
  },
  {
   "cell_type": "markdown",
   "metadata": {},
   "source": [
    "[Add additional factors to the data if you believe they might be useful.]"
   ]
  },
  {
   "cell_type": "code",
   "execution_count": 5,
   "metadata": {},
   "outputs": [
    {
     "name": "stdout",
     "output_type": "stream",
     "text": [
      "<class 'pandas.core.frame.DataFrame'>\n",
      "Index: 2 entries, surf to ultimate\n",
      "Data columns (total 8 columns):\n",
      " #   Column                 Non-Null Count  Dtype  \n",
      "---  ------                 --------------  -----  \n",
      " 0   messages_included      2 non-null      int64  \n",
      " 1   mb_per_month_included  2 non-null      int64  \n",
      " 2   minutes_included       2 non-null      int64  \n",
      " 3   usd_monthly_pay        2 non-null      int64  \n",
      " 4   usd_per_gb             2 non-null      int64  \n",
      " 5   usd_per_message        2 non-null      float64\n",
      " 6   usd_per_minute         2 non-null      float64\n",
      " 7   gb_per_month_included  2 non-null      int64  \n",
      "dtypes: float64(2), int64(6)\n",
      "memory usage: 144.0+ bytes\n",
      "\n"
     ]
    },
    {
     "data": {
      "text/html": [
       "<div>\n",
       "<style scoped>\n",
       "    .dataframe tbody tr th:only-of-type {\n",
       "        vertical-align: middle;\n",
       "    }\n",
       "\n",
       "    .dataframe tbody tr th {\n",
       "        vertical-align: top;\n",
       "    }\n",
       "\n",
       "    .dataframe thead th {\n",
       "        text-align: right;\n",
       "    }\n",
       "</style>\n",
       "<table border=\"1\" class=\"dataframe\">\n",
       "  <thead>\n",
       "    <tr style=\"text-align: right;\">\n",
       "      <th></th>\n",
       "      <th>messages_included</th>\n",
       "      <th>mb_per_month_included</th>\n",
       "      <th>minutes_included</th>\n",
       "      <th>usd_monthly_pay</th>\n",
       "      <th>usd_per_gb</th>\n",
       "      <th>usd_per_message</th>\n",
       "      <th>usd_per_minute</th>\n",
       "      <th>gb_per_month_included</th>\n",
       "    </tr>\n",
       "    <tr>\n",
       "      <th>plan_name</th>\n",
       "      <th></th>\n",
       "      <th></th>\n",
       "      <th></th>\n",
       "      <th></th>\n",
       "      <th></th>\n",
       "      <th></th>\n",
       "      <th></th>\n",
       "      <th></th>\n",
       "    </tr>\n",
       "  </thead>\n",
       "  <tbody>\n",
       "    <tr>\n",
       "      <th>surf</th>\n",
       "      <td>50</td>\n",
       "      <td>15360</td>\n",
       "      <td>500</td>\n",
       "      <td>20</td>\n",
       "      <td>10</td>\n",
       "      <td>0.03</td>\n",
       "      <td>0.03</td>\n",
       "      <td>15</td>\n",
       "    </tr>\n",
       "    <tr>\n",
       "      <th>ultimate</th>\n",
       "      <td>1000</td>\n",
       "      <td>30720</td>\n",
       "      <td>3000</td>\n",
       "      <td>70</td>\n",
       "      <td>7</td>\n",
       "      <td>0.01</td>\n",
       "      <td>0.01</td>\n",
       "      <td>30</td>\n",
       "    </tr>\n",
       "  </tbody>\n",
       "</table>\n",
       "</div>"
      ],
      "text/plain": [
       "           messages_included  mb_per_month_included  minutes_included  \\\n",
       "plan_name                                                               \n",
       "surf                      50                  15360               500   \n",
       "ultimate                1000                  30720              3000   \n",
       "\n",
       "           usd_monthly_pay  usd_per_gb  usd_per_message  usd_per_minute  \\\n",
       "plan_name                                                                 \n",
       "surf                    20          10             0.03            0.03   \n",
       "ultimate                70           7             0.01            0.01   \n",
       "\n",
       "           gb_per_month_included  \n",
       "plan_name                         \n",
       "surf                          15  \n",
       "ultimate                      30  "
      ]
     },
     "metadata": {},
     "output_type": "display_data"
    }
   ],
   "source": [
    "plans.set_index('plan_name', inplace= True)\n",
    "plans['gb_per_month_included'] = (plans['mb_per_month_included'] / 1024).astype(int)\n",
    "\n",
    "plans.info()\n",
    "print()\n",
    "display(plans)"
   ]
  },
  {
   "cell_type": "markdown",
   "metadata": {},
   "source": [
    "**having the plan names as the index makes sense here, since there are only two rows and they represent different metrics corresponding to our other data sets. plus, it's really nice knowing which is which without side scrolling**\n",
    "\n",
    "**also I added a MB to GB conversion column for clarity**"
   ]
  },
  {
   "cell_type": "markdown",
   "metadata": {},
   "source": [
    "## Users"
   ]
  },
  {
   "cell_type": "code",
   "execution_count": 6,
   "metadata": {},
   "outputs": [
    {
     "name": "stdout",
     "output_type": "stream",
     "text": [
      "<class 'pandas.core.frame.DataFrame'>\n",
      "RangeIndex: 500 entries, 0 to 499\n",
      "Data columns (total 8 columns):\n",
      " #   Column      Non-Null Count  Dtype \n",
      "---  ------      --------------  ----- \n",
      " 0   user_id     500 non-null    int64 \n",
      " 1   first_name  500 non-null    object\n",
      " 2   last_name   500 non-null    object\n",
      " 3   age         500 non-null    int64 \n",
      " 4   city        500 non-null    object\n",
      " 5   reg_date    500 non-null    object\n",
      " 6   plan        500 non-null    object\n",
      " 7   churn_date  34 non-null     object\n",
      "dtypes: int64(2), object(6)\n",
      "memory usage: 31.4+ KB\n"
     ]
    }
   ],
   "source": [
    "# Print the general/summary information about the users' DataFrame\n",
    "\n",
    "users.info()"
   ]
  },
  {
   "cell_type": "markdown",
   "metadata": {},
   "source": [
    "**dtypes seem fine except for the two columns corresponding to dates**"
   ]
  },
  {
   "cell_type": "code",
   "execution_count": 7,
   "metadata": {},
   "outputs": [
    {
     "data": {
      "text/html": [
       "<div>\n",
       "<style scoped>\n",
       "    .dataframe tbody tr th:only-of-type {\n",
       "        vertical-align: middle;\n",
       "    }\n",
       "\n",
       "    .dataframe tbody tr th {\n",
       "        vertical-align: top;\n",
       "    }\n",
       "\n",
       "    .dataframe thead th {\n",
       "        text-align: right;\n",
       "    }\n",
       "</style>\n",
       "<table border=\"1\" class=\"dataframe\">\n",
       "  <thead>\n",
       "    <tr style=\"text-align: right;\">\n",
       "      <th></th>\n",
       "      <th>user_id</th>\n",
       "      <th>first_name</th>\n",
       "      <th>last_name</th>\n",
       "      <th>age</th>\n",
       "      <th>city</th>\n",
       "      <th>reg_date</th>\n",
       "      <th>plan</th>\n",
       "      <th>churn_date</th>\n",
       "    </tr>\n",
       "  </thead>\n",
       "  <tbody>\n",
       "    <tr>\n",
       "      <th>195</th>\n",
       "      <td>1195</td>\n",
       "      <td>Roy</td>\n",
       "      <td>Velez</td>\n",
       "      <td>60</td>\n",
       "      <td>Portland-Vancouver-Hillsboro, OR-WA MSA</td>\n",
       "      <td>2018-06-09</td>\n",
       "      <td>surf</td>\n",
       "      <td>NaN</td>\n",
       "    </tr>\n",
       "    <tr>\n",
       "      <th>417</th>\n",
       "      <td>1417</td>\n",
       "      <td>Jorge</td>\n",
       "      <td>Madden</td>\n",
       "      <td>51</td>\n",
       "      <td>Minneapolis-St. Paul-Bloomington, MN-WI MSA</td>\n",
       "      <td>2018-06-22</td>\n",
       "      <td>ultimate</td>\n",
       "      <td>NaN</td>\n",
       "    </tr>\n",
       "    <tr>\n",
       "      <th>478</th>\n",
       "      <td>1478</td>\n",
       "      <td>Elane</td>\n",
       "      <td>David</td>\n",
       "      <td>51</td>\n",
       "      <td>Portland-Vancouver-Hillsboro, OR-WA MSA</td>\n",
       "      <td>2018-06-28</td>\n",
       "      <td>ultimate</td>\n",
       "      <td>NaN</td>\n",
       "    </tr>\n",
       "    <tr>\n",
       "      <th>280</th>\n",
       "      <td>1280</td>\n",
       "      <td>Jasper</td>\n",
       "      <td>Berry</td>\n",
       "      <td>29</td>\n",
       "      <td>New York-Newark-Jersey City, NY-NJ-PA MSA</td>\n",
       "      <td>2018-06-23</td>\n",
       "      <td>surf</td>\n",
       "      <td>NaN</td>\n",
       "    </tr>\n",
       "    <tr>\n",
       "      <th>95</th>\n",
       "      <td>1095</td>\n",
       "      <td>Lilliam</td>\n",
       "      <td>Alvarado</td>\n",
       "      <td>55</td>\n",
       "      <td>Louisville/Jefferson County, KY-IN MSA</td>\n",
       "      <td>2018-04-21</td>\n",
       "      <td>surf</td>\n",
       "      <td>NaN</td>\n",
       "    </tr>\n",
       "    <tr>\n",
       "      <th>400</th>\n",
       "      <td>1400</td>\n",
       "      <td>Kenton</td>\n",
       "      <td>Hickman</td>\n",
       "      <td>72</td>\n",
       "      <td>Riverside-San Bernardino-Ontario, CA MSA</td>\n",
       "      <td>2018-03-08</td>\n",
       "      <td>surf</td>\n",
       "      <td>NaN</td>\n",
       "    </tr>\n",
       "    <tr>\n",
       "      <th>443</th>\n",
       "      <td>1443</td>\n",
       "      <td>Genaro</td>\n",
       "      <td>Quinn</td>\n",
       "      <td>58</td>\n",
       "      <td>Atlanta-Sandy Springs-Roswell, GA MSA</td>\n",
       "      <td>2018-03-11</td>\n",
       "      <td>surf</td>\n",
       "      <td>NaN</td>\n",
       "    </tr>\n",
       "    <tr>\n",
       "      <th>374</th>\n",
       "      <td>1374</td>\n",
       "      <td>Ching</td>\n",
       "      <td>Watts</td>\n",
       "      <td>55</td>\n",
       "      <td>Louisville/Jefferson County, KY-IN MSA</td>\n",
       "      <td>2018-02-14</td>\n",
       "      <td>surf</td>\n",
       "      <td>NaN</td>\n",
       "    </tr>\n",
       "    <tr>\n",
       "      <th>284</th>\n",
       "      <td>1284</td>\n",
       "      <td>Yuri</td>\n",
       "      <td>Odom</td>\n",
       "      <td>51</td>\n",
       "      <td>Dayton-Kettering, OH MSA</td>\n",
       "      <td>2018-09-07</td>\n",
       "      <td>surf</td>\n",
       "      <td>NaN</td>\n",
       "    </tr>\n",
       "    <tr>\n",
       "      <th>240</th>\n",
       "      <td>1240</td>\n",
       "      <td>Drema</td>\n",
       "      <td>Lopez</td>\n",
       "      <td>61</td>\n",
       "      <td>Baton Rouge, LA MSA</td>\n",
       "      <td>2018-03-18</td>\n",
       "      <td>surf</td>\n",
       "      <td>NaN</td>\n",
       "    </tr>\n",
       "  </tbody>\n",
       "</table>\n",
       "</div>"
      ],
      "text/plain": [
       "     user_id first_name last_name  age  \\\n",
       "195     1195        Roy     Velez   60   \n",
       "417     1417      Jorge    Madden   51   \n",
       "478     1478      Elane     David   51   \n",
       "280     1280     Jasper     Berry   29   \n",
       "95      1095    Lilliam  Alvarado   55   \n",
       "400     1400     Kenton   Hickman   72   \n",
       "443     1443     Genaro     Quinn   58   \n",
       "374     1374      Ching     Watts   55   \n",
       "284     1284       Yuri      Odom   51   \n",
       "240     1240      Drema     Lopez   61   \n",
       "\n",
       "                                            city    reg_date      plan  \\\n",
       "195      Portland-Vancouver-Hillsboro, OR-WA MSA  2018-06-09      surf   \n",
       "417  Minneapolis-St. Paul-Bloomington, MN-WI MSA  2018-06-22  ultimate   \n",
       "478      Portland-Vancouver-Hillsboro, OR-WA MSA  2018-06-28  ultimate   \n",
       "280    New York-Newark-Jersey City, NY-NJ-PA MSA  2018-06-23      surf   \n",
       "95        Louisville/Jefferson County, KY-IN MSA  2018-04-21      surf   \n",
       "400     Riverside-San Bernardino-Ontario, CA MSA  2018-03-08      surf   \n",
       "443        Atlanta-Sandy Springs-Roswell, GA MSA  2018-03-11      surf   \n",
       "374       Louisville/Jefferson County, KY-IN MSA  2018-02-14      surf   \n",
       "284                     Dayton-Kettering, OH MSA  2018-09-07      surf   \n",
       "240                          Baton Rouge, LA MSA  2018-03-18      surf   \n",
       "\n",
       "    churn_date  \n",
       "195        NaN  \n",
       "417        NaN  \n",
       "478        NaN  \n",
       "280        NaN  \n",
       "95         NaN  \n",
       "400        NaN  \n",
       "443        NaN  \n",
       "374        NaN  \n",
       "284        NaN  \n",
       "240        NaN  "
      ]
     },
     "metadata": {},
     "output_type": "display_data"
    }
   ],
   "source": [
    "# Print a sample of data for users\n",
    "\n",
    "display(users.sample(10, random_state=999))"
   ]
  },
  {
   "cell_type": "markdown",
   "metadata": {},
   "source": [
    "**we have two columns containing time-related information, but neither of them have the correct dtype. I will be converting them from 'object' to 'datetime'**\n",
    "\n",
    "**also we will not need the full government names of each customer, only their unique user_id, but their age may be useful for behavioral analysis**"
   ]
  },
  {
   "cell_type": "markdown",
   "metadata": {},
   "source": [
    "[Describe what you see and notice in the general information and the printed data sample for the above price of data. Are there any issues (inappropriate data types, missing data etc) that may need further investigation and changes? How that can be fixed?]"
   ]
  },
  {
   "cell_type": "markdown",
   "metadata": {},
   "source": [
    " "
   ]
  },
  {
   "cell_type": "markdown",
   "metadata": {},
   "source": [
    "### Fix Data"
   ]
  },
  {
   "cell_type": "markdown",
   "metadata": {},
   "source": [
    "[Fix obvious issues with the data given the initial observations.]"
   ]
  },
  {
   "cell_type": "code",
   "execution_count": 8,
   "metadata": {},
   "outputs": [
    {
     "name": "stdout",
     "output_type": "stream",
     "text": [
      "<class 'pandas.core.frame.DataFrame'>\n",
      "RangeIndex: 500 entries, 0 to 499\n",
      "Data columns (total 8 columns):\n",
      " #   Column      Non-Null Count  Dtype         \n",
      "---  ------      --------------  -----         \n",
      " 0   user_id     500 non-null    int64         \n",
      " 1   first_name  500 non-null    object        \n",
      " 2   last_name   500 non-null    object        \n",
      " 3   age         500 non-null    int64         \n",
      " 4   city        500 non-null    object        \n",
      " 5   reg_date    500 non-null    datetime64[ns]\n",
      " 6   plan        500 non-null    object        \n",
      " 7   churn_date  34 non-null     datetime64[ns]\n",
      "dtypes: datetime64[ns](2), int64(2), object(4)\n",
      "memory usage: 31.4+ KB\n",
      "\n"
     ]
    },
    {
     "data": {
      "text/html": [
       "<div>\n",
       "<style scoped>\n",
       "    .dataframe tbody tr th:only-of-type {\n",
       "        vertical-align: middle;\n",
       "    }\n",
       "\n",
       "    .dataframe tbody tr th {\n",
       "        vertical-align: top;\n",
       "    }\n",
       "\n",
       "    .dataframe thead th {\n",
       "        text-align: right;\n",
       "    }\n",
       "</style>\n",
       "<table border=\"1\" class=\"dataframe\">\n",
       "  <thead>\n",
       "    <tr style=\"text-align: right;\">\n",
       "      <th></th>\n",
       "      <th>user_id</th>\n",
       "      <th>first_name</th>\n",
       "      <th>last_name</th>\n",
       "      <th>age</th>\n",
       "      <th>city</th>\n",
       "      <th>reg_date</th>\n",
       "      <th>plan</th>\n",
       "      <th>churn_date</th>\n",
       "    </tr>\n",
       "  </thead>\n",
       "  <tbody>\n",
       "    <tr>\n",
       "      <th>433</th>\n",
       "      <td>1433</td>\n",
       "      <td>Lyndon</td>\n",
       "      <td>Morrison</td>\n",
       "      <td>29</td>\n",
       "      <td>Philadelphia-Camden-Wilmington, PA-NJ-DE-MD MSA</td>\n",
       "      <td>2018-08-29</td>\n",
       "      <td>ultimate</td>\n",
       "      <td>NaT</td>\n",
       "    </tr>\n",
       "    <tr>\n",
       "      <th>79</th>\n",
       "      <td>1079</td>\n",
       "      <td>Brian</td>\n",
       "      <td>Mccall</td>\n",
       "      <td>48</td>\n",
       "      <td>New York-Newark-Jersey City, NY-NJ-PA MSA</td>\n",
       "      <td>2018-01-26</td>\n",
       "      <td>surf</td>\n",
       "      <td>NaT</td>\n",
       "    </tr>\n",
       "    <tr>\n",
       "      <th>357</th>\n",
       "      <td>1357</td>\n",
       "      <td>Ria</td>\n",
       "      <td>Beach</td>\n",
       "      <td>61</td>\n",
       "      <td>Baton Rouge, LA MSA</td>\n",
       "      <td>2018-05-30</td>\n",
       "      <td>surf</td>\n",
       "      <td>NaT</td>\n",
       "    </tr>\n",
       "    <tr>\n",
       "      <th>462</th>\n",
       "      <td>1462</td>\n",
       "      <td>Lesley</td>\n",
       "      <td>Workman</td>\n",
       "      <td>20</td>\n",
       "      <td>Las Vegas-Henderson-Paradise, NV MSA</td>\n",
       "      <td>2018-09-05</td>\n",
       "      <td>ultimate</td>\n",
       "      <td>NaT</td>\n",
       "    </tr>\n",
       "    <tr>\n",
       "      <th>60</th>\n",
       "      <td>1060</td>\n",
       "      <td>Denisse</td>\n",
       "      <td>Santos</td>\n",
       "      <td>53</td>\n",
       "      <td>Atlanta-Sandy Springs-Roswell, GA MSA</td>\n",
       "      <td>2018-04-07</td>\n",
       "      <td>surf</td>\n",
       "      <td>NaT</td>\n",
       "    </tr>\n",
       "    <tr>\n",
       "      <th>50</th>\n",
       "      <td>1050</td>\n",
       "      <td>Jone</td>\n",
       "      <td>Owen</td>\n",
       "      <td>23</td>\n",
       "      <td>Miami-Fort Lauderdale-West Palm Beach, FL MSA</td>\n",
       "      <td>2018-03-20</td>\n",
       "      <td>ultimate</td>\n",
       "      <td>2018-10-07</td>\n",
       "    </tr>\n",
       "    <tr>\n",
       "      <th>42</th>\n",
       "      <td>1042</td>\n",
       "      <td>Clementina</td>\n",
       "      <td>Mclaughlin</td>\n",
       "      <td>40</td>\n",
       "      <td>Philadelphia-Camden-Wilmington, PA-NJ-DE-MD MSA</td>\n",
       "      <td>2018-01-15</td>\n",
       "      <td>surf</td>\n",
       "      <td>NaT</td>\n",
       "    </tr>\n",
       "    <tr>\n",
       "      <th>267</th>\n",
       "      <td>1267</td>\n",
       "      <td>Gia</td>\n",
       "      <td>Parker</td>\n",
       "      <td>53</td>\n",
       "      <td>St. Louis, MO-IL MSA</td>\n",
       "      <td>2018-03-12</td>\n",
       "      <td>surf</td>\n",
       "      <td>NaT</td>\n",
       "    </tr>\n",
       "    <tr>\n",
       "      <th>484</th>\n",
       "      <td>1484</td>\n",
       "      <td>Delpha</td>\n",
       "      <td>Baldwin</td>\n",
       "      <td>46</td>\n",
       "      <td>Dallas-Fort Worth-Arlington, TX MSA</td>\n",
       "      <td>2018-11-29</td>\n",
       "      <td>surf</td>\n",
       "      <td>NaT</td>\n",
       "    </tr>\n",
       "  </tbody>\n",
       "</table>\n",
       "</div>"
      ],
      "text/plain": [
       "     user_id  first_name   last_name  age  \\\n",
       "433     1433      Lyndon    Morrison   29   \n",
       "79      1079       Brian      Mccall   48   \n",
       "357     1357         Ria       Beach   61   \n",
       "462     1462      Lesley     Workman   20   \n",
       "60      1060     Denisse      Santos   53   \n",
       "50      1050        Jone        Owen   23   \n",
       "42      1042  Clementina  Mclaughlin   40   \n",
       "267     1267         Gia      Parker   53   \n",
       "484     1484      Delpha     Baldwin   46   \n",
       "\n",
       "                                                city   reg_date      plan  \\\n",
       "433  Philadelphia-Camden-Wilmington, PA-NJ-DE-MD MSA 2018-08-29  ultimate   \n",
       "79         New York-Newark-Jersey City, NY-NJ-PA MSA 2018-01-26      surf   \n",
       "357                              Baton Rouge, LA MSA 2018-05-30      surf   \n",
       "462             Las Vegas-Henderson-Paradise, NV MSA 2018-09-05  ultimate   \n",
       "60             Atlanta-Sandy Springs-Roswell, GA MSA 2018-04-07      surf   \n",
       "50     Miami-Fort Lauderdale-West Palm Beach, FL MSA 2018-03-20  ultimate   \n",
       "42   Philadelphia-Camden-Wilmington, PA-NJ-DE-MD MSA 2018-01-15      surf   \n",
       "267                             St. Louis, MO-IL MSA 2018-03-12      surf   \n",
       "484              Dallas-Fort Worth-Arlington, TX MSA 2018-11-29      surf   \n",
       "\n",
       "    churn_date  \n",
       "433        NaT  \n",
       "79         NaT  \n",
       "357        NaT  \n",
       "462        NaT  \n",
       "60         NaT  \n",
       "50  2018-10-07  \n",
       "42         NaT  \n",
       "267        NaT  \n",
       "484        NaT  "
      ]
     },
     "metadata": {},
     "output_type": "display_data"
    }
   ],
   "source": [
    "users['reg_date'] = pd.to_datetime(users['reg_date'], format='%Y-%m-%d')\n",
    "users['churn_date'] = pd.to_datetime(users['churn_date'], format='%Y-%m-%d')\n",
    "\n",
    "users.info()\n",
    "print()\n",
    "display(users.sample(9, random_state=555))"
   ]
  },
  {
   "cell_type": "markdown",
   "metadata": {},
   "source": [
    "**changing both columns to desired dtype, and checking to see if any unwanted alterations to our data took place**"
   ]
  },
  {
   "cell_type": "markdown",
   "metadata": {},
   "source": [
    "### Enrich Data"
   ]
  },
  {
   "cell_type": "markdown",
   "metadata": {},
   "source": [
    "[Add additional factors to the data if you believe they might be useful.]"
   ]
  },
  {
   "cell_type": "code",
   "execution_count": 9,
   "metadata": {},
   "outputs": [
    {
     "data": {
      "text/html": [
       "<div>\n",
       "<style scoped>\n",
       "    .dataframe tbody tr th:only-of-type {\n",
       "        vertical-align: middle;\n",
       "    }\n",
       "\n",
       "    .dataframe tbody tr th {\n",
       "        vertical-align: top;\n",
       "    }\n",
       "\n",
       "    .dataframe thead th {\n",
       "        text-align: right;\n",
       "    }\n",
       "</style>\n",
       "<table border=\"1\" class=\"dataframe\">\n",
       "  <thead>\n",
       "    <tr style=\"text-align: right;\">\n",
       "      <th></th>\n",
       "      <th>user_id</th>\n",
       "      <th>first_name</th>\n",
       "      <th>last_name</th>\n",
       "      <th>age</th>\n",
       "      <th>city</th>\n",
       "      <th>reg_date</th>\n",
       "      <th>plan</th>\n",
       "      <th>churn_date</th>\n",
       "      <th>active_user</th>\n",
       "    </tr>\n",
       "  </thead>\n",
       "  <tbody>\n",
       "    <tr>\n",
       "      <th>187</th>\n",
       "      <td>1187</td>\n",
       "      <td>Tanner</td>\n",
       "      <td>Goodman</td>\n",
       "      <td>49</td>\n",
       "      <td>Austin-Round Rock-Georgetown, TX MSA</td>\n",
       "      <td>2018-02-20</td>\n",
       "      <td>surf</td>\n",
       "      <td>NaT</td>\n",
       "      <td>True</td>\n",
       "    </tr>\n",
       "    <tr>\n",
       "      <th>339</th>\n",
       "      <td>1339</td>\n",
       "      <td>Mariette</td>\n",
       "      <td>Mclean</td>\n",
       "      <td>27</td>\n",
       "      <td>Charlotte-Concord-Gastonia, NC-SC MSA</td>\n",
       "      <td>2018-03-03</td>\n",
       "      <td>surf</td>\n",
       "      <td>NaT</td>\n",
       "      <td>True</td>\n",
       "    </tr>\n",
       "    <tr>\n",
       "      <th>129</th>\n",
       "      <td>1129</td>\n",
       "      <td>Marin</td>\n",
       "      <td>Bolton</td>\n",
       "      <td>70</td>\n",
       "      <td>Baton Rouge, LA MSA</td>\n",
       "      <td>2018-11-10</td>\n",
       "      <td>surf</td>\n",
       "      <td>2018-12-27</td>\n",
       "      <td>False</td>\n",
       "    </tr>\n",
       "    <tr>\n",
       "      <th>15</th>\n",
       "      <td>1015</td>\n",
       "      <td>Beata</td>\n",
       "      <td>Carpenter</td>\n",
       "      <td>26</td>\n",
       "      <td>Pittsburgh, PA MSA</td>\n",
       "      <td>2018-12-05</td>\n",
       "      <td>surf</td>\n",
       "      <td>NaT</td>\n",
       "      <td>True</td>\n",
       "    </tr>\n",
       "    <tr>\n",
       "      <th>20</th>\n",
       "      <td>1020</td>\n",
       "      <td>Rutha</td>\n",
       "      <td>Bell</td>\n",
       "      <td>56</td>\n",
       "      <td>Dallas-Fort Worth-Arlington, TX MSA</td>\n",
       "      <td>2018-11-08</td>\n",
       "      <td>surf</td>\n",
       "      <td>NaT</td>\n",
       "      <td>True</td>\n",
       "    </tr>\n",
       "    <tr>\n",
       "      <th>32</th>\n",
       "      <td>1032</td>\n",
       "      <td>Delila</td>\n",
       "      <td>Dalton</td>\n",
       "      <td>59</td>\n",
       "      <td>Birmingham-Hoover, AL MSA</td>\n",
       "      <td>2018-06-07</td>\n",
       "      <td>ultimate</td>\n",
       "      <td>NaT</td>\n",
       "      <td>True</td>\n",
       "    </tr>\n",
       "    <tr>\n",
       "      <th>413</th>\n",
       "      <td>1413</td>\n",
       "      <td>Andre</td>\n",
       "      <td>Hensley</td>\n",
       "      <td>38</td>\n",
       "      <td>Bakersfield, CA MSA</td>\n",
       "      <td>2018-07-12</td>\n",
       "      <td>surf</td>\n",
       "      <td>NaT</td>\n",
       "      <td>True</td>\n",
       "    </tr>\n",
       "    <tr>\n",
       "      <th>305</th>\n",
       "      <td>1305</td>\n",
       "      <td>Gwenn</td>\n",
       "      <td>Gross</td>\n",
       "      <td>18</td>\n",
       "      <td>Los Angeles-Long Beach-Anaheim, CA MSA</td>\n",
       "      <td>2018-05-08</td>\n",
       "      <td>surf</td>\n",
       "      <td>NaT</td>\n",
       "      <td>True</td>\n",
       "    </tr>\n",
       "    <tr>\n",
       "      <th>388</th>\n",
       "      <td>1388</td>\n",
       "      <td>Thu</td>\n",
       "      <td>Noel</td>\n",
       "      <td>75</td>\n",
       "      <td>New York-Newark-Jersey City, NY-NJ-PA MSA</td>\n",
       "      <td>2018-03-28</td>\n",
       "      <td>ultimate</td>\n",
       "      <td>NaT</td>\n",
       "      <td>True</td>\n",
       "    </tr>\n",
       "    <tr>\n",
       "      <th>143</th>\n",
       "      <td>1143</td>\n",
       "      <td>Lorina</td>\n",
       "      <td>Stevens</td>\n",
       "      <td>69</td>\n",
       "      <td>Cincinnati, OH-KY-IN MSA</td>\n",
       "      <td>2018-10-26</td>\n",
       "      <td>surf</td>\n",
       "      <td>NaT</td>\n",
       "      <td>True</td>\n",
       "    </tr>\n",
       "  </tbody>\n",
       "</table>\n",
       "</div>"
      ],
      "text/plain": [
       "     user_id first_name  last_name  age  \\\n",
       "187     1187     Tanner    Goodman   49   \n",
       "339     1339   Mariette     Mclean   27   \n",
       "129     1129      Marin     Bolton   70   \n",
       "15      1015      Beata  Carpenter   26   \n",
       "20      1020      Rutha       Bell   56   \n",
       "32      1032     Delila     Dalton   59   \n",
       "413     1413      Andre    Hensley   38   \n",
       "305     1305      Gwenn      Gross   18   \n",
       "388     1388        Thu       Noel   75   \n",
       "143     1143     Lorina    Stevens   69   \n",
       "\n",
       "                                          city   reg_date      plan  \\\n",
       "187       Austin-Round Rock-Georgetown, TX MSA 2018-02-20      surf   \n",
       "339      Charlotte-Concord-Gastonia, NC-SC MSA 2018-03-03      surf   \n",
       "129                        Baton Rouge, LA MSA 2018-11-10      surf   \n",
       "15                          Pittsburgh, PA MSA 2018-12-05      surf   \n",
       "20         Dallas-Fort Worth-Arlington, TX MSA 2018-11-08      surf   \n",
       "32                   Birmingham-Hoover, AL MSA 2018-06-07  ultimate   \n",
       "413                        Bakersfield, CA MSA 2018-07-12      surf   \n",
       "305     Los Angeles-Long Beach-Anaheim, CA MSA 2018-05-08      surf   \n",
       "388  New York-Newark-Jersey City, NY-NJ-PA MSA 2018-03-28  ultimate   \n",
       "143                   Cincinnati, OH-KY-IN MSA 2018-10-26      surf   \n",
       "\n",
       "    churn_date  active_user  \n",
       "187        NaT         True  \n",
       "339        NaT         True  \n",
       "129 2018-12-27        False  \n",
       "15         NaT         True  \n",
       "20         NaT         True  \n",
       "32         NaT         True  \n",
       "413        NaT         True  \n",
       "305        NaT         True  \n",
       "388        NaT         True  \n",
       "143        NaT         True  "
      ]
     },
     "metadata": {},
     "output_type": "display_data"
    }
   ],
   "source": [
    "users['active_user'] = pd.isna(users['churn_date'])\n",
    "\n",
    "display(users.sample(10, random_state=765))"
   ]
  },
  {
   "cell_type": "markdown",
   "metadata": {},
   "source": [
    "**I've created a new column to show true/false for users currently active and those who are not. this may or may not be useful, since they have contributed to overall revenue, but may cause inconsistencies in calculations later down the line**"
   ]
  },
  {
   "cell_type": "markdown",
   "metadata": {},
   "source": [
    "## Calls"
   ]
  },
  {
   "cell_type": "code",
   "execution_count": 10,
   "metadata": {},
   "outputs": [
    {
     "name": "stdout",
     "output_type": "stream",
     "text": [
      "<class 'pandas.core.frame.DataFrame'>\n",
      "RangeIndex: 137735 entries, 0 to 137734\n",
      "Data columns (total 4 columns):\n",
      " #   Column     Non-Null Count   Dtype  \n",
      "---  ------     --------------   -----  \n",
      " 0   id         137735 non-null  object \n",
      " 1   user_id    137735 non-null  int64  \n",
      " 2   call_date  137735 non-null  object \n",
      " 3   duration   137735 non-null  float64\n",
      "dtypes: float64(1), int64(1), object(2)\n",
      "memory usage: 4.2+ MB\n"
     ]
    }
   ],
   "source": [
    "# Print the general/summary information about the calls' DataFrame\n",
    "\n",
    "calls.info()"
   ]
  },
  {
   "cell_type": "markdown",
   "metadata": {},
   "source": [
    "**we have a column containing dates, needing conversion to datetime dtype. also, MegaLine rounds all calls to flat minutes, so float64 will not fly**"
   ]
  },
  {
   "cell_type": "code",
   "execution_count": 11,
   "metadata": {},
   "outputs": [
    {
     "data": {
      "text/html": [
       "<div>\n",
       "<style scoped>\n",
       "    .dataframe tbody tr th:only-of-type {\n",
       "        vertical-align: middle;\n",
       "    }\n",
       "\n",
       "    .dataframe tbody tr th {\n",
       "        vertical-align: top;\n",
       "    }\n",
       "\n",
       "    .dataframe thead th {\n",
       "        text-align: right;\n",
       "    }\n",
       "</style>\n",
       "<table border=\"1\" class=\"dataframe\">\n",
       "  <thead>\n",
       "    <tr style=\"text-align: right;\">\n",
       "      <th></th>\n",
       "      <th>id</th>\n",
       "      <th>user_id</th>\n",
       "      <th>call_date</th>\n",
       "      <th>duration</th>\n",
       "    </tr>\n",
       "  </thead>\n",
       "  <tbody>\n",
       "    <tr>\n",
       "      <th>115427</th>\n",
       "      <td>1404_221</td>\n",
       "      <td>1404</td>\n",
       "      <td>2018-10-31</td>\n",
       "      <td>5.51</td>\n",
       "    </tr>\n",
       "    <tr>\n",
       "      <th>121192</th>\n",
       "      <td>1425_158</td>\n",
       "      <td>1425</td>\n",
       "      <td>2018-10-27</td>\n",
       "      <td>0.00</td>\n",
       "    </tr>\n",
       "    <tr>\n",
       "      <th>80301</th>\n",
       "      <td>1289_211</td>\n",
       "      <td>1289</td>\n",
       "      <td>2018-12-27</td>\n",
       "      <td>13.49</td>\n",
       "    </tr>\n",
       "    <tr>\n",
       "      <th>30609</th>\n",
       "      <td>1114_528</td>\n",
       "      <td>1114</td>\n",
       "      <td>2018-12-25</td>\n",
       "      <td>0.00</td>\n",
       "    </tr>\n",
       "    <tr>\n",
       "      <th>74311</th>\n",
       "      <td>1263_295</td>\n",
       "      <td>1263</td>\n",
       "      <td>2018-11-07</td>\n",
       "      <td>16.34</td>\n",
       "    </tr>\n",
       "    <tr>\n",
       "      <th>54094</th>\n",
       "      <td>1195_264</td>\n",
       "      <td>1195</td>\n",
       "      <td>2018-09-25</td>\n",
       "      <td>2.82</td>\n",
       "    </tr>\n",
       "    <tr>\n",
       "      <th>29452</th>\n",
       "      <td>1111_88</td>\n",
       "      <td>1111</td>\n",
       "      <td>2018-12-21</td>\n",
       "      <td>16.70</td>\n",
       "    </tr>\n",
       "    <tr>\n",
       "      <th>41526</th>\n",
       "      <td>1153_206</td>\n",
       "      <td>1153</td>\n",
       "      <td>2018-10-15</td>\n",
       "      <td>14.03</td>\n",
       "    </tr>\n",
       "    <tr>\n",
       "      <th>106540</th>\n",
       "      <td>1377_92</td>\n",
       "      <td>1377</td>\n",
       "      <td>2018-12-16</td>\n",
       "      <td>16.12</td>\n",
       "    </tr>\n",
       "  </tbody>\n",
       "</table>\n",
       "</div>"
      ],
      "text/plain": [
       "              id  user_id   call_date  duration\n",
       "115427  1404_221     1404  2018-10-31      5.51\n",
       "121192  1425_158     1425  2018-10-27      0.00\n",
       "80301   1289_211     1289  2018-12-27     13.49\n",
       "30609   1114_528     1114  2018-12-25      0.00\n",
       "74311   1263_295     1263  2018-11-07     16.34\n",
       "54094   1195_264     1195  2018-09-25      2.82\n",
       "29452    1111_88     1111  2018-12-21     16.70\n",
       "41526   1153_206     1153  2018-10-15     14.03\n",
       "106540   1377_92     1377  2018-12-16     16.12"
      ]
     },
     "metadata": {},
     "output_type": "display_data"
    }
   ],
   "source": [
    "# Print a sample of data for calls\n",
    "\n",
    "display(calls.sample(9, random_state=723))"
   ]
  },
  {
   "cell_type": "markdown",
   "metadata": {},
   "source": [
    "**as stated above: call_date needs to be datetime dtype, and duration rounded up to the minute, regardless of proximity to the next whole number**"
   ]
  },
  {
   "cell_type": "markdown",
   "metadata": {},
   "source": [
    "[Describe what you see and notice in the general information and the printed data sample for the above price of data. Are there any issues (inappropriate data types, missing data etc) that may need further investigation and changes? How that can be fixed?]"
   ]
  },
  {
   "cell_type": "markdown",
   "metadata": {},
   "source": [
    " "
   ]
  },
  {
   "cell_type": "markdown",
   "metadata": {},
   "source": [
    "### Fix data"
   ]
  },
  {
   "cell_type": "markdown",
   "metadata": {},
   "source": [
    "[Fix obvious issues with the data given the initial observations.]"
   ]
  },
  {
   "cell_type": "code",
   "execution_count": 12,
   "metadata": {},
   "outputs": [
    {
     "name": "stdout",
     "output_type": "stream",
     "text": [
      "<class 'pandas.core.frame.DataFrame'>\n",
      "RangeIndex: 137735 entries, 0 to 137734\n",
      "Data columns (total 4 columns):\n",
      " #   Column     Non-Null Count   Dtype         \n",
      "---  ------     --------------   -----         \n",
      " 0   id         137735 non-null  object        \n",
      " 1   user_id    137735 non-null  int64         \n",
      " 2   call_date  137735 non-null  datetime64[ns]\n",
      " 3   duration   137735 non-null  int64         \n",
      "dtypes: datetime64[ns](1), int64(2), object(1)\n",
      "memory usage: 4.2+ MB\n",
      "\n"
     ]
    },
    {
     "data": {
      "text/html": [
       "<div>\n",
       "<style scoped>\n",
       "    .dataframe tbody tr th:only-of-type {\n",
       "        vertical-align: middle;\n",
       "    }\n",
       "\n",
       "    .dataframe tbody tr th {\n",
       "        vertical-align: top;\n",
       "    }\n",
       "\n",
       "    .dataframe thead th {\n",
       "        text-align: right;\n",
       "    }\n",
       "</style>\n",
       "<table border=\"1\" class=\"dataframe\">\n",
       "  <thead>\n",
       "    <tr style=\"text-align: right;\">\n",
       "      <th></th>\n",
       "      <th>id</th>\n",
       "      <th>user_id</th>\n",
       "      <th>call_date</th>\n",
       "      <th>duration</th>\n",
       "    </tr>\n",
       "  </thead>\n",
       "  <tbody>\n",
       "    <tr>\n",
       "      <th>115427</th>\n",
       "      <td>1404_221</td>\n",
       "      <td>1404</td>\n",
       "      <td>2018-10-31</td>\n",
       "      <td>6</td>\n",
       "    </tr>\n",
       "    <tr>\n",
       "      <th>121192</th>\n",
       "      <td>1425_158</td>\n",
       "      <td>1425</td>\n",
       "      <td>2018-10-27</td>\n",
       "      <td>0</td>\n",
       "    </tr>\n",
       "    <tr>\n",
       "      <th>80301</th>\n",
       "      <td>1289_211</td>\n",
       "      <td>1289</td>\n",
       "      <td>2018-12-27</td>\n",
       "      <td>14</td>\n",
       "    </tr>\n",
       "    <tr>\n",
       "      <th>30609</th>\n",
       "      <td>1114_528</td>\n",
       "      <td>1114</td>\n",
       "      <td>2018-12-25</td>\n",
       "      <td>0</td>\n",
       "    </tr>\n",
       "    <tr>\n",
       "      <th>74311</th>\n",
       "      <td>1263_295</td>\n",
       "      <td>1263</td>\n",
       "      <td>2018-11-07</td>\n",
       "      <td>17</td>\n",
       "    </tr>\n",
       "    <tr>\n",
       "      <th>54094</th>\n",
       "      <td>1195_264</td>\n",
       "      <td>1195</td>\n",
       "      <td>2018-09-25</td>\n",
       "      <td>3</td>\n",
       "    </tr>\n",
       "    <tr>\n",
       "      <th>29452</th>\n",
       "      <td>1111_88</td>\n",
       "      <td>1111</td>\n",
       "      <td>2018-12-21</td>\n",
       "      <td>17</td>\n",
       "    </tr>\n",
       "    <tr>\n",
       "      <th>41526</th>\n",
       "      <td>1153_206</td>\n",
       "      <td>1153</td>\n",
       "      <td>2018-10-15</td>\n",
       "      <td>15</td>\n",
       "    </tr>\n",
       "    <tr>\n",
       "      <th>106540</th>\n",
       "      <td>1377_92</td>\n",
       "      <td>1377</td>\n",
       "      <td>2018-12-16</td>\n",
       "      <td>17</td>\n",
       "    </tr>\n",
       "  </tbody>\n",
       "</table>\n",
       "</div>"
      ],
      "text/plain": [
       "              id  user_id  call_date  duration\n",
       "115427  1404_221     1404 2018-10-31         6\n",
       "121192  1425_158     1425 2018-10-27         0\n",
       "80301   1289_211     1289 2018-12-27        14\n",
       "30609   1114_528     1114 2018-12-25         0\n",
       "74311   1263_295     1263 2018-11-07        17\n",
       "54094   1195_264     1195 2018-09-25         3\n",
       "29452    1111_88     1111 2018-12-21        17\n",
       "41526   1153_206     1153 2018-10-15        15\n",
       "106540   1377_92     1377 2018-12-16        17"
      ]
     },
     "metadata": {},
     "output_type": "display_data"
    },
    {
     "name": "stdout",
     "output_type": "stream",
     "text": [
      "\n",
      "0\n"
     ]
    }
   ],
   "source": [
    "calls['call_date'] = pd.to_datetime(calls['call_date'], format='%Y-%m-%d')\n",
    "\n",
    "calls['duration'] = np.ceil(calls['duration'])\n",
    "calls['duration'] = calls['duration'].astype(int)\n",
    "\n",
    "calls.info()\n",
    "print()\n",
    "display(calls.sample(9, random_state=723))\n",
    "print()\n",
    "print(calls.duplicated().sum())"
   ]
  },
  {
   "cell_type": "markdown",
   "metadata": {},
   "source": [
    "<div style=\"background-color: #d4edda; color: #155724; padding: 15px; border-radius: 4px; border: 1px solid #c3e6cb;\">\n",
    "\n",
    "<b>Reviewer's comment v1:</b>\n",
    "    \n",
    "Great job! Good that you did not forget about data rounding. Also, great choice of `np.ceil ()`"
   ]
  },
  {
   "cell_type": "markdown",
   "metadata": {},
   "source": [
    "**much better, we have successfuly made the neccessary changes. then displayed both the info and matching random sample, in order to cross referenace and make sure our conversion was successful**"
   ]
  },
  {
   "cell_type": "markdown",
   "metadata": {},
   "source": [
    "### Enrich data"
   ]
  },
  {
   "cell_type": "markdown",
   "metadata": {},
   "source": [
    "[Add additional factors to the data if you believe they might be useful.]"
   ]
  },
  {
   "cell_type": "markdown",
   "metadata": {},
   "source": [
    "**to my current understanding the dataframe is now ready, and the columns we need have been converted accordingly**"
   ]
  },
  {
   "cell_type": "markdown",
   "metadata": {},
   "source": [
    "## Messages"
   ]
  },
  {
   "cell_type": "code",
   "execution_count": 13,
   "metadata": {},
   "outputs": [
    {
     "name": "stdout",
     "output_type": "stream",
     "text": [
      "<class 'pandas.core.frame.DataFrame'>\n",
      "RangeIndex: 76051 entries, 0 to 76050\n",
      "Data columns (total 3 columns):\n",
      " #   Column        Non-Null Count  Dtype \n",
      "---  ------        --------------  ----- \n",
      " 0   id            76051 non-null  object\n",
      " 1   user_id       76051 non-null  int64 \n",
      " 2   message_date  76051 non-null  object\n",
      "dtypes: int64(1), object(2)\n",
      "memory usage: 1.7+ MB\n"
     ]
    }
   ],
   "source": [
    "# Print the general/summary information about the messages' DataFrame\n",
    "\n",
    "messages.info()"
   ]
  },
  {
   "cell_type": "code",
   "execution_count": 14,
   "metadata": {},
   "outputs": [
    {
     "data": {
      "text/html": [
       "<div>\n",
       "<style scoped>\n",
       "    .dataframe tbody tr th:only-of-type {\n",
       "        vertical-align: middle;\n",
       "    }\n",
       "\n",
       "    .dataframe tbody tr th {\n",
       "        vertical-align: top;\n",
       "    }\n",
       "\n",
       "    .dataframe thead th {\n",
       "        text-align: right;\n",
       "    }\n",
       "</style>\n",
       "<table border=\"1\" class=\"dataframe\">\n",
       "  <thead>\n",
       "    <tr style=\"text-align: right;\">\n",
       "      <th></th>\n",
       "      <th>id</th>\n",
       "      <th>user_id</th>\n",
       "      <th>message_date</th>\n",
       "    </tr>\n",
       "  </thead>\n",
       "  <tbody>\n",
       "    <tr>\n",
       "      <th>7129</th>\n",
       "      <td>1058_193</td>\n",
       "      <td>1058</td>\n",
       "      <td>2018-11-29</td>\n",
       "    </tr>\n",
       "    <tr>\n",
       "      <th>12512</th>\n",
       "      <td>1082_28</td>\n",
       "      <td>1082</td>\n",
       "      <td>2018-08-23</td>\n",
       "    </tr>\n",
       "    <tr>\n",
       "      <th>58539</th>\n",
       "      <td>1372_11</td>\n",
       "      <td>1372</td>\n",
       "      <td>2018-12-25</td>\n",
       "    </tr>\n",
       "    <tr>\n",
       "      <th>7057</th>\n",
       "      <td>1057_381</td>\n",
       "      <td>1057</td>\n",
       "      <td>2018-10-17</td>\n",
       "    </tr>\n",
       "    <tr>\n",
       "      <th>49423</th>\n",
       "      <td>1328_381</td>\n",
       "      <td>1328</td>\n",
       "      <td>2018-09-18</td>\n",
       "    </tr>\n",
       "    <tr>\n",
       "      <th>28450</th>\n",
       "      <td>1174_240</td>\n",
       "      <td>1174</td>\n",
       "      <td>2018-11-06</td>\n",
       "    </tr>\n",
       "    <tr>\n",
       "      <th>20393</th>\n",
       "      <td>1130_68</td>\n",
       "      <td>1130</td>\n",
       "      <td>2018-09-18</td>\n",
       "    </tr>\n",
       "    <tr>\n",
       "      <th>69805</th>\n",
       "      <td>1454_167</td>\n",
       "      <td>1454</td>\n",
       "      <td>2018-07-28</td>\n",
       "    </tr>\n",
       "    <tr>\n",
       "      <th>37040</th>\n",
       "      <td>1247_204</td>\n",
       "      <td>1247</td>\n",
       "      <td>2018-10-26</td>\n",
       "    </tr>\n",
       "  </tbody>\n",
       "</table>\n",
       "</div>"
      ],
      "text/plain": [
       "             id  user_id message_date\n",
       "7129   1058_193     1058   2018-11-29\n",
       "12512   1082_28     1082   2018-08-23\n",
       "58539   1372_11     1372   2018-12-25\n",
       "7057   1057_381     1057   2018-10-17\n",
       "49423  1328_381     1328   2018-09-18\n",
       "28450  1174_240     1174   2018-11-06\n",
       "20393   1130_68     1130   2018-09-18\n",
       "69805  1454_167     1454   2018-07-28\n",
       "37040  1247_204     1247   2018-10-26"
      ]
     },
     "metadata": {},
     "output_type": "display_data"
    }
   ],
   "source": [
    "# Print a sample of data for messages\n",
    "\n",
    "display(messages.sample(9, random_state=999))"
   ]
  },
  {
   "cell_type": "markdown",
   "metadata": {},
   "source": [
    "**message_date needs conversion to datetime dtype**"
   ]
  },
  {
   "cell_type": "markdown",
   "metadata": {},
   "source": [
    "[Describe what you see and notice in the general information and the printed data sample for the above price of data. Are there any issues (inappropriate data types, missing data etc) that may need further investigation and changes? How that can be fixed?]"
   ]
  },
  {
   "cell_type": "markdown",
   "metadata": {},
   "source": [
    " "
   ]
  },
  {
   "cell_type": "markdown",
   "metadata": {},
   "source": [
    "### Fix data"
   ]
  },
  {
   "cell_type": "markdown",
   "metadata": {},
   "source": [
    "[Fix obvious issues with the data given the initial observations.]"
   ]
  },
  {
   "cell_type": "code",
   "execution_count": 15,
   "metadata": {},
   "outputs": [
    {
     "name": "stdout",
     "output_type": "stream",
     "text": [
      "<class 'pandas.core.frame.DataFrame'>\n",
      "RangeIndex: 76051 entries, 0 to 76050\n",
      "Data columns (total 3 columns):\n",
      " #   Column        Non-Null Count  Dtype         \n",
      "---  ------        --------------  -----         \n",
      " 0   id            76051 non-null  object        \n",
      " 1   user_id       76051 non-null  int64         \n",
      " 2   message_date  76051 non-null  datetime64[ns]\n",
      "dtypes: datetime64[ns](1), int64(1), object(1)\n",
      "memory usage: 1.7+ MB\n",
      "\n"
     ]
    },
    {
     "data": {
      "text/html": [
       "<div>\n",
       "<style scoped>\n",
       "    .dataframe tbody tr th:only-of-type {\n",
       "        vertical-align: middle;\n",
       "    }\n",
       "\n",
       "    .dataframe tbody tr th {\n",
       "        vertical-align: top;\n",
       "    }\n",
       "\n",
       "    .dataframe thead th {\n",
       "        text-align: right;\n",
       "    }\n",
       "</style>\n",
       "<table border=\"1\" class=\"dataframe\">\n",
       "  <thead>\n",
       "    <tr style=\"text-align: right;\">\n",
       "      <th></th>\n",
       "      <th>id</th>\n",
       "      <th>user_id</th>\n",
       "      <th>message_date</th>\n",
       "    </tr>\n",
       "  </thead>\n",
       "  <tbody>\n",
       "    <tr>\n",
       "      <th>7129</th>\n",
       "      <td>1058_193</td>\n",
       "      <td>1058</td>\n",
       "      <td>2018-11-29</td>\n",
       "    </tr>\n",
       "    <tr>\n",
       "      <th>12512</th>\n",
       "      <td>1082_28</td>\n",
       "      <td>1082</td>\n",
       "      <td>2018-08-23</td>\n",
       "    </tr>\n",
       "    <tr>\n",
       "      <th>58539</th>\n",
       "      <td>1372_11</td>\n",
       "      <td>1372</td>\n",
       "      <td>2018-12-25</td>\n",
       "    </tr>\n",
       "    <tr>\n",
       "      <th>7057</th>\n",
       "      <td>1057_381</td>\n",
       "      <td>1057</td>\n",
       "      <td>2018-10-17</td>\n",
       "    </tr>\n",
       "    <tr>\n",
       "      <th>49423</th>\n",
       "      <td>1328_381</td>\n",
       "      <td>1328</td>\n",
       "      <td>2018-09-18</td>\n",
       "    </tr>\n",
       "    <tr>\n",
       "      <th>28450</th>\n",
       "      <td>1174_240</td>\n",
       "      <td>1174</td>\n",
       "      <td>2018-11-06</td>\n",
       "    </tr>\n",
       "    <tr>\n",
       "      <th>20393</th>\n",
       "      <td>1130_68</td>\n",
       "      <td>1130</td>\n",
       "      <td>2018-09-18</td>\n",
       "    </tr>\n",
       "    <tr>\n",
       "      <th>69805</th>\n",
       "      <td>1454_167</td>\n",
       "      <td>1454</td>\n",
       "      <td>2018-07-28</td>\n",
       "    </tr>\n",
       "    <tr>\n",
       "      <th>37040</th>\n",
       "      <td>1247_204</td>\n",
       "      <td>1247</td>\n",
       "      <td>2018-10-26</td>\n",
       "    </tr>\n",
       "  </tbody>\n",
       "</table>\n",
       "</div>"
      ],
      "text/plain": [
       "             id  user_id message_date\n",
       "7129   1058_193     1058   2018-11-29\n",
       "12512   1082_28     1082   2018-08-23\n",
       "58539   1372_11     1372   2018-12-25\n",
       "7057   1057_381     1057   2018-10-17\n",
       "49423  1328_381     1328   2018-09-18\n",
       "28450  1174_240     1174   2018-11-06\n",
       "20393   1130_68     1130   2018-09-18\n",
       "69805  1454_167     1454   2018-07-28\n",
       "37040  1247_204     1247   2018-10-26"
      ]
     },
     "metadata": {},
     "output_type": "display_data"
    },
    {
     "name": "stdout",
     "output_type": "stream",
     "text": [
      "\n",
      "0\n"
     ]
    }
   ],
   "source": [
    "messages['message_date'] = pd.to_datetime(messages['message_date'], format='%Y-%m-%d')\n",
    "\n",
    "messages.info()\n",
    "print()\n",
    "display(messages.sample(9, random_state=999))\n",
    "print()\n",
    "print(messages.duplicated().sum())"
   ]
  },
  {
   "cell_type": "markdown",
   "metadata": {},
   "source": [
    "### Enrich data"
   ]
  },
  {
   "cell_type": "markdown",
   "metadata": {},
   "source": [
    "[Add additional factors to the data if you believe they might be useful.]"
   ]
  },
  {
   "cell_type": "markdown",
   "metadata": {},
   "source": [
    "**with the conversion applied, nothing else stands out as needing to be changed**"
   ]
  },
  {
   "cell_type": "markdown",
   "metadata": {},
   "source": [
    "## Internet"
   ]
  },
  {
   "cell_type": "code",
   "execution_count": 16,
   "metadata": {},
   "outputs": [
    {
     "name": "stdout",
     "output_type": "stream",
     "text": [
      "<class 'pandas.core.frame.DataFrame'>\n",
      "RangeIndex: 104825 entries, 0 to 104824\n",
      "Data columns (total 4 columns):\n",
      " #   Column        Non-Null Count   Dtype  \n",
      "---  ------        --------------   -----  \n",
      " 0   id            104825 non-null  object \n",
      " 1   user_id       104825 non-null  int64  \n",
      " 2   session_date  104825 non-null  object \n",
      " 3   mb_used       104825 non-null  float64\n",
      "dtypes: float64(1), int64(1), object(2)\n",
      "memory usage: 3.2+ MB\n"
     ]
    }
   ],
   "source": [
    "# Print the general/summary information about the internet DataFrame\n",
    "\n",
    "internet.info()"
   ]
  },
  {
   "cell_type": "code",
   "execution_count": 17,
   "metadata": {},
   "outputs": [
    {
     "data": {
      "text/html": [
       "<div>\n",
       "<style scoped>\n",
       "    .dataframe tbody tr th:only-of-type {\n",
       "        vertical-align: middle;\n",
       "    }\n",
       "\n",
       "    .dataframe tbody tr th {\n",
       "        vertical-align: top;\n",
       "    }\n",
       "\n",
       "    .dataframe thead th {\n",
       "        text-align: right;\n",
       "    }\n",
       "</style>\n",
       "<table border=\"1\" class=\"dataframe\">\n",
       "  <thead>\n",
       "    <tr style=\"text-align: right;\">\n",
       "      <th></th>\n",
       "      <th>id</th>\n",
       "      <th>user_id</th>\n",
       "      <th>session_date</th>\n",
       "      <th>mb_used</th>\n",
       "    </tr>\n",
       "  </thead>\n",
       "  <tbody>\n",
       "    <tr>\n",
       "      <th>51998</th>\n",
       "      <td>1233_78</td>\n",
       "      <td>1233</td>\n",
       "      <td>2018-12-27</td>\n",
       "      <td>500.89</td>\n",
       "    </tr>\n",
       "    <tr>\n",
       "      <th>38647</th>\n",
       "      <td>1173_135</td>\n",
       "      <td>1173</td>\n",
       "      <td>2018-12-07</td>\n",
       "      <td>684.99</td>\n",
       "    </tr>\n",
       "    <tr>\n",
       "      <th>74619</th>\n",
       "      <td>1351_105</td>\n",
       "      <td>1351</td>\n",
       "      <td>2018-11-29</td>\n",
       "      <td>434.23</td>\n",
       "    </tr>\n",
       "    <tr>\n",
       "      <th>1914</th>\n",
       "      <td>1010_70</td>\n",
       "      <td>1010</td>\n",
       "      <td>2018-03-26</td>\n",
       "      <td>615.04</td>\n",
       "    </tr>\n",
       "    <tr>\n",
       "      <th>59689</th>\n",
       "      <td>1268_358</td>\n",
       "      <td>1268</td>\n",
       "      <td>2018-10-04</td>\n",
       "      <td>908.32</td>\n",
       "    </tr>\n",
       "    <tr>\n",
       "      <th>13784</th>\n",
       "      <td>1064_232</td>\n",
       "      <td>1064</td>\n",
       "      <td>2018-12-03</td>\n",
       "      <td>547.66</td>\n",
       "    </tr>\n",
       "    <tr>\n",
       "      <th>56941</th>\n",
       "      <td>1257_208</td>\n",
       "      <td>1257</td>\n",
       "      <td>2018-07-21</td>\n",
       "      <td>443.72</td>\n",
       "    </tr>\n",
       "    <tr>\n",
       "      <th>85444</th>\n",
       "      <td>1399_51</td>\n",
       "      <td>1399</td>\n",
       "      <td>2018-11-01</td>\n",
       "      <td>625.08</td>\n",
       "    </tr>\n",
       "    <tr>\n",
       "      <th>26549</th>\n",
       "      <td>1123_44</td>\n",
       "      <td>1123</td>\n",
       "      <td>2018-11-21</td>\n",
       "      <td>347.27</td>\n",
       "    </tr>\n",
       "  </tbody>\n",
       "</table>\n",
       "</div>"
      ],
      "text/plain": [
       "             id  user_id session_date  mb_used\n",
       "51998   1233_78     1233   2018-12-27   500.89\n",
       "38647  1173_135     1173   2018-12-07   684.99\n",
       "74619  1351_105     1351   2018-11-29   434.23\n",
       "1914    1010_70     1010   2018-03-26   615.04\n",
       "59689  1268_358     1268   2018-10-04   908.32\n",
       "13784  1064_232     1064   2018-12-03   547.66\n",
       "56941  1257_208     1257   2018-07-21   443.72\n",
       "85444   1399_51     1399   2018-11-01   625.08\n",
       "26549   1123_44     1123   2018-11-21   347.27"
      ]
     },
     "metadata": {},
     "output_type": "display_data"
    }
   ],
   "source": [
    "# Print a sample of data for the internet traffic\n",
    "\n",
    "display(internet.sample(9, random_state=777))"
   ]
  },
  {
   "cell_type": "markdown",
   "metadata": {},
   "source": [
    "**session_date needs conversion to datetime dtype, and I will be creating a new column with gb_used. since the total for the month will be rounded up to the next GB whole number anyway, it will be easier to find the sum with already converted units**"
   ]
  },
  {
   "cell_type": "markdown",
   "metadata": {},
   "source": [
    "[Describe what you see and notice in the general information and the printed data sample for the above price of data. Are there any issues (inappropriate data types, missing data etc) that may need further investigation and changes? How that can be fixed?]"
   ]
  },
  {
   "cell_type": "markdown",
   "metadata": {},
   "source": [
    " "
   ]
  },
  {
   "cell_type": "markdown",
   "metadata": {},
   "source": [
    "### Fix data"
   ]
  },
  {
   "cell_type": "markdown",
   "metadata": {},
   "source": [
    "[Fix obvious issues with the data given the initial observations.]"
   ]
  },
  {
   "cell_type": "code",
   "execution_count": 18,
   "metadata": {},
   "outputs": [
    {
     "name": "stdout",
     "output_type": "stream",
     "text": [
      "<class 'pandas.core.frame.DataFrame'>\n",
      "RangeIndex: 104825 entries, 0 to 104824\n",
      "Data columns (total 4 columns):\n",
      " #   Column        Non-Null Count   Dtype         \n",
      "---  ------        --------------   -----         \n",
      " 0   id            104825 non-null  object        \n",
      " 1   user_id       104825 non-null  int64         \n",
      " 2   session_date  104825 non-null  datetime64[ns]\n",
      " 3   mb_used       104825 non-null  float64       \n",
      "dtypes: datetime64[ns](1), float64(1), int64(1), object(1)\n",
      "memory usage: 3.2+ MB\n",
      "\n"
     ]
    },
    {
     "data": {
      "text/html": [
       "<div>\n",
       "<style scoped>\n",
       "    .dataframe tbody tr th:only-of-type {\n",
       "        vertical-align: middle;\n",
       "    }\n",
       "\n",
       "    .dataframe tbody tr th {\n",
       "        vertical-align: top;\n",
       "    }\n",
       "\n",
       "    .dataframe thead th {\n",
       "        text-align: right;\n",
       "    }\n",
       "</style>\n",
       "<table border=\"1\" class=\"dataframe\">\n",
       "  <thead>\n",
       "    <tr style=\"text-align: right;\">\n",
       "      <th></th>\n",
       "      <th>id</th>\n",
       "      <th>user_id</th>\n",
       "      <th>session_date</th>\n",
       "      <th>mb_used</th>\n",
       "    </tr>\n",
       "  </thead>\n",
       "  <tbody>\n",
       "    <tr>\n",
       "      <th>51998</th>\n",
       "      <td>1233_78</td>\n",
       "      <td>1233</td>\n",
       "      <td>2018-12-27</td>\n",
       "      <td>500.89</td>\n",
       "    </tr>\n",
       "    <tr>\n",
       "      <th>38647</th>\n",
       "      <td>1173_135</td>\n",
       "      <td>1173</td>\n",
       "      <td>2018-12-07</td>\n",
       "      <td>684.99</td>\n",
       "    </tr>\n",
       "    <tr>\n",
       "      <th>74619</th>\n",
       "      <td>1351_105</td>\n",
       "      <td>1351</td>\n",
       "      <td>2018-11-29</td>\n",
       "      <td>434.23</td>\n",
       "    </tr>\n",
       "    <tr>\n",
       "      <th>1914</th>\n",
       "      <td>1010_70</td>\n",
       "      <td>1010</td>\n",
       "      <td>2018-03-26</td>\n",
       "      <td>615.04</td>\n",
       "    </tr>\n",
       "    <tr>\n",
       "      <th>59689</th>\n",
       "      <td>1268_358</td>\n",
       "      <td>1268</td>\n",
       "      <td>2018-10-04</td>\n",
       "      <td>908.32</td>\n",
       "    </tr>\n",
       "    <tr>\n",
       "      <th>13784</th>\n",
       "      <td>1064_232</td>\n",
       "      <td>1064</td>\n",
       "      <td>2018-12-03</td>\n",
       "      <td>547.66</td>\n",
       "    </tr>\n",
       "    <tr>\n",
       "      <th>56941</th>\n",
       "      <td>1257_208</td>\n",
       "      <td>1257</td>\n",
       "      <td>2018-07-21</td>\n",
       "      <td>443.72</td>\n",
       "    </tr>\n",
       "    <tr>\n",
       "      <th>85444</th>\n",
       "      <td>1399_51</td>\n",
       "      <td>1399</td>\n",
       "      <td>2018-11-01</td>\n",
       "      <td>625.08</td>\n",
       "    </tr>\n",
       "    <tr>\n",
       "      <th>26549</th>\n",
       "      <td>1123_44</td>\n",
       "      <td>1123</td>\n",
       "      <td>2018-11-21</td>\n",
       "      <td>347.27</td>\n",
       "    </tr>\n",
       "  </tbody>\n",
       "</table>\n",
       "</div>"
      ],
      "text/plain": [
       "             id  user_id session_date  mb_used\n",
       "51998   1233_78     1233   2018-12-27   500.89\n",
       "38647  1173_135     1173   2018-12-07   684.99\n",
       "74619  1351_105     1351   2018-11-29   434.23\n",
       "1914    1010_70     1010   2018-03-26   615.04\n",
       "59689  1268_358     1268   2018-10-04   908.32\n",
       "13784  1064_232     1064   2018-12-03   547.66\n",
       "56941  1257_208     1257   2018-07-21   443.72\n",
       "85444   1399_51     1399   2018-11-01   625.08\n",
       "26549   1123_44     1123   2018-11-21   347.27"
      ]
     },
     "metadata": {},
     "output_type": "display_data"
    },
    {
     "name": "stdout",
     "output_type": "stream",
     "text": [
      "\n",
      "0\n"
     ]
    }
   ],
   "source": [
    "internet['session_date'] = pd.to_datetime(internet['session_date'], format='%Y-%m-%d')\n",
    "\n",
    "internet.info()\n",
    "print()\n",
    "display(internet.sample(9, random_state=777))\n",
    "print()\n",
    "print(internet.duplicated().sum())"
   ]
  },
  {
   "cell_type": "markdown",
   "metadata": {},
   "source": [
    "**conversion to datetime was a success and our data remains outwardly untouched**"
   ]
  },
  {
   "cell_type": "markdown",
   "metadata": {},
   "source": [
    "### Enrich data"
   ]
  },
  {
   "cell_type": "markdown",
   "metadata": {},
   "source": [
    "[Add additional factors to the data if you believe they might be useful.]"
   ]
  },
  {
   "cell_type": "code",
   "execution_count": 19,
   "metadata": {},
   "outputs": [
    {
     "name": "stdout",
     "output_type": "stream",
     "text": [
      "<class 'pandas.core.frame.DataFrame'>\n",
      "RangeIndex: 104825 entries, 0 to 104824\n",
      "Data columns (total 5 columns):\n",
      " #   Column        Non-Null Count   Dtype         \n",
      "---  ------        --------------   -----         \n",
      " 0   id            104825 non-null  object        \n",
      " 1   user_id       104825 non-null  int64         \n",
      " 2   session_date  104825 non-null  datetime64[ns]\n",
      " 3   mb_used       104825 non-null  float64       \n",
      " 4   gb_used       104825 non-null  float64       \n",
      "dtypes: datetime64[ns](1), float64(2), int64(1), object(1)\n",
      "memory usage: 4.0+ MB\n",
      "\n"
     ]
    },
    {
     "data": {
      "text/html": [
       "<div>\n",
       "<style scoped>\n",
       "    .dataframe tbody tr th:only-of-type {\n",
       "        vertical-align: middle;\n",
       "    }\n",
       "\n",
       "    .dataframe tbody tr th {\n",
       "        vertical-align: top;\n",
       "    }\n",
       "\n",
       "    .dataframe thead th {\n",
       "        text-align: right;\n",
       "    }\n",
       "</style>\n",
       "<table border=\"1\" class=\"dataframe\">\n",
       "  <thead>\n",
       "    <tr style=\"text-align: right;\">\n",
       "      <th></th>\n",
       "      <th>id</th>\n",
       "      <th>user_id</th>\n",
       "      <th>session_date</th>\n",
       "      <th>mb_used</th>\n",
       "      <th>gb_used</th>\n",
       "    </tr>\n",
       "  </thead>\n",
       "  <tbody>\n",
       "    <tr>\n",
       "      <th>51998</th>\n",
       "      <td>1233_78</td>\n",
       "      <td>1233</td>\n",
       "      <td>2018-12-27</td>\n",
       "      <td>500.89</td>\n",
       "      <td>0.489150</td>\n",
       "    </tr>\n",
       "    <tr>\n",
       "      <th>38647</th>\n",
       "      <td>1173_135</td>\n",
       "      <td>1173</td>\n",
       "      <td>2018-12-07</td>\n",
       "      <td>684.99</td>\n",
       "      <td>0.668936</td>\n",
       "    </tr>\n",
       "    <tr>\n",
       "      <th>74619</th>\n",
       "      <td>1351_105</td>\n",
       "      <td>1351</td>\n",
       "      <td>2018-11-29</td>\n",
       "      <td>434.23</td>\n",
       "      <td>0.424053</td>\n",
       "    </tr>\n",
       "    <tr>\n",
       "      <th>1914</th>\n",
       "      <td>1010_70</td>\n",
       "      <td>1010</td>\n",
       "      <td>2018-03-26</td>\n",
       "      <td>615.04</td>\n",
       "      <td>0.600625</td>\n",
       "    </tr>\n",
       "    <tr>\n",
       "      <th>59689</th>\n",
       "      <td>1268_358</td>\n",
       "      <td>1268</td>\n",
       "      <td>2018-10-04</td>\n",
       "      <td>908.32</td>\n",
       "      <td>0.887031</td>\n",
       "    </tr>\n",
       "    <tr>\n",
       "      <th>13784</th>\n",
       "      <td>1064_232</td>\n",
       "      <td>1064</td>\n",
       "      <td>2018-12-03</td>\n",
       "      <td>547.66</td>\n",
       "      <td>0.534824</td>\n",
       "    </tr>\n",
       "    <tr>\n",
       "      <th>56941</th>\n",
       "      <td>1257_208</td>\n",
       "      <td>1257</td>\n",
       "      <td>2018-07-21</td>\n",
       "      <td>443.72</td>\n",
       "      <td>0.433320</td>\n",
       "    </tr>\n",
       "    <tr>\n",
       "      <th>85444</th>\n",
       "      <td>1399_51</td>\n",
       "      <td>1399</td>\n",
       "      <td>2018-11-01</td>\n",
       "      <td>625.08</td>\n",
       "      <td>0.610430</td>\n",
       "    </tr>\n",
       "    <tr>\n",
       "      <th>26549</th>\n",
       "      <td>1123_44</td>\n",
       "      <td>1123</td>\n",
       "      <td>2018-11-21</td>\n",
       "      <td>347.27</td>\n",
       "      <td>0.339131</td>\n",
       "    </tr>\n",
       "  </tbody>\n",
       "</table>\n",
       "</div>"
      ],
      "text/plain": [
       "             id  user_id session_date  mb_used   gb_used\n",
       "51998   1233_78     1233   2018-12-27   500.89  0.489150\n",
       "38647  1173_135     1173   2018-12-07   684.99  0.668936\n",
       "74619  1351_105     1351   2018-11-29   434.23  0.424053\n",
       "1914    1010_70     1010   2018-03-26   615.04  0.600625\n",
       "59689  1268_358     1268   2018-10-04   908.32  0.887031\n",
       "13784  1064_232     1064   2018-12-03   547.66  0.534824\n",
       "56941  1257_208     1257   2018-07-21   443.72  0.433320\n",
       "85444   1399_51     1399   2018-11-01   625.08  0.610430\n",
       "26549   1123_44     1123   2018-11-21   347.27  0.339131"
      ]
     },
     "metadata": {},
     "output_type": "display_data"
    }
   ],
   "source": [
    "internet['gb_used'] = internet['mb_used'] / 1024\n",
    "\n",
    "internet.info()\n",
    "print()\n",
    "display(internet.sample(9, random_state=777))"
   ]
  },
  {
   "cell_type": "markdown",
   "metadata": {},
   "source": [
    "**the preemptive conversion from MB to GB may or may not be as useful as I believe it to be, but something tells me it'll make things easier later on**\n",
    "\n",
    "**i.e. would I have gotten different results if finding the sum of MB, instead of converting to GB and losing half of our deciaml places... but the monthly amount is rounded up drastically anyways... so does any decimal place past 1e-6 matter if accuracy isn't what we're going for?**\n",
    "\n",
    "**in the first row above: 500.89 / 1024 = 0.489150390625 ... but our dataframe only shows 6 of the 12 decimal places**"
   ]
  },
  {
   "cell_type": "markdown",
   "metadata": {},
   "source": [
    "## Study plan conditions"
   ]
  },
  {
   "cell_type": "markdown",
   "metadata": {},
   "source": [
    "[It is critical to understand how the plans work, how users are charged based on their plan subscription. So, we suggest printing out the plan information to view their conditions once again.]"
   ]
  },
  {
   "cell_type": "code",
   "execution_count": 20,
   "metadata": {},
   "outputs": [
    {
     "data": {
      "text/html": [
       "<div>\n",
       "<style scoped>\n",
       "    .dataframe tbody tr th:only-of-type {\n",
       "        vertical-align: middle;\n",
       "    }\n",
       "\n",
       "    .dataframe tbody tr th {\n",
       "        vertical-align: top;\n",
       "    }\n",
       "\n",
       "    .dataframe thead th {\n",
       "        text-align: right;\n",
       "    }\n",
       "</style>\n",
       "<table border=\"1\" class=\"dataframe\">\n",
       "  <thead>\n",
       "    <tr style=\"text-align: right;\">\n",
       "      <th></th>\n",
       "      <th>messages_included</th>\n",
       "      <th>mb_per_month_included</th>\n",
       "      <th>minutes_included</th>\n",
       "      <th>usd_monthly_pay</th>\n",
       "      <th>usd_per_gb</th>\n",
       "      <th>usd_per_message</th>\n",
       "      <th>usd_per_minute</th>\n",
       "      <th>gb_per_month_included</th>\n",
       "    </tr>\n",
       "    <tr>\n",
       "      <th>plan_name</th>\n",
       "      <th></th>\n",
       "      <th></th>\n",
       "      <th></th>\n",
       "      <th></th>\n",
       "      <th></th>\n",
       "      <th></th>\n",
       "      <th></th>\n",
       "      <th></th>\n",
       "    </tr>\n",
       "  </thead>\n",
       "  <tbody>\n",
       "    <tr>\n",
       "      <th>surf</th>\n",
       "      <td>50</td>\n",
       "      <td>15360</td>\n",
       "      <td>500</td>\n",
       "      <td>20</td>\n",
       "      <td>10</td>\n",
       "      <td>0.03</td>\n",
       "      <td>0.03</td>\n",
       "      <td>15</td>\n",
       "    </tr>\n",
       "    <tr>\n",
       "      <th>ultimate</th>\n",
       "      <td>1000</td>\n",
       "      <td>30720</td>\n",
       "      <td>3000</td>\n",
       "      <td>70</td>\n",
       "      <td>7</td>\n",
       "      <td>0.01</td>\n",
       "      <td>0.01</td>\n",
       "      <td>30</td>\n",
       "    </tr>\n",
       "  </tbody>\n",
       "</table>\n",
       "</div>"
      ],
      "text/plain": [
       "           messages_included  mb_per_month_included  minutes_included  \\\n",
       "plan_name                                                               \n",
       "surf                      50                  15360               500   \n",
       "ultimate                1000                  30720              3000   \n",
       "\n",
       "           usd_monthly_pay  usd_per_gb  usd_per_message  usd_per_minute  \\\n",
       "plan_name                                                                 \n",
       "surf                    20          10             0.03            0.03   \n",
       "ultimate                70           7             0.01            0.01   \n",
       "\n",
       "           gb_per_month_included  \n",
       "plan_name                         \n",
       "surf                          15  \n",
       "ultimate                      30  "
      ]
     },
     "metadata": {},
     "output_type": "display_data"
    }
   ],
   "source": [
    "# Print out the plan conditions and make sure they are clear for you\n",
    "\n",
    "display(plans)"
   ]
  },
  {
   "cell_type": "markdown",
   "metadata": {},
   "source": [
    "<div style=\"background-color: #d4edda; color: #155724; padding: 15px; border-radius: 4px; border: 1px solid #c3e6cb;\">\n",
    "\n",
    "<b>Reviewer's comment v1:</b>\n",
    "    \n",
    "Everything is correct here 💫"
   ]
  },
  {
   "cell_type": "markdown",
   "metadata": {},
   "source": [
    "## Aggregate data per user\n",
    "\n",
    "[Now, as the data is clean, aggregate data per user per period in order to have just one record per user per period. It should ease the further analysis a lot.]"
   ]
  },
  {
   "cell_type": "code",
   "execution_count": 21,
   "metadata": {},
   "outputs": [
    {
     "data": {
      "text/html": [
       "<div>\n",
       "<style scoped>\n",
       "    .dataframe tbody tr th:only-of-type {\n",
       "        vertical-align: middle;\n",
       "    }\n",
       "\n",
       "    .dataframe tbody tr th {\n",
       "        vertical-align: top;\n",
       "    }\n",
       "\n",
       "    .dataframe thead th {\n",
       "        text-align: right;\n",
       "    }\n",
       "</style>\n",
       "<table border=\"1\" class=\"dataframe\">\n",
       "  <thead>\n",
       "    <tr style=\"text-align: right;\">\n",
       "      <th></th>\n",
       "      <th></th>\n",
       "      <th>call_quantity</th>\n",
       "    </tr>\n",
       "    <tr>\n",
       "      <th>user_id</th>\n",
       "      <th>month</th>\n",
       "      <th></th>\n",
       "    </tr>\n",
       "  </thead>\n",
       "  <tbody>\n",
       "    <tr>\n",
       "      <th>1000</th>\n",
       "      <th>2018-12</th>\n",
       "      <td>16</td>\n",
       "    </tr>\n",
       "    <tr>\n",
       "      <th rowspan=\"4\" valign=\"top\">1001</th>\n",
       "      <th>2018-08</th>\n",
       "      <td>27</td>\n",
       "    </tr>\n",
       "    <tr>\n",
       "      <th>2018-09</th>\n",
       "      <td>49</td>\n",
       "    </tr>\n",
       "    <tr>\n",
       "      <th>2018-10</th>\n",
       "      <td>65</td>\n",
       "    </tr>\n",
       "    <tr>\n",
       "      <th>2018-11</th>\n",
       "      <td>64</td>\n",
       "    </tr>\n",
       "    <tr>\n",
       "      <th>...</th>\n",
       "      <th>...</th>\n",
       "      <td>...</td>\n",
       "    </tr>\n",
       "    <tr>\n",
       "      <th>1498</th>\n",
       "      <th>2018-12</th>\n",
       "      <td>39</td>\n",
       "    </tr>\n",
       "    <tr>\n",
       "      <th rowspan=\"4\" valign=\"top\">1499</th>\n",
       "      <th>2018-09</th>\n",
       "      <td>41</td>\n",
       "    </tr>\n",
       "    <tr>\n",
       "      <th>2018-10</th>\n",
       "      <td>53</td>\n",
       "    </tr>\n",
       "    <tr>\n",
       "      <th>2018-11</th>\n",
       "      <td>45</td>\n",
       "    </tr>\n",
       "    <tr>\n",
       "      <th>2018-12</th>\n",
       "      <td>65</td>\n",
       "    </tr>\n",
       "  </tbody>\n",
       "</table>\n",
       "<p>2258 rows × 1 columns</p>\n",
       "</div>"
      ],
      "text/plain": [
       "                 call_quantity\n",
       "user_id month                 \n",
       "1000    2018-12             16\n",
       "1001    2018-08             27\n",
       "        2018-09             49\n",
       "        2018-10             65\n",
       "        2018-11             64\n",
       "...                        ...\n",
       "1498    2018-12             39\n",
       "1499    2018-09             41\n",
       "        2018-10             53\n",
       "        2018-11             45\n",
       "        2018-12             65\n",
       "\n",
       "[2258 rows x 1 columns]"
      ]
     },
     "metadata": {},
     "output_type": "display_data"
    }
   ],
   "source": [
    "# Calculate the number of calls made by each user per month. Save the result.\n",
    "\n",
    "user_month_calls = calls.groupby([calls['user_id'], calls['call_date'].dt.to_period('M')]).agg({'id' : 'count'})\n",
    "user_month_calls = user_month_calls.rename(columns={'id': 'call_quantity'})\n",
    "user_month_calls.index.names = ['user_id', 'month']\n",
    "\n",
    "display(user_month_calls)"
   ]
  },
  {
   "cell_type": "code",
   "execution_count": 22,
   "metadata": {},
   "outputs": [
    {
     "data": {
      "text/html": [
       "<div>\n",
       "<style scoped>\n",
       "    .dataframe tbody tr th:only-of-type {\n",
       "        vertical-align: middle;\n",
       "    }\n",
       "\n",
       "    .dataframe tbody tr th {\n",
       "        vertical-align: top;\n",
       "    }\n",
       "\n",
       "    .dataframe thead th {\n",
       "        text-align: right;\n",
       "    }\n",
       "</style>\n",
       "<table border=\"1\" class=\"dataframe\">\n",
       "  <thead>\n",
       "    <tr style=\"text-align: right;\">\n",
       "      <th></th>\n",
       "      <th></th>\n",
       "      <th>minutes_total</th>\n",
       "    </tr>\n",
       "    <tr>\n",
       "      <th>user_id</th>\n",
       "      <th>month</th>\n",
       "      <th></th>\n",
       "    </tr>\n",
       "  </thead>\n",
       "  <tbody>\n",
       "    <tr>\n",
       "      <th>1000</th>\n",
       "      <th>2018-12</th>\n",
       "      <td>124</td>\n",
       "    </tr>\n",
       "    <tr>\n",
       "      <th rowspan=\"4\" valign=\"top\">1001</th>\n",
       "      <th>2018-08</th>\n",
       "      <td>182</td>\n",
       "    </tr>\n",
       "    <tr>\n",
       "      <th>2018-09</th>\n",
       "      <td>315</td>\n",
       "    </tr>\n",
       "    <tr>\n",
       "      <th>2018-10</th>\n",
       "      <td>393</td>\n",
       "    </tr>\n",
       "    <tr>\n",
       "      <th>2018-11</th>\n",
       "      <td>426</td>\n",
       "    </tr>\n",
       "    <tr>\n",
       "      <th>...</th>\n",
       "      <th>...</th>\n",
       "      <td>...</td>\n",
       "    </tr>\n",
       "    <tr>\n",
       "      <th>1498</th>\n",
       "      <th>2018-12</th>\n",
       "      <td>339</td>\n",
       "    </tr>\n",
       "    <tr>\n",
       "      <th rowspan=\"4\" valign=\"top\">1499</th>\n",
       "      <th>2018-09</th>\n",
       "      <td>346</td>\n",
       "    </tr>\n",
       "    <tr>\n",
       "      <th>2018-10</th>\n",
       "      <td>385</td>\n",
       "    </tr>\n",
       "    <tr>\n",
       "      <th>2018-11</th>\n",
       "      <td>308</td>\n",
       "    </tr>\n",
       "    <tr>\n",
       "      <th>2018-12</th>\n",
       "      <td>496</td>\n",
       "    </tr>\n",
       "  </tbody>\n",
       "</table>\n",
       "<p>2258 rows × 1 columns</p>\n",
       "</div>"
      ],
      "text/plain": [
       "                 minutes_total\n",
       "user_id month                 \n",
       "1000    2018-12            124\n",
       "1001    2018-08            182\n",
       "        2018-09            315\n",
       "        2018-10            393\n",
       "        2018-11            426\n",
       "...                        ...\n",
       "1498    2018-12            339\n",
       "1499    2018-09            346\n",
       "        2018-10            385\n",
       "        2018-11            308\n",
       "        2018-12            496\n",
       "\n",
       "[2258 rows x 1 columns]"
      ]
     },
     "metadata": {},
     "output_type": "display_data"
    }
   ],
   "source": [
    "# Calculate the amount of minutes spent by each user per month. Save the result.\n",
    "\n",
    "user_month_minutes = calls.groupby([calls['user_id'], calls['call_date'].dt.to_period('M')]).agg({'duration' : 'sum'})\n",
    "user_month_minutes = user_month_minutes.rename(columns={'duration' : 'minutes_total'})\n",
    "user_month_minutes.index.names = ['user_id', 'month']\n",
    "\n",
    "#user_month_minutes = calls.groupby(['user_id', 'call_date']).agg({'duration' : ['count', 'sum']}).reset_index()\n",
    "#user_month_minutes.columns = ['_'.join(col).strip() if type(col) is tuple else col for col in user_month_minutes.columns.values]\n",
    "    \n",
    "display(user_month_minutes)"
   ]
  },
  {
   "cell_type": "markdown",
   "metadata": {},
   "source": [
    "<div style=\"background-color: #fff3cd; color: #856404; padding: 15px; border-radius: 4px; border: 1px solid #ffeeba;\">\n",
    "\n",
    "<b>Reviewer's comment v1:</b>\n",
    "    \n",
    "In `pivot_table` or `groupby` it is possible to pass multiple arguments, so here, you can create an aggregated table in one go like this:\n",
    "\n",
    "\n",
    "```\n",
    "# Group by and aggregate\n",
    "result = calls_df.groupby(['user_id', 'month']).agg({'duration': ['count', 'sum']}).reset_index()\n",
    "\n",
    "# Flatten the MultiIndex in columns\n",
    "result.columns = ['_'.join(col).strip() if type(col) is tuple else col for col in result.columns.values]\n",
    "result\n",
    "```"
   ]
  },
  {
   "cell_type": "code",
   "execution_count": 23,
   "metadata": {},
   "outputs": [
    {
     "data": {
      "text/html": [
       "<div>\n",
       "<style scoped>\n",
       "    .dataframe tbody tr th:only-of-type {\n",
       "        vertical-align: middle;\n",
       "    }\n",
       "\n",
       "    .dataframe tbody tr th {\n",
       "        vertical-align: top;\n",
       "    }\n",
       "\n",
       "    .dataframe thead th {\n",
       "        text-align: right;\n",
       "    }\n",
       "</style>\n",
       "<table border=\"1\" class=\"dataframe\">\n",
       "  <thead>\n",
       "    <tr style=\"text-align: right;\">\n",
       "      <th></th>\n",
       "      <th></th>\n",
       "      <th>message_quantity</th>\n",
       "    </tr>\n",
       "    <tr>\n",
       "      <th>user_id</th>\n",
       "      <th>month</th>\n",
       "      <th></th>\n",
       "    </tr>\n",
       "  </thead>\n",
       "  <tbody>\n",
       "    <tr>\n",
       "      <th>1000</th>\n",
       "      <th>2018-12</th>\n",
       "      <td>11</td>\n",
       "    </tr>\n",
       "    <tr>\n",
       "      <th rowspan=\"4\" valign=\"top\">1001</th>\n",
       "      <th>2018-08</th>\n",
       "      <td>30</td>\n",
       "    </tr>\n",
       "    <tr>\n",
       "      <th>2018-09</th>\n",
       "      <td>44</td>\n",
       "    </tr>\n",
       "    <tr>\n",
       "      <th>2018-10</th>\n",
       "      <td>53</td>\n",
       "    </tr>\n",
       "    <tr>\n",
       "      <th>2018-11</th>\n",
       "      <td>36</td>\n",
       "    </tr>\n",
       "    <tr>\n",
       "      <th>...</th>\n",
       "      <th>...</th>\n",
       "      <td>...</td>\n",
       "    </tr>\n",
       "    <tr>\n",
       "      <th rowspan=\"4\" valign=\"top\">1496</th>\n",
       "      <th>2018-09</th>\n",
       "      <td>21</td>\n",
       "    </tr>\n",
       "    <tr>\n",
       "      <th>2018-10</th>\n",
       "      <td>18</td>\n",
       "    </tr>\n",
       "    <tr>\n",
       "      <th>2018-11</th>\n",
       "      <td>13</td>\n",
       "    </tr>\n",
       "    <tr>\n",
       "      <th>2018-12</th>\n",
       "      <td>11</td>\n",
       "    </tr>\n",
       "    <tr>\n",
       "      <th>1497</th>\n",
       "      <th>2018-12</th>\n",
       "      <td>50</td>\n",
       "    </tr>\n",
       "  </tbody>\n",
       "</table>\n",
       "<p>1806 rows × 1 columns</p>\n",
       "</div>"
      ],
      "text/plain": [
       "                 message_quantity\n",
       "user_id month                    \n",
       "1000    2018-12                11\n",
       "1001    2018-08                30\n",
       "        2018-09                44\n",
       "        2018-10                53\n",
       "        2018-11                36\n",
       "...                           ...\n",
       "1496    2018-09                21\n",
       "        2018-10                18\n",
       "        2018-11                13\n",
       "        2018-12                11\n",
       "1497    2018-12                50\n",
       "\n",
       "[1806 rows x 1 columns]"
      ]
     },
     "metadata": {},
     "output_type": "display_data"
    }
   ],
   "source": [
    "# Calculate the number of messages sent by each user per month. Save the result.\n",
    "\n",
    "user_month_messages = messages.groupby([messages['user_id'], messages['message_date'].dt.to_period('M')]).agg({'id' : 'count'})\n",
    "user_month_messages = user_month_messages.rename(columns={'id' : 'message_quantity'})\n",
    "user_month_messages.index.names = ['user_id', 'month']\n",
    "\n",
    "display(user_month_messages)"
   ]
  },
  {
   "cell_type": "markdown",
   "metadata": {},
   "source": [
    "<div style=\"background-color: #fff3cd; color: #856404; padding: 15px; border-radius: 4px; border: 1px solid #ffeeba;\">\n",
    "\n",
    "<b>Reviewer's comment v1</b>\n",
    " \n",
    "It is always helpful to double-check whether we indeed have data within one year/time period. If not, then selecting and aggregating data by the month number will cause an issue. It is safer to use `datetime64[M]`, which provides a complete date.\n",
    "\n",
    "Additionally, you could achieve the same using the following code: \n",
    "    \n",
    "```    \n",
    "calls['call_date'].dt.to_period('M')\n",
    "```"
   ]
  },
  {
   "cell_type": "code",
   "execution_count": 24,
   "metadata": {},
   "outputs": [
    {
     "data": {
      "text/html": [
       "<div>\n",
       "<style scoped>\n",
       "    .dataframe tbody tr th:only-of-type {\n",
       "        vertical-align: middle;\n",
       "    }\n",
       "\n",
       "    .dataframe tbody tr th {\n",
       "        vertical-align: top;\n",
       "    }\n",
       "\n",
       "    .dataframe thead th {\n",
       "        text-align: right;\n",
       "    }\n",
       "</style>\n",
       "<table border=\"1\" class=\"dataframe\">\n",
       "  <thead>\n",
       "    <tr style=\"text-align: right;\">\n",
       "      <th></th>\n",
       "      <th></th>\n",
       "      <th>gb_used</th>\n",
       "    </tr>\n",
       "    <tr>\n",
       "      <th>user_id</th>\n",
       "      <th>month</th>\n",
       "      <th></th>\n",
       "    </tr>\n",
       "  </thead>\n",
       "  <tbody>\n",
       "    <tr>\n",
       "      <th>1000</th>\n",
       "      <th>2018-12</th>\n",
       "      <td>1.856904</td>\n",
       "    </tr>\n",
       "    <tr>\n",
       "      <th rowspan=\"4\" valign=\"top\">1001</th>\n",
       "      <th>2018-08</th>\n",
       "      <td>6.756982</td>\n",
       "    </tr>\n",
       "    <tr>\n",
       "      <th>2018-09</th>\n",
       "      <td>13.002754</td>\n",
       "    </tr>\n",
       "    <tr>\n",
       "      <th>2018-10</th>\n",
       "      <td>21.807119</td>\n",
       "    </tr>\n",
       "    <tr>\n",
       "      <th>2018-11</th>\n",
       "      <td>18.070605</td>\n",
       "    </tr>\n",
       "    <tr>\n",
       "      <th>...</th>\n",
       "      <th>...</th>\n",
       "      <td>...</td>\n",
       "    </tr>\n",
       "    <tr>\n",
       "      <th>1498</th>\n",
       "      <th>2018-12</th>\n",
       "      <td>22.595400</td>\n",
       "    </tr>\n",
       "    <tr>\n",
       "      <th rowspan=\"4\" valign=\"top\">1499</th>\n",
       "      <th>2018-09</th>\n",
       "      <td>12.680430</td>\n",
       "    </tr>\n",
       "    <tr>\n",
       "      <th>2018-10</th>\n",
       "      <td>19.035576</td>\n",
       "    </tr>\n",
       "    <tr>\n",
       "      <th>2018-11</th>\n",
       "      <td>16.419756</td>\n",
       "    </tr>\n",
       "    <tr>\n",
       "      <th>2018-12</th>\n",
       "      <td>21.542197</td>\n",
       "    </tr>\n",
       "  </tbody>\n",
       "</table>\n",
       "<p>2277 rows × 1 columns</p>\n",
       "</div>"
      ],
      "text/plain": [
       "                   gb_used\n",
       "user_id month             \n",
       "1000    2018-12   1.856904\n",
       "1001    2018-08   6.756982\n",
       "        2018-09  13.002754\n",
       "        2018-10  21.807119\n",
       "        2018-11  18.070605\n",
       "...                    ...\n",
       "1498    2018-12  22.595400\n",
       "1499    2018-09  12.680430\n",
       "        2018-10  19.035576\n",
       "        2018-11  16.419756\n",
       "        2018-12  21.542197\n",
       "\n",
       "[2277 rows x 1 columns]"
      ]
     },
     "metadata": {},
     "output_type": "display_data"
    },
    {
     "name": "stdout",
     "output_type": "stream",
     "text": [
      "\n"
     ]
    },
    {
     "data": {
      "text/html": [
       "<div>\n",
       "<style scoped>\n",
       "    .dataframe tbody tr th:only-of-type {\n",
       "        vertical-align: middle;\n",
       "    }\n",
       "\n",
       "    .dataframe tbody tr th {\n",
       "        vertical-align: top;\n",
       "    }\n",
       "\n",
       "    .dataframe thead th {\n",
       "        text-align: right;\n",
       "    }\n",
       "</style>\n",
       "<table border=\"1\" class=\"dataframe\">\n",
       "  <thead>\n",
       "    <tr style=\"text-align: right;\">\n",
       "      <th></th>\n",
       "      <th></th>\n",
       "      <th>gb_used</th>\n",
       "    </tr>\n",
       "    <tr>\n",
       "      <th>user_id</th>\n",
       "      <th>month</th>\n",
       "      <th></th>\n",
       "    </tr>\n",
       "  </thead>\n",
       "  <tbody>\n",
       "    <tr>\n",
       "      <th>1000</th>\n",
       "      <th>2018-12</th>\n",
       "      <td>2.0</td>\n",
       "    </tr>\n",
       "    <tr>\n",
       "      <th rowspan=\"4\" valign=\"top\">1001</th>\n",
       "      <th>2018-08</th>\n",
       "      <td>7.0</td>\n",
       "    </tr>\n",
       "    <tr>\n",
       "      <th>2018-09</th>\n",
       "      <td>14.0</td>\n",
       "    </tr>\n",
       "    <tr>\n",
       "      <th>2018-10</th>\n",
       "      <td>22.0</td>\n",
       "    </tr>\n",
       "    <tr>\n",
       "      <th>2018-11</th>\n",
       "      <td>19.0</td>\n",
       "    </tr>\n",
       "    <tr>\n",
       "      <th>...</th>\n",
       "      <th>...</th>\n",
       "      <td>...</td>\n",
       "    </tr>\n",
       "    <tr>\n",
       "      <th>1498</th>\n",
       "      <th>2018-12</th>\n",
       "      <td>23.0</td>\n",
       "    </tr>\n",
       "    <tr>\n",
       "      <th rowspan=\"4\" valign=\"top\">1499</th>\n",
       "      <th>2018-09</th>\n",
       "      <td>13.0</td>\n",
       "    </tr>\n",
       "    <tr>\n",
       "      <th>2018-10</th>\n",
       "      <td>20.0</td>\n",
       "    </tr>\n",
       "    <tr>\n",
       "      <th>2018-11</th>\n",
       "      <td>17.0</td>\n",
       "    </tr>\n",
       "    <tr>\n",
       "      <th>2018-12</th>\n",
       "      <td>22.0</td>\n",
       "    </tr>\n",
       "  </tbody>\n",
       "</table>\n",
       "<p>2277 rows × 1 columns</p>\n",
       "</div>"
      ],
      "text/plain": [
       "                 gb_used\n",
       "user_id month           \n",
       "1000    2018-12      2.0\n",
       "1001    2018-08      7.0\n",
       "        2018-09     14.0\n",
       "        2018-10     22.0\n",
       "        2018-11     19.0\n",
       "...                  ...\n",
       "1498    2018-12     23.0\n",
       "1499    2018-09     13.0\n",
       "        2018-10     20.0\n",
       "        2018-11     17.0\n",
       "        2018-12     22.0\n",
       "\n",
       "[2277 rows x 1 columns]"
      ]
     },
     "metadata": {},
     "output_type": "display_data"
    }
   ],
   "source": [
    "# Calculate the volume of internet traffic used by each user per month. Save the result.\n",
    "\n",
    "user_month_internet = internet.groupby([internet['user_id'], internet['session_date'].dt.to_period('M')]).agg({'gb_used' : 'sum'})\n",
    "user_month_internet.index.names = ['user_id', 'month']\n",
    "\n",
    "display(user_month_internet)\n",
    "\n",
    "user_month_internet['gb_used'] = np.ceil(user_month_internet['gb_used'])\n",
    "\n",
    "print()\n",
    "display(user_month_internet)"
   ]
  },
  {
   "cell_type": "markdown",
   "metadata": {},
   "source": [
    "**using the MB to GB conversion from earlier, we were able to bypass the conversion here, and since amount is already grouped by month, we can use np.ceil() to round up to the next whole number**"
   ]
  },
  {
   "cell_type": "markdown",
   "metadata": {},
   "source": [
    "Put the aggregate data together into one DataFrame so that one record in it would represent what an unique user consumed in a given month."
   ]
  },
  {
   "cell_type": "code",
   "execution_count": 25,
   "metadata": {},
   "outputs": [
    {
     "data": {
      "text/html": [
       "<div>\n",
       "<style scoped>\n",
       "    .dataframe tbody tr th:only-of-type {\n",
       "        vertical-align: middle;\n",
       "    }\n",
       "\n",
       "    .dataframe tbody tr th {\n",
       "        vertical-align: top;\n",
       "    }\n",
       "\n",
       "    .dataframe thead th {\n",
       "        text-align: right;\n",
       "    }\n",
       "</style>\n",
       "<table border=\"1\" class=\"dataframe\">\n",
       "  <thead>\n",
       "    <tr style=\"text-align: right;\">\n",
       "      <th></th>\n",
       "      <th></th>\n",
       "      <th>call_quantity</th>\n",
       "      <th>minutes_total</th>\n",
       "      <th>message_quantity</th>\n",
       "      <th>gb_used</th>\n",
       "    </tr>\n",
       "    <tr>\n",
       "      <th>user_id</th>\n",
       "      <th>month</th>\n",
       "      <th></th>\n",
       "      <th></th>\n",
       "      <th></th>\n",
       "      <th></th>\n",
       "    </tr>\n",
       "  </thead>\n",
       "  <tbody>\n",
       "    <tr>\n",
       "      <th>1000</th>\n",
       "      <th>2018-12</th>\n",
       "      <td>16.0</td>\n",
       "      <td>124.0</td>\n",
       "      <td>11</td>\n",
       "      <td>2</td>\n",
       "    </tr>\n",
       "    <tr>\n",
       "      <th rowspan=\"4\" valign=\"top\">1001</th>\n",
       "      <th>2018-08</th>\n",
       "      <td>27.0</td>\n",
       "      <td>182.0</td>\n",
       "      <td>30</td>\n",
       "      <td>7</td>\n",
       "    </tr>\n",
       "    <tr>\n",
       "      <th>2018-09</th>\n",
       "      <td>49.0</td>\n",
       "      <td>315.0</td>\n",
       "      <td>44</td>\n",
       "      <td>14</td>\n",
       "    </tr>\n",
       "    <tr>\n",
       "      <th>2018-10</th>\n",
       "      <td>65.0</td>\n",
       "      <td>393.0</td>\n",
       "      <td>53</td>\n",
       "      <td>22</td>\n",
       "    </tr>\n",
       "    <tr>\n",
       "      <th>2018-11</th>\n",
       "      <td>64.0</td>\n",
       "      <td>426.0</td>\n",
       "      <td>36</td>\n",
       "      <td>19</td>\n",
       "    </tr>\n",
       "    <tr>\n",
       "      <th>...</th>\n",
       "      <th>...</th>\n",
       "      <td>...</td>\n",
       "      <td>...</td>\n",
       "      <td>...</td>\n",
       "      <td>...</td>\n",
       "    </tr>\n",
       "    <tr>\n",
       "      <th>1498</th>\n",
       "      <th>2018-12</th>\n",
       "      <td>39.0</td>\n",
       "      <td>339.0</td>\n",
       "      <td>0</td>\n",
       "      <td>23</td>\n",
       "    </tr>\n",
       "    <tr>\n",
       "      <th rowspan=\"4\" valign=\"top\">1499</th>\n",
       "      <th>2018-09</th>\n",
       "      <td>41.0</td>\n",
       "      <td>346.0</td>\n",
       "      <td>0</td>\n",
       "      <td>13</td>\n",
       "    </tr>\n",
       "    <tr>\n",
       "      <th>2018-10</th>\n",
       "      <td>53.0</td>\n",
       "      <td>385.0</td>\n",
       "      <td>0</td>\n",
       "      <td>20</td>\n",
       "    </tr>\n",
       "    <tr>\n",
       "      <th>2018-11</th>\n",
       "      <td>45.0</td>\n",
       "      <td>308.0</td>\n",
       "      <td>0</td>\n",
       "      <td>17</td>\n",
       "    </tr>\n",
       "    <tr>\n",
       "      <th>2018-12</th>\n",
       "      <td>65.0</td>\n",
       "      <td>496.0</td>\n",
       "      <td>0</td>\n",
       "      <td>22</td>\n",
       "    </tr>\n",
       "  </tbody>\n",
       "</table>\n",
       "<p>2293 rows × 4 columns</p>\n",
       "</div>"
      ],
      "text/plain": [
       "                 call_quantity  minutes_total  message_quantity  gb_used\n",
       "user_id month                                                           \n",
       "1000    2018-12           16.0          124.0                11        2\n",
       "1001    2018-08           27.0          182.0                30        7\n",
       "        2018-09           49.0          315.0                44       14\n",
       "        2018-10           65.0          393.0                53       22\n",
       "        2018-11           64.0          426.0                36       19\n",
       "...                        ...            ...               ...      ...\n",
       "1498    2018-12           39.0          339.0                 0       23\n",
       "1499    2018-09           41.0          346.0                 0       13\n",
       "        2018-10           53.0          385.0                 0       20\n",
       "        2018-11           45.0          308.0                 0       17\n",
       "        2018-12           65.0          496.0                 0       22\n",
       "\n",
       "[2293 rows x 4 columns]"
      ]
     },
     "metadata": {},
     "output_type": "display_data"
    }
   ],
   "source": [
    "# Merge the data for calls, minutes, messages, internet based on user_id and month\n",
    "\n",
    "user_month_record = user_month_calls.join(user_month_minutes, how='outer')\n",
    "user_month_record = user_month_record.join(user_month_messages, how='outer')\n",
    "user_month_record = user_month_record.join(user_month_internet, how='outer')\n",
    "\n",
    "user_month_record['gb_used'] = user_month_record['gb_used'].fillna(0)\n",
    "user_month_record['gb_used'] = user_month_record['gb_used'].astype(int)\n",
    "\n",
    "user_month_record['message_quantity'] = user_month_record['message_quantity'].fillna(0)\n",
    "user_month_record['message_quantity'] = user_month_record['message_quantity'].astype(int)\n",
    "\n",
    "display(user_month_record)"
   ]
  },
  {
   "cell_type": "markdown",
   "metadata": {},
   "source": [
    "<div style=\"background-color: #f8d7da; color: #721c24; padding: 15px; border-radius: 4px; border: 1px solid #f5c6cb;\"> \n",
    "\n",
    "<b>Reviewer's comment v1:</b>\n",
    "\n",
    "You need to use a different method to join the tables (by changing the how parameter). Currently, if users have made calls but have not sent messages, these records will not appear in the new table-and the same applies to Internet usage. This happens because, with the left join method, we take all the keys from the left table and look for their matches in the right table. If there are unique values in the right table, they are ignored.\n",
    "\n",
    "For this task, we need to include all records from both the right and left tables. You can learn more about join types and their differences here:\n",
    "https://www.freecodecamp.org/news/sql-join-types-inner-join-vs-outer-join-example/#:~:text=The%20biggest%20difference%20between%20an,table%20in%20the%20resulting%20table"
   ]
  },
  {
   "cell_type": "markdown",
   "metadata": {},
   "source": [
    "<div style=\"background-color: #d4edda; color: #155724; padding: 15px; border-radius: 4px; border: 1px solid #c3e6cb;\">\n",
    "\n",
    "<b>Reviewer's comment v2:</b>\n",
    "    \n",
    "Well done! Everything is correct here. Indeed, we need to use either `how=outer` or `concat` join here."
   ]
  },
  {
   "cell_type": "code",
   "execution_count": 26,
   "metadata": {},
   "outputs": [
    {
     "data": {
      "text/html": [
       "<div>\n",
       "<style scoped>\n",
       "    .dataframe tbody tr th:only-of-type {\n",
       "        vertical-align: middle;\n",
       "    }\n",
       "\n",
       "    .dataframe tbody tr th {\n",
       "        vertical-align: top;\n",
       "    }\n",
       "\n",
       "    .dataframe thead th {\n",
       "        text-align: right;\n",
       "    }\n",
       "</style>\n",
       "<table border=\"1\" class=\"dataframe\">\n",
       "  <thead>\n",
       "    <tr style=\"text-align: right;\">\n",
       "      <th></th>\n",
       "      <th>user_id</th>\n",
       "      <th>month</th>\n",
       "      <th>call_quantity</th>\n",
       "      <th>minutes_total</th>\n",
       "      <th>message_quantity</th>\n",
       "      <th>gb_used</th>\n",
       "      <th>plan</th>\n",
       "    </tr>\n",
       "  </thead>\n",
       "  <tbody>\n",
       "    <tr>\n",
       "      <th>0</th>\n",
       "      <td>1000</td>\n",
       "      <td>2018-12</td>\n",
       "      <td>16.0</td>\n",
       "      <td>124.0</td>\n",
       "      <td>11</td>\n",
       "      <td>2</td>\n",
       "      <td>ultimate</td>\n",
       "    </tr>\n",
       "    <tr>\n",
       "      <th>1</th>\n",
       "      <td>1001</td>\n",
       "      <td>2018-08</td>\n",
       "      <td>27.0</td>\n",
       "      <td>182.0</td>\n",
       "      <td>30</td>\n",
       "      <td>7</td>\n",
       "      <td>surf</td>\n",
       "    </tr>\n",
       "    <tr>\n",
       "      <th>2</th>\n",
       "      <td>1001</td>\n",
       "      <td>2018-09</td>\n",
       "      <td>49.0</td>\n",
       "      <td>315.0</td>\n",
       "      <td>44</td>\n",
       "      <td>14</td>\n",
       "      <td>surf</td>\n",
       "    </tr>\n",
       "    <tr>\n",
       "      <th>3</th>\n",
       "      <td>1001</td>\n",
       "      <td>2018-10</td>\n",
       "      <td>65.0</td>\n",
       "      <td>393.0</td>\n",
       "      <td>53</td>\n",
       "      <td>22</td>\n",
       "      <td>surf</td>\n",
       "    </tr>\n",
       "    <tr>\n",
       "      <th>4</th>\n",
       "      <td>1001</td>\n",
       "      <td>2018-11</td>\n",
       "      <td>64.0</td>\n",
       "      <td>426.0</td>\n",
       "      <td>36</td>\n",
       "      <td>19</td>\n",
       "      <td>surf</td>\n",
       "    </tr>\n",
       "    <tr>\n",
       "      <th>5</th>\n",
       "      <td>1001</td>\n",
       "      <td>2018-12</td>\n",
       "      <td>56.0</td>\n",
       "      <td>412.0</td>\n",
       "      <td>44</td>\n",
       "      <td>19</td>\n",
       "      <td>surf</td>\n",
       "    </tr>\n",
       "    <tr>\n",
       "      <th>6</th>\n",
       "      <td>1002</td>\n",
       "      <td>2018-10</td>\n",
       "      <td>11.0</td>\n",
       "      <td>59.0</td>\n",
       "      <td>15</td>\n",
       "      <td>7</td>\n",
       "      <td>surf</td>\n",
       "    </tr>\n",
       "    <tr>\n",
       "      <th>7</th>\n",
       "      <td>1002</td>\n",
       "      <td>2018-11</td>\n",
       "      <td>55.0</td>\n",
       "      <td>386.0</td>\n",
       "      <td>32</td>\n",
       "      <td>19</td>\n",
       "      <td>surf</td>\n",
       "    </tr>\n",
       "    <tr>\n",
       "      <th>8</th>\n",
       "      <td>1002</td>\n",
       "      <td>2018-12</td>\n",
       "      <td>47.0</td>\n",
       "      <td>384.0</td>\n",
       "      <td>41</td>\n",
       "      <td>15</td>\n",
       "      <td>surf</td>\n",
       "    </tr>\n",
       "    <tr>\n",
       "      <th>9</th>\n",
       "      <td>1003</td>\n",
       "      <td>2018-12</td>\n",
       "      <td>149.0</td>\n",
       "      <td>1104.0</td>\n",
       "      <td>50</td>\n",
       "      <td>27</td>\n",
       "      <td>surf</td>\n",
       "    </tr>\n",
       "    <tr>\n",
       "      <th>10</th>\n",
       "      <td>1004</td>\n",
       "      <td>2018-05</td>\n",
       "      <td>21.0</td>\n",
       "      <td>193.0</td>\n",
       "      <td>7</td>\n",
       "      <td>7</td>\n",
       "      <td>surf</td>\n",
       "    </tr>\n",
       "    <tr>\n",
       "      <th>11</th>\n",
       "      <td>1004</td>\n",
       "      <td>2018-06</td>\n",
       "      <td>44.0</td>\n",
       "      <td>275.0</td>\n",
       "      <td>18</td>\n",
       "      <td>21</td>\n",
       "      <td>surf</td>\n",
       "    </tr>\n",
       "    <tr>\n",
       "      <th>12</th>\n",
       "      <td>1004</td>\n",
       "      <td>2018-07</td>\n",
       "      <td>49.0</td>\n",
       "      <td>381.0</td>\n",
       "      <td>26</td>\n",
       "      <td>24</td>\n",
       "      <td>surf</td>\n",
       "    </tr>\n",
       "    <tr>\n",
       "      <th>13</th>\n",
       "      <td>1004</td>\n",
       "      <td>2018-08</td>\n",
       "      <td>49.0</td>\n",
       "      <td>354.0</td>\n",
       "      <td>25</td>\n",
       "      <td>28</td>\n",
       "      <td>surf</td>\n",
       "    </tr>\n",
       "    <tr>\n",
       "      <th>14</th>\n",
       "      <td>1004</td>\n",
       "      <td>2018-09</td>\n",
       "      <td>42.0</td>\n",
       "      <td>301.0</td>\n",
       "      <td>21</td>\n",
       "      <td>19</td>\n",
       "      <td>surf</td>\n",
       "    </tr>\n",
       "    <tr>\n",
       "      <th>15</th>\n",
       "      <td>1004</td>\n",
       "      <td>2018-10</td>\n",
       "      <td>61.0</td>\n",
       "      <td>365.0</td>\n",
       "      <td>24</td>\n",
       "      <td>15</td>\n",
       "      <td>surf</td>\n",
       "    </tr>\n",
       "    <tr>\n",
       "      <th>16</th>\n",
       "      <td>1004</td>\n",
       "      <td>2018-11</td>\n",
       "      <td>54.0</td>\n",
       "      <td>476.0</td>\n",
       "      <td>25</td>\n",
       "      <td>22</td>\n",
       "      <td>surf</td>\n",
       "    </tr>\n",
       "    <tr>\n",
       "      <th>17</th>\n",
       "      <td>1004</td>\n",
       "      <td>2018-12</td>\n",
       "      <td>50.0</td>\n",
       "      <td>427.0</td>\n",
       "      <td>31</td>\n",
       "      <td>21</td>\n",
       "      <td>surf</td>\n",
       "    </tr>\n",
       "    <tr>\n",
       "      <th>18</th>\n",
       "      <td>1005</td>\n",
       "      <td>2018-12</td>\n",
       "      <td>59.0</td>\n",
       "      <td>496.0</td>\n",
       "      <td>11</td>\n",
       "      <td>17</td>\n",
       "      <td>surf</td>\n",
       "    </tr>\n",
       "    <tr>\n",
       "      <th>19</th>\n",
       "      <td>1006</td>\n",
       "      <td>2018-11</td>\n",
       "      <td>2.0</td>\n",
       "      <td>10.0</td>\n",
       "      <td>15</td>\n",
       "      <td>3</td>\n",
       "      <td>ultimate</td>\n",
       "    </tr>\n",
       "  </tbody>\n",
       "</table>\n",
       "</div>"
      ],
      "text/plain": [
       "    user_id    month  call_quantity  minutes_total  message_quantity  gb_used  \\\n",
       "0      1000  2018-12           16.0          124.0                11        2   \n",
       "1      1001  2018-08           27.0          182.0                30        7   \n",
       "2      1001  2018-09           49.0          315.0                44       14   \n",
       "3      1001  2018-10           65.0          393.0                53       22   \n",
       "4      1001  2018-11           64.0          426.0                36       19   \n",
       "5      1001  2018-12           56.0          412.0                44       19   \n",
       "6      1002  2018-10           11.0           59.0                15        7   \n",
       "7      1002  2018-11           55.0          386.0                32       19   \n",
       "8      1002  2018-12           47.0          384.0                41       15   \n",
       "9      1003  2018-12          149.0         1104.0                50       27   \n",
       "10     1004  2018-05           21.0          193.0                 7        7   \n",
       "11     1004  2018-06           44.0          275.0                18       21   \n",
       "12     1004  2018-07           49.0          381.0                26       24   \n",
       "13     1004  2018-08           49.0          354.0                25       28   \n",
       "14     1004  2018-09           42.0          301.0                21       19   \n",
       "15     1004  2018-10           61.0          365.0                24       15   \n",
       "16     1004  2018-11           54.0          476.0                25       22   \n",
       "17     1004  2018-12           50.0          427.0                31       21   \n",
       "18     1005  2018-12           59.0          496.0                11       17   \n",
       "19     1006  2018-11            2.0           10.0                15        3   \n",
       "\n",
       "        plan  \n",
       "0   ultimate  \n",
       "1       surf  \n",
       "2       surf  \n",
       "3       surf  \n",
       "4       surf  \n",
       "5       surf  \n",
       "6       surf  \n",
       "7       surf  \n",
       "8       surf  \n",
       "9       surf  \n",
       "10      surf  \n",
       "11      surf  \n",
       "12      surf  \n",
       "13      surf  \n",
       "14      surf  \n",
       "15      surf  \n",
       "16      surf  \n",
       "17      surf  \n",
       "18      surf  \n",
       "19  ultimate  "
      ]
     },
     "metadata": {},
     "output_type": "display_data"
    },
    {
     "name": "stdout",
     "output_type": "stream",
     "text": [
      "<class 'pandas.core.frame.DataFrame'>\n",
      "Int64Index: 2293 entries, 0 to 2292\n",
      "Data columns (total 7 columns):\n",
      " #   Column            Non-Null Count  Dtype    \n",
      "---  ------            --------------  -----    \n",
      " 0   user_id           2293 non-null   int64    \n",
      " 1   month             2293 non-null   period[M]\n",
      " 2   call_quantity     2258 non-null   float64  \n",
      " 3   minutes_total     2258 non-null   float64  \n",
      " 4   message_quantity  2293 non-null   int64    \n",
      " 5   gb_used           2293 non-null   int64    \n",
      " 6   plan              2293 non-null   object   \n",
      "dtypes: float64(2), int64(3), object(1), period[M](1)\n",
      "memory usage: 143.3+ KB\n"
     ]
    }
   ],
   "source": [
    "# Add the plan information\n",
    "\n",
    "user_month_record = user_month_record.reset_index()\n",
    "user_month_record = user_month_record.merge(users[['user_id', 'plan']], on='user_id', how='left')\n",
    "\n",
    "display(user_month_record.head(20))\n",
    "user_month_record.info()"
   ]
  },
  {
   "cell_type": "markdown",
   "metadata": {},
   "source": [
    "**NaN values don't allow for .astype(int) conversions, so we have to fill in those missing values with 0. seeing as though missing values in these columns represent zero usage, it fits nicely**"
   ]
  },
  {
   "cell_type": "markdown",
   "metadata": {},
   "source": [
    "[Calculate the monthly revenue from each user (subtract the free package limit from the total number of calls, text messages, and data; multiply the result by the calling plan value; add the monthly charge depending on the calling plan). N.B. This might not be as trivial as just a couple of lines given the plan conditions! So, it's okay to spend some time on it.]"
   ]
  },
  {
   "cell_type": "code",
   "execution_count": 27,
   "metadata": {},
   "outputs": [
    {
     "data": {
      "text/html": [
       "<div>\n",
       "<style scoped>\n",
       "    .dataframe tbody tr th:only-of-type {\n",
       "        vertical-align: middle;\n",
       "    }\n",
       "\n",
       "    .dataframe tbody tr th {\n",
       "        vertical-align: top;\n",
       "    }\n",
       "\n",
       "    .dataframe thead th {\n",
       "        text-align: right;\n",
       "    }\n",
       "</style>\n",
       "<table border=\"1\" class=\"dataframe\">\n",
       "  <thead>\n",
       "    <tr style=\"text-align: right;\">\n",
       "      <th></th>\n",
       "      <th>user_id</th>\n",
       "      <th>month</th>\n",
       "      <th>call_quantity</th>\n",
       "      <th>minutes_total</th>\n",
       "      <th>message_quantity</th>\n",
       "      <th>gb_used</th>\n",
       "      <th>plan</th>\n",
       "      <th>monthly_revenue</th>\n",
       "    </tr>\n",
       "  </thead>\n",
       "  <tbody>\n",
       "    <tr>\n",
       "      <th>0</th>\n",
       "      <td>1000</td>\n",
       "      <td>2018-12</td>\n",
       "      <td>16.0</td>\n",
       "      <td>124.0</td>\n",
       "      <td>11</td>\n",
       "      <td>2</td>\n",
       "      <td>ultimate</td>\n",
       "      <td>70.00</td>\n",
       "    </tr>\n",
       "    <tr>\n",
       "      <th>1</th>\n",
       "      <td>1001</td>\n",
       "      <td>2018-08</td>\n",
       "      <td>27.0</td>\n",
       "      <td>182.0</td>\n",
       "      <td>30</td>\n",
       "      <td>7</td>\n",
       "      <td>surf</td>\n",
       "      <td>20.00</td>\n",
       "    </tr>\n",
       "    <tr>\n",
       "      <th>2</th>\n",
       "      <td>1001</td>\n",
       "      <td>2018-09</td>\n",
       "      <td>49.0</td>\n",
       "      <td>315.0</td>\n",
       "      <td>44</td>\n",
       "      <td>14</td>\n",
       "      <td>surf</td>\n",
       "      <td>20.00</td>\n",
       "    </tr>\n",
       "    <tr>\n",
       "      <th>3</th>\n",
       "      <td>1001</td>\n",
       "      <td>2018-10</td>\n",
       "      <td>65.0</td>\n",
       "      <td>393.0</td>\n",
       "      <td>53</td>\n",
       "      <td>22</td>\n",
       "      <td>surf</td>\n",
       "      <td>90.09</td>\n",
       "    </tr>\n",
       "    <tr>\n",
       "      <th>4</th>\n",
       "      <td>1001</td>\n",
       "      <td>2018-11</td>\n",
       "      <td>64.0</td>\n",
       "      <td>426.0</td>\n",
       "      <td>36</td>\n",
       "      <td>19</td>\n",
       "      <td>surf</td>\n",
       "      <td>60.00</td>\n",
       "    </tr>\n",
       "    <tr>\n",
       "      <th>5</th>\n",
       "      <td>1001</td>\n",
       "      <td>2018-12</td>\n",
       "      <td>56.0</td>\n",
       "      <td>412.0</td>\n",
       "      <td>44</td>\n",
       "      <td>19</td>\n",
       "      <td>surf</td>\n",
       "      <td>60.00</td>\n",
       "    </tr>\n",
       "    <tr>\n",
       "      <th>6</th>\n",
       "      <td>1002</td>\n",
       "      <td>2018-10</td>\n",
       "      <td>11.0</td>\n",
       "      <td>59.0</td>\n",
       "      <td>15</td>\n",
       "      <td>7</td>\n",
       "      <td>surf</td>\n",
       "      <td>20.00</td>\n",
       "    </tr>\n",
       "    <tr>\n",
       "      <th>7</th>\n",
       "      <td>1002</td>\n",
       "      <td>2018-11</td>\n",
       "      <td>55.0</td>\n",
       "      <td>386.0</td>\n",
       "      <td>32</td>\n",
       "      <td>19</td>\n",
       "      <td>surf</td>\n",
       "      <td>60.00</td>\n",
       "    </tr>\n",
       "    <tr>\n",
       "      <th>8</th>\n",
       "      <td>1002</td>\n",
       "      <td>2018-12</td>\n",
       "      <td>47.0</td>\n",
       "      <td>384.0</td>\n",
       "      <td>41</td>\n",
       "      <td>15</td>\n",
       "      <td>surf</td>\n",
       "      <td>20.00</td>\n",
       "    </tr>\n",
       "    <tr>\n",
       "      <th>9</th>\n",
       "      <td>1003</td>\n",
       "      <td>2018-12</td>\n",
       "      <td>149.0</td>\n",
       "      <td>1104.0</td>\n",
       "      <td>50</td>\n",
       "      <td>27</td>\n",
       "      <td>surf</td>\n",
       "      <td>158.12</td>\n",
       "    </tr>\n",
       "    <tr>\n",
       "      <th>10</th>\n",
       "      <td>1004</td>\n",
       "      <td>2018-05</td>\n",
       "      <td>21.0</td>\n",
       "      <td>193.0</td>\n",
       "      <td>7</td>\n",
       "      <td>7</td>\n",
       "      <td>surf</td>\n",
       "      <td>20.00</td>\n",
       "    </tr>\n",
       "    <tr>\n",
       "      <th>11</th>\n",
       "      <td>1004</td>\n",
       "      <td>2018-06</td>\n",
       "      <td>44.0</td>\n",
       "      <td>275.0</td>\n",
       "      <td>18</td>\n",
       "      <td>21</td>\n",
       "      <td>surf</td>\n",
       "      <td>80.00</td>\n",
       "    </tr>\n",
       "    <tr>\n",
       "      <th>12</th>\n",
       "      <td>1004</td>\n",
       "      <td>2018-07</td>\n",
       "      <td>49.0</td>\n",
       "      <td>381.0</td>\n",
       "      <td>26</td>\n",
       "      <td>24</td>\n",
       "      <td>surf</td>\n",
       "      <td>110.00</td>\n",
       "    </tr>\n",
       "    <tr>\n",
       "      <th>13</th>\n",
       "      <td>1004</td>\n",
       "      <td>2018-08</td>\n",
       "      <td>49.0</td>\n",
       "      <td>354.0</td>\n",
       "      <td>25</td>\n",
       "      <td>28</td>\n",
       "      <td>surf</td>\n",
       "      <td>150.00</td>\n",
       "    </tr>\n",
       "    <tr>\n",
       "      <th>14</th>\n",
       "      <td>1004</td>\n",
       "      <td>2018-09</td>\n",
       "      <td>42.0</td>\n",
       "      <td>301.0</td>\n",
       "      <td>21</td>\n",
       "      <td>19</td>\n",
       "      <td>surf</td>\n",
       "      <td>60.00</td>\n",
       "    </tr>\n",
       "    <tr>\n",
       "      <th>15</th>\n",
       "      <td>1004</td>\n",
       "      <td>2018-10</td>\n",
       "      <td>61.0</td>\n",
       "      <td>365.0</td>\n",
       "      <td>24</td>\n",
       "      <td>15</td>\n",
       "      <td>surf</td>\n",
       "      <td>20.00</td>\n",
       "    </tr>\n",
       "    <tr>\n",
       "      <th>16</th>\n",
       "      <td>1004</td>\n",
       "      <td>2018-11</td>\n",
       "      <td>54.0</td>\n",
       "      <td>476.0</td>\n",
       "      <td>25</td>\n",
       "      <td>22</td>\n",
       "      <td>surf</td>\n",
       "      <td>90.00</td>\n",
       "    </tr>\n",
       "    <tr>\n",
       "      <th>17</th>\n",
       "      <td>1004</td>\n",
       "      <td>2018-12</td>\n",
       "      <td>50.0</td>\n",
       "      <td>427.0</td>\n",
       "      <td>31</td>\n",
       "      <td>21</td>\n",
       "      <td>surf</td>\n",
       "      <td>80.00</td>\n",
       "    </tr>\n",
       "    <tr>\n",
       "      <th>18</th>\n",
       "      <td>1005</td>\n",
       "      <td>2018-12</td>\n",
       "      <td>59.0</td>\n",
       "      <td>496.0</td>\n",
       "      <td>11</td>\n",
       "      <td>17</td>\n",
       "      <td>surf</td>\n",
       "      <td>40.00</td>\n",
       "    </tr>\n",
       "    <tr>\n",
       "      <th>19</th>\n",
       "      <td>1006</td>\n",
       "      <td>2018-11</td>\n",
       "      <td>2.0</td>\n",
       "      <td>10.0</td>\n",
       "      <td>15</td>\n",
       "      <td>3</td>\n",
       "      <td>ultimate</td>\n",
       "      <td>70.00</td>\n",
       "    </tr>\n",
       "  </tbody>\n",
       "</table>\n",
       "</div>"
      ],
      "text/plain": [
       "    user_id    month  call_quantity  minutes_total  message_quantity  gb_used  \\\n",
       "0      1000  2018-12           16.0          124.0                11        2   \n",
       "1      1001  2018-08           27.0          182.0                30        7   \n",
       "2      1001  2018-09           49.0          315.0                44       14   \n",
       "3      1001  2018-10           65.0          393.0                53       22   \n",
       "4      1001  2018-11           64.0          426.0                36       19   \n",
       "5      1001  2018-12           56.0          412.0                44       19   \n",
       "6      1002  2018-10           11.0           59.0                15        7   \n",
       "7      1002  2018-11           55.0          386.0                32       19   \n",
       "8      1002  2018-12           47.0          384.0                41       15   \n",
       "9      1003  2018-12          149.0         1104.0                50       27   \n",
       "10     1004  2018-05           21.0          193.0                 7        7   \n",
       "11     1004  2018-06           44.0          275.0                18       21   \n",
       "12     1004  2018-07           49.0          381.0                26       24   \n",
       "13     1004  2018-08           49.0          354.0                25       28   \n",
       "14     1004  2018-09           42.0          301.0                21       19   \n",
       "15     1004  2018-10           61.0          365.0                24       15   \n",
       "16     1004  2018-11           54.0          476.0                25       22   \n",
       "17     1004  2018-12           50.0          427.0                31       21   \n",
       "18     1005  2018-12           59.0          496.0                11       17   \n",
       "19     1006  2018-11            2.0           10.0                15        3   \n",
       "\n",
       "        plan  monthly_revenue  \n",
       "0   ultimate            70.00  \n",
       "1       surf            20.00  \n",
       "2       surf            20.00  \n",
       "3       surf            90.09  \n",
       "4       surf            60.00  \n",
       "5       surf            60.00  \n",
       "6       surf            20.00  \n",
       "7       surf            60.00  \n",
       "8       surf            20.00  \n",
       "9       surf           158.12  \n",
       "10      surf            20.00  \n",
       "11      surf            80.00  \n",
       "12      surf           110.00  \n",
       "13      surf           150.00  \n",
       "14      surf            60.00  \n",
       "15      surf            20.00  \n",
       "16      surf            90.00  \n",
       "17      surf            80.00  \n",
       "18      surf            40.00  \n",
       "19  ultimate            70.00  "
      ]
     },
     "metadata": {},
     "output_type": "display_data"
    }
   ],
   "source": [
    "# Calculate the monthly revenue for each user\n",
    "\n",
    "def calculate_revenue(row):\n",
    "    charged_minutes = 0\n",
    "    charged_messages = 0\n",
    "    charged_data = 0\n",
    "\n",
    "    if row['plan'] == 'surf':\n",
    "        if row['minutes_total'] > 500:\n",
    "            charged_minutes = (row['minutes_total'] - 500) * .03\n",
    "        if row['message_quantity'] > 50:\n",
    "            charged_messages = (row['message_quantity'] - 50) * .03\n",
    "        if row['gb_used'] > 15:\n",
    "            charged_data = (row['gb_used'] - 15) * 10\n",
    "        monthly_charge = 20\n",
    "    elif row['plan'] == 'ultimate':\n",
    "        if row['minutes_total'] > 3000:\n",
    "            charged_minutes = (row['minutes_total'] - 3000) * .01\n",
    "        if row['message_quantity'] > 1000:\n",
    "            charged_messages = (row['message_quantity'] - 1000) * .01\n",
    "        if row['gb_used'] > 30:\n",
    "            charged_data = (row['gb_used'] - 30) * 7\n",
    "        monthly_charge = 70\n",
    "\n",
    "    total_revenue = charged_minutes + charged_messages + charged_data + monthly_charge\n",
    "    return total_revenue\n",
    "\n",
    "user_month_record['monthly_revenue'] = user_month_record.apply(calculate_revenue, axis=1)\n",
    "\n",
    "display(user_month_record.head(20))"
   ]
  },
  {
   "cell_type": "markdown",
   "metadata": {},
   "source": [
    "<div style=\"background-color: #d4edda; color: #155724; padding: 15px; border-radius: 4px; border: 1px solid #c3e6cb;\">\n",
    "\n",
    "<b>Reviewer's comment v1:</b>\n",
    "\n",
    "Everything is correct here.\n",
    "\n",
    "Btw it is also possible to make the calculation of revenue a bit different `np.where` - https://numpy.org/doc/stable/reference/generated/numpy.where.html\n",
    "    \n",
    "```\n",
    "np.where ('condition: if exceeding the package limit', 'multiply the difference by the price of additional services', '0')\n",
    "```\n",
    "\n",
    "    \n",
    "Great thing about python is that there are so many libraries and ready-to-use functions. For example, this task can also be solved using `.clip()` (a useful method in many tasks). You can read it here: https://www.pythonpool.com/numpy-clip/\n",
    " \n",
    "Also, it is better to avoid hard-coding in your functions of all values from the data plans. These values could be frequently updated and it will be annoyingly inconvenient to update them once again in the function. I would recommend using an actual table with values or create a separate data dictionary - https://towardsdatascience.com/12-examples-to-master-python-dictionaries-5a8bcd688c6d"
   ]
  },
  {
   "cell_type": "markdown",
   "metadata": {},
   "source": [
    "## Study user behaviour"
   ]
  },
  {
   "cell_type": "markdown",
   "metadata": {},
   "source": [
    "[Calculate some useful descriptive statistics for the aggregated and merged data, which typically reveal an overall picture captured by the data. Draw useful plots to help the understanding. Given that the main task is to compare the plans and decide on which one is more profitable, the statistics and the plots should be calculated on a per-plan basis.]\n",
    "\n",
    "[There are relevant hints in the comments for Calls but they are not provided for Messages and Internet though the principle of statistical study is the same for them as for Calls.]"
   ]
  },
  {
   "cell_type": "markdown",
   "metadata": {},
   "source": [
    "### Calls"
   ]
  },
  {
   "cell_type": "code",
   "execution_count": 28,
   "metadata": {},
   "outputs": [
    {
     "data": {
      "text/html": [
       "<div>\n",
       "<style scoped>\n",
       "    .dataframe tbody tr th:only-of-type {\n",
       "        vertical-align: middle;\n",
       "    }\n",
       "\n",
       "    .dataframe tbody tr th {\n",
       "        vertical-align: top;\n",
       "    }\n",
       "\n",
       "    .dataframe thead th {\n",
       "        text-align: right;\n",
       "    }\n",
       "</style>\n",
       "<table border=\"1\" class=\"dataframe\">\n",
       "  <thead>\n",
       "    <tr style=\"text-align: right;\">\n",
       "      <th></th>\n",
       "      <th>minutes_total</th>\n",
       "      <th>call_quantity</th>\n",
       "      <th>surf_duration_avg</th>\n",
       "    </tr>\n",
       "    <tr>\n",
       "      <th>month</th>\n",
       "      <th></th>\n",
       "      <th></th>\n",
       "      <th></th>\n",
       "    </tr>\n",
       "  </thead>\n",
       "  <tbody>\n",
       "    <tr>\n",
       "      <th>2018-01</th>\n",
       "      <td>406.0</td>\n",
       "      <td>60.0</td>\n",
       "      <td>6.766667</td>\n",
       "    </tr>\n",
       "    <tr>\n",
       "      <th>2018-02</th>\n",
       "      <td>2673.0</td>\n",
       "      <td>366.0</td>\n",
       "      <td>7.303279</td>\n",
       "    </tr>\n",
       "    <tr>\n",
       "      <th>2018-03</th>\n",
       "      <td>7590.0</td>\n",
       "      <td>1068.0</td>\n",
       "      <td>7.106742</td>\n",
       "    </tr>\n",
       "    <tr>\n",
       "      <th>2018-04</th>\n",
       "      <td>17577.0</td>\n",
       "      <td>2444.0</td>\n",
       "      <td>7.191899</td>\n",
       "    </tr>\n",
       "    <tr>\n",
       "      <th>2018-05</th>\n",
       "      <td>30768.0</td>\n",
       "      <td>4289.0</td>\n",
       "      <td>7.173700</td>\n",
       "    </tr>\n",
       "    <tr>\n",
       "      <th>2018-06</th>\n",
       "      <td>41836.0</td>\n",
       "      <td>5769.0</td>\n",
       "      <td>7.251863</td>\n",
       "    </tr>\n",
       "    <tr>\n",
       "      <th>2018-07</th>\n",
       "      <td>54448.0</td>\n",
       "      <td>7642.0</td>\n",
       "      <td>7.124836</td>\n",
       "    </tr>\n",
       "    <tr>\n",
       "      <th>2018-08</th>\n",
       "      <td>66438.0</td>\n",
       "      <td>9325.0</td>\n",
       "      <td>7.124718</td>\n",
       "    </tr>\n",
       "    <tr>\n",
       "      <th>2018-09</th>\n",
       "      <td>80360.0</td>\n",
       "      <td>11273.0</td>\n",
       "      <td>7.128537</td>\n",
       "    </tr>\n",
       "    <tr>\n",
       "      <th>2018-10</th>\n",
       "      <td>101846.0</td>\n",
       "      <td>14303.0</td>\n",
       "      <td>7.120604</td>\n",
       "    </tr>\n",
       "    <tr>\n",
       "      <th>2018-11</th>\n",
       "      <td>119801.0</td>\n",
       "      <td>16731.0</td>\n",
       "      <td>7.160421</td>\n",
       "    </tr>\n",
       "    <tr>\n",
       "      <th>2018-12</th>\n",
       "      <td>150680.0</td>\n",
       "      <td>20814.0</td>\n",
       "      <td>7.239358</td>\n",
       "    </tr>\n",
       "  </tbody>\n",
       "</table>\n",
       "</div>"
      ],
      "text/plain": [
       "         minutes_total  call_quantity  surf_duration_avg\n",
       "month                                                   \n",
       "2018-01          406.0           60.0           6.766667\n",
       "2018-02         2673.0          366.0           7.303279\n",
       "2018-03         7590.0         1068.0           7.106742\n",
       "2018-04        17577.0         2444.0           7.191899\n",
       "2018-05        30768.0         4289.0           7.173700\n",
       "2018-06        41836.0         5769.0           7.251863\n",
       "2018-07        54448.0         7642.0           7.124836\n",
       "2018-08        66438.0         9325.0           7.124718\n",
       "2018-09        80360.0        11273.0           7.128537\n",
       "2018-10       101846.0        14303.0           7.120604\n",
       "2018-11       119801.0        16731.0           7.160421\n",
       "2018-12       150680.0        20814.0           7.239358"
      ]
     },
     "metadata": {},
     "output_type": "display_data"
    },
    {
     "data": {
      "text/html": [
       "<div>\n",
       "<style scoped>\n",
       "    .dataframe tbody tr th:only-of-type {\n",
       "        vertical-align: middle;\n",
       "    }\n",
       "\n",
       "    .dataframe tbody tr th {\n",
       "        vertical-align: top;\n",
       "    }\n",
       "\n",
       "    .dataframe thead th {\n",
       "        text-align: right;\n",
       "    }\n",
       "</style>\n",
       "<table border=\"1\" class=\"dataframe\">\n",
       "  <thead>\n",
       "    <tr style=\"text-align: right;\">\n",
       "      <th></th>\n",
       "      <th>minutes_total</th>\n",
       "      <th>call_quantity</th>\n",
       "      <th>ultimate_duration_avg</th>\n",
       "    </tr>\n",
       "    <tr>\n",
       "      <th>month</th>\n",
       "      <th></th>\n",
       "      <th></th>\n",
       "      <th></th>\n",
       "    </tr>\n",
       "  </thead>\n",
       "  <tbody>\n",
       "    <tr>\n",
       "      <th>2018-01</th>\n",
       "      <td>774.0</td>\n",
       "      <td>112.0</td>\n",
       "      <td>6.910714</td>\n",
       "    </tr>\n",
       "    <tr>\n",
       "      <th>2018-02</th>\n",
       "      <td>2822.0</td>\n",
       "      <td>408.0</td>\n",
       "      <td>6.916667</td>\n",
       "    </tr>\n",
       "    <tr>\n",
       "      <th>2018-03</th>\n",
       "      <td>3651.0</td>\n",
       "      <td>552.0</td>\n",
       "      <td>6.614130</td>\n",
       "    </tr>\n",
       "    <tr>\n",
       "      <th>2018-04</th>\n",
       "      <td>7074.0</td>\n",
       "      <td>998.0</td>\n",
       "      <td>7.088176</td>\n",
       "    </tr>\n",
       "    <tr>\n",
       "      <th>2018-05</th>\n",
       "      <td>11781.0</td>\n",
       "      <td>1670.0</td>\n",
       "      <td>7.054491</td>\n",
       "    </tr>\n",
       "    <tr>\n",
       "      <th>2018-06</th>\n",
       "      <td>17435.0</td>\n",
       "      <td>2452.0</td>\n",
       "      <td>7.110522</td>\n",
       "    </tr>\n",
       "    <tr>\n",
       "      <th>2018-07</th>\n",
       "      <td>25197.0</td>\n",
       "      <td>3463.0</td>\n",
       "      <td>7.276061</td>\n",
       "    </tr>\n",
       "    <tr>\n",
       "      <th>2018-08</th>\n",
       "      <td>29922.0</td>\n",
       "      <td>4265.0</td>\n",
       "      <td>7.015709</td>\n",
       "    </tr>\n",
       "    <tr>\n",
       "      <th>2018-09</th>\n",
       "      <td>37626.0</td>\n",
       "      <td>5250.0</td>\n",
       "      <td>7.166857</td>\n",
       "    </tr>\n",
       "    <tr>\n",
       "      <th>2018-10</th>\n",
       "      <td>47778.0</td>\n",
       "      <td>6761.0</td>\n",
       "      <td>7.066706</td>\n",
       "    </tr>\n",
       "    <tr>\n",
       "      <th>2018-11</th>\n",
       "      <td>56540.0</td>\n",
       "      <td>7920.0</td>\n",
       "      <td>7.138889</td>\n",
       "    </tr>\n",
       "    <tr>\n",
       "      <th>2018-12</th>\n",
       "      <td>69324.0</td>\n",
       "      <td>9800.0</td>\n",
       "      <td>7.073878</td>\n",
       "    </tr>\n",
       "  </tbody>\n",
       "</table>\n",
       "</div>"
      ],
      "text/plain": [
       "         minutes_total  call_quantity  ultimate_duration_avg\n",
       "month                                                       \n",
       "2018-01          774.0          112.0               6.910714\n",
       "2018-02         2822.0          408.0               6.916667\n",
       "2018-03         3651.0          552.0               6.614130\n",
       "2018-04         7074.0          998.0               7.088176\n",
       "2018-05        11781.0         1670.0               7.054491\n",
       "2018-06        17435.0         2452.0               7.110522\n",
       "2018-07        25197.0         3463.0               7.276061\n",
       "2018-08        29922.0         4265.0               7.015709\n",
       "2018-09        37626.0         5250.0               7.166857\n",
       "2018-10        47778.0         6761.0               7.066706\n",
       "2018-11        56540.0         7920.0               7.138889\n",
       "2018-12        69324.0         9800.0               7.073878"
      ]
     },
     "metadata": {},
     "output_type": "display_data"
    },
    {
     "data": {
      "image/png": "[encoded data removed]",
      "text/plain": [
       "<Figure size 1000x600 with 1 Axes>"
      ]
     },
     "metadata": {},
     "output_type": "display_data"
    }
   ],
   "source": [
    "# Compare average duration of calls per each plan per each distinct month. Plot a bar plat to visualize it.\n",
    "\n",
    "dur_avg_surf = user_month_record[user_month_record['plan'] == 'surf'].groupby(['month'])[['minutes_total', 'call_quantity']].sum()\n",
    "dur_avg_surf['surf_duration_avg'] = dur_avg_surf['minutes_total'].div(dur_avg_surf['call_quantity'])\n",
    "\n",
    "dur_avg_ultimate = user_month_record[user_month_record['plan'] == 'ultimate'].groupby(['month'])[['minutes_total', 'call_quantity']].sum()\n",
    "dur_avg_ultimate['ultimate_duration_avg'] = dur_avg_ultimate['minutes_total'].div(dur_avg_ultimate['call_quantity'])\n",
    "\n",
    "display(dur_avg_surf)\n",
    "display(dur_avg_ultimate)\n",
    "\n",
    "dur_avg_surf_plot = dur_avg_surf.reset_index()\n",
    "dur_avg_ultimate_plot = dur_avg_ultimate.reset_index()\n",
    "\n",
    "combined_dur_avg = pd.DataFrame({'month' : dur_avg_surf_plot['month'], 'surf_duration_avg' : dur_avg_surf_plot['surf_duration_avg'],\n",
    "                                 'ultimate_duration_avg' : dur_avg_ultimate_plot['ultimate_duration_avg']\n",
    "                                })\n",
    "\n",
    "combined_dur_avg.plot(x='month',\n",
    "                      xlabel='Month (1 - 12)',\n",
    "                      ylabel='Call Duration (min)',\n",
    "                      kind='bar',\n",
    "                      title='Surf vs Ultimate: Average Call Length by Month',\n",
    "                      ylim=[6.5, 7.5],\n",
    "                      figsize=[10, 6],\n",
    "                      rot=50,\n",
    "                     )\n",
    "\n",
    "plt.grid(visible=True, axis='y', alpha=.5)\n",
    "plt.legend(labels=['Surf', 'Ultimate'])\n",
    "plt.show()"
   ]
  },
  {
   "cell_type": "markdown",
   "metadata": {},
   "source": [
    "**With Surf having almost twice as many monthly minutes and calls as Ultimate, it's no surprise that Surf would have slightly higher averages than Ultimate for 3/4 of the year.**"
   ]
  },
  {
   "cell_type": "code",
   "execution_count": 29,
   "metadata": {},
   "outputs": [
    {
     "data": {
      "image/png": "[encoded data removed]",
      "text/plain": [
       "<Figure size 900x700 with 1 Axes>"
      ]
     },
     "metadata": {},
     "output_type": "display_data"
    }
   ],
   "source": [
    "# Compare the number of minutes users of each plan require each month. Plot a histogram.\n",
    "\n",
    "month_user_min_surf = user_month_record[user_month_record['plan'] == 'surf'].groupby(['user_id', 'month'])['minutes_total'].sum()\n",
    "month_user_min_ultimate = user_month_record[user_month_record['plan'] == 'ultimate'].groupby(['user_id', 'month'])['minutes_total'].sum()\n",
    "\n",
    "month_user_min_surf.plot(kind='hist', bins=40, figsize=[9, 7])\n",
    "month_user_min_ultimate.plot(kind='hist', bins=40, alpha=.7)\n",
    "\n",
    "plt.legend(['Surf', 'Ultimate'])\n",
    "plt.xlabel('Total Minutes Used in 1 Month')\n",
    "plt.ylabel('Frequency')\n",
    "plt.title('How Many Minutes Do Customers Use Each Month?')\n",
    "plt.grid(visible=True, axis='y', alpha=.5)\n",
    "plt.show()"
   ]
  },
  {
   "cell_type": "markdown",
   "metadata": {},
   "source": [
    "**It seems the average minutes per month for each user is between 400 - 600 for both service plans, with Ultimate having slightly more after the ~1200 minute mark. Surf has significantly more customers than Ultimate and it shows here. Surf users are getting the most bang for their buck here if signing up for just call service.**"
   ]
  },
  {
   "cell_type": "markdown",
   "metadata": {},
   "source": [
    "[Calculate the mean and the variable of the call duration to reason on whether users on the different plans have different behaviours for their calls.]"
   ]
  },
  {
   "cell_type": "code",
   "execution_count": 30,
   "metadata": {},
   "outputs": [
    {
     "data": {
      "text/html": [
       "<div>\n",
       "<style scoped>\n",
       "    .dataframe tbody tr th:only-of-type {\n",
       "        vertical-align: middle;\n",
       "    }\n",
       "\n",
       "    .dataframe tbody tr th {\n",
       "        vertical-align: top;\n",
       "    }\n",
       "\n",
       "    .dataframe thead th {\n",
       "        text-align: right;\n",
       "    }\n",
       "</style>\n",
       "<table border=\"1\" class=\"dataframe\">\n",
       "  <thead>\n",
       "    <tr style=\"text-align: right;\">\n",
       "      <th></th>\n",
       "      <th>surf_min</th>\n",
       "      <th>ultimate_min</th>\n",
       "    </tr>\n",
       "    <tr>\n",
       "      <th>month</th>\n",
       "      <th></th>\n",
       "      <th></th>\n",
       "    </tr>\n",
       "  </thead>\n",
       "  <tbody>\n",
       "    <tr>\n",
       "      <th>2018-01</th>\n",
       "      <td>203.000000</td>\n",
       "      <td>193.500000</td>\n",
       "    </tr>\n",
       "    <tr>\n",
       "      <th>2018-02</th>\n",
       "      <td>297.000000</td>\n",
       "      <td>470.333333</td>\n",
       "    </tr>\n",
       "    <tr>\n",
       "      <th>2018-03</th>\n",
       "      <td>330.000000</td>\n",
       "      <td>304.250000</td>\n",
       "    </tr>\n",
       "    <tr>\n",
       "      <th>2018-04</th>\n",
       "      <td>351.540000</td>\n",
       "      <td>336.857143</td>\n",
       "    </tr>\n",
       "    <tr>\n",
       "      <th>2018-05</th>\n",
       "      <td>410.240000</td>\n",
       "      <td>406.241379</td>\n",
       "    </tr>\n",
       "    <tr>\n",
       "      <th>2018-06</th>\n",
       "      <td>435.791667</td>\n",
       "      <td>387.444444</td>\n",
       "    </tr>\n",
       "    <tr>\n",
       "      <th>2018-07</th>\n",
       "      <td>453.733333</td>\n",
       "      <td>427.067797</td>\n",
       "    </tr>\n",
       "    <tr>\n",
       "      <th>2018-08</th>\n",
       "      <td>417.849057</td>\n",
       "      <td>421.436620</td>\n",
       "    </tr>\n",
       "    <tr>\n",
       "      <th>2018-09</th>\n",
       "      <td>420.732984</td>\n",
       "      <td>437.511628</td>\n",
       "    </tr>\n",
       "    <tr>\n",
       "      <th>2018-10</th>\n",
       "      <td>438.991379</td>\n",
       "      <td>455.028571</td>\n",
       "    </tr>\n",
       "    <tr>\n",
       "      <th>2018-11</th>\n",
       "      <td>432.494585</td>\n",
       "      <td>448.730159</td>\n",
       "    </tr>\n",
       "    <tr>\n",
       "      <th>2018-12</th>\n",
       "      <td>484.501608</td>\n",
       "      <td>465.261745</td>\n",
       "    </tr>\n",
       "  </tbody>\n",
       "</table>\n",
       "</div>"
      ],
      "text/plain": [
       "           surf_min  ultimate_min\n",
       "month                            \n",
       "2018-01  203.000000    193.500000\n",
       "2018-02  297.000000    470.333333\n",
       "2018-03  330.000000    304.250000\n",
       "2018-04  351.540000    336.857143\n",
       "2018-05  410.240000    406.241379\n",
       "2018-06  435.791667    387.444444\n",
       "2018-07  453.733333    427.067797\n",
       "2018-08  417.849057    421.436620\n",
       "2018-09  420.732984    437.511628\n",
       "2018-10  438.991379    455.028571\n",
       "2018-11  432.494585    448.730159\n",
       "2018-12  484.501608    465.261745"
      ]
     },
     "metadata": {},
     "output_type": "display_data"
    },
    {
     "name": "stdout",
     "output_type": "stream",
     "text": [
      "**Above are the mean values for call duration by month and plan.**\n",
      "\n",
      "Surf Variance: 6374.619145867013\n",
      "Surf Std.Deviation: 79.84121207664005\n",
      "\n",
      "Ultimate Variance: 6638.451229390735\n",
      "Ultimate Std.Deviation: 81.47669132574502\n"
     ]
    }
   ],
   "source": [
    "# Calculate the mean and the variance of the monthly call duration\n",
    "\n",
    "\n",
    "month_user_min_surf_mean = user_month_record[user_month_record['plan'] == 'surf'].groupby('month')['minutes_total'].mean()\n",
    "month_user_min_ultimate_mean = user_month_record[user_month_record['plan'] == 'ultimate'].groupby('month')['minutes_total'].mean()\n",
    "\n",
    "month_user_min_surf_var = month_user_min_surf_mean.var()\n",
    "month_user_min_ultimate_var = month_user_min_ultimate_mean.var()\n",
    "\n",
    "month_user_min_surf_std = mt.sqrt(month_user_min_surf_var)\n",
    "month_user_min_ultimate_std = mt.sqrt(month_user_min_ultimate_var)\n",
    "\n",
    "month_user_min_box = pd.DataFrame({'surf_min' : month_user_min_surf_mean, 'ultimate_min' : month_user_min_ultimate_mean})\n",
    "\n",
    "display(month_user_min_box)\n",
    "print(f'**Above are the mean values for call duration by month and plan.**')\n",
    "print()\n",
    "print(f'Surf Variance: {month_user_min_surf_var}\\nSurf Std.Deviation: {month_user_min_surf_std}')\n",
    "print()\n",
    "print(f'Ultimate Variance: {month_user_min_ultimate_var}\\nUltimate Std.Deviation: {month_user_min_ultimate_std}')"
   ]
  },
  {
   "cell_type": "markdown",
   "metadata": {},
   "source": [
    "**I'm not 100% sure what 'monthly call duration' means exactly in this context, but the average call duration by user doesn't seem to be a usefel metric for calculations here seeing as though all values were between 6.6 - 7.4. Taking the sum of all calls divided by number of users, gives us the average monthly call duration...? Monthly call duration sounds like the duration of one phone call per month, but we know that isn't the case.**"
   ]
  },
  {
   "cell_type": "code",
   "execution_count": 31,
   "metadata": {},
   "outputs": [
    {
     "data": {
      "image/png": "[encoded data removed]",
      "text/plain": [
       "<Figure size 500x500 with 1 Axes>"
      ]
     },
     "metadata": {},
     "output_type": "display_data"
    }
   ],
   "source": [
    "# Plot a boxplot to visualize the distribution of the monthly call duration\n",
    "\n",
    "plt.figure(figsize=[5, 5])\n",
    "sns.boxplot(data=month_user_min_box)\n",
    "plt.title('Average Monthly Call Duration')\n",
    "plt.grid(axis='y', alpha=.5)\n",
    "plt.show()"
   ]
  },
  {
   "cell_type": "markdown",
   "metadata": {},
   "source": [
    "**It seems both plans have similar call behavior between their users, with Surf having more of a spread. This is most likely due to Surf having substantially more calls and minutes total, offering a more detailed look. The median values for both sets lie within the 420-430 range, with Ultimate having higher Q1 and Q3, indicating users with Ultimate tend to average more minutes than Surf users**"
   ]
  },
  {
   "cell_type": "markdown",
   "metadata": {},
   "source": [
    "<div style=\"background-color: #d4edda; color: #155724; padding: 15px; border-radius: 4px; border: 1px solid #c3e6cb;\">\n",
    " \n",
    "<b>Reviewer's comment v1:</b>\n",
    "    \n",
    "Great analysis! Like the structure and that you've used different types of charts to check data. "
   ]
  },
  {
   "cell_type": "markdown",
   "metadata": {},
   "source": [
    " "
   ]
  },
  {
   "cell_type": "markdown",
   "metadata": {},
   "source": [
    "### Messages"
   ]
  },
  {
   "cell_type": "code",
   "execution_count": 32,
   "metadata": {},
   "outputs": [
    {
     "data": {
      "image/png": "[encoded data removed]",
      "text/plain": [
       "<Figure size 1000x600 with 1 Axes>"
      ]
     },
     "metadata": {},
     "output_type": "display_data"
    }
   ],
   "source": [
    "# Compare the number of messages users of each plan tend to send each month\n",
    "\n",
    "month_user_message_surf = user_month_record[user_month_record['plan'] == 'surf'].groupby(['user_id', 'month'])['message_quantity'].sum()\n",
    "month_user_message_ultimate = user_month_record[user_month_record['plan'] == 'ultimate'].groupby(['user_id', 'month'])['message_quantity'].sum()\n",
    "\n",
    "#display(user_month_record)\n",
    "#display(month_user_message_surf, month_user_message_ultimate)\n",
    "#print(month_user_message_surf[month_user_message_surf < 20].count())\n",
    "\n",
    "month_user_message_surf.plot(kind='hist', bins=30, figsize=[10, 6])\n",
    "month_user_message_ultimate.plot(kind='hist', bins=30, alpha=.7)\n",
    "\n",
    "plt.xlabel('Number of Messages Sent in 1 Month')\n",
    "plt.ylabel('Frequency')\n",
    "plt.legend(['Surf', 'Ultimate'])\n",
    "plt.grid(axis='y', alpha=.5)\n",
    "plt.title('How Many Messages are Customers Sending Each Month?')\n",
    "plt.show()"
   ]
  },
  {
   "cell_type": "markdown",
   "metadata": {},
   "source": [
    "**There are many users from both plans that have a message quantity of 0, but they are still customers in this analysis, and omitting 'user 5' from one analysis because of missing values in variable 'x', would seem like introducing a sort of bias?**"
   ]
  },
  {
   "cell_type": "code",
   "execution_count": 33,
   "metadata": {},
   "outputs": [
    {
     "data": {
      "image/png": "[encoded data removed]",
      "text/plain": [
       "<Figure size 500x500 with 1 Axes>"
      ]
     },
     "metadata": {},
     "output_type": "display_data"
    }
   ],
   "source": [
    "month_user_message_box = pd.DataFrame({'surf_message_quantity' : month_user_message_surf,\n",
    "                                       'ultimate_message_quantity' : month_user_message_ultimate,\n",
    "                                      })\n",
    "plt.figure(figsize=[5, 5])\n",
    "sns.boxplot(data=month_user_message_box)\n",
    "plt.title('Monthly Message Quantity Distribution')\n",
    "plt.grid(axis='y', alpha=.5)\n",
    "plt.show()\n",
    "\n",
    "#display(month_user_message_box)"
   ]
  },
  {
   "cell_type": "markdown",
   "metadata": {},
   "source": [
    "**We can see that the median values for both plans is somewhere around 25-30, with Ultimate making it past 50 in their 3rd quartile. This makes sense, since Surf's monthly message allowance is 50, while Ulimate does not have this restriction. This explains why 75% of Surf users fall below 50 messages in one month. However, Surf has more extreme outliers compared to Ultimate, maybe a few select Surf customers being heavy text users, justified the lower base cost plus the premium. Since Surf charges $.03 per extra text, you would need to send 1,667 messages for your Surf bill to match baseline Ultimate.**"
   ]
  },
  {
   "cell_type": "code",
   "execution_count": 34,
   "metadata": {},
   "outputs": [
    {
     "name": "stdout",
     "output_type": "stream",
     "text": [
      "Surf Messages:\n",
      "Mean: 31.15956770502225\n",
      "Variance: 1126.7245219504068\n",
      "St.Deviation: 33.566717473569064 \n",
      "\n",
      "Ultimate Messages:\n",
      "Mean: 37.55138888888889\n",
      "Variance: 1208.7567435481378\n",
      "St.Deviation: 34.76717911404573\n"
     ]
    }
   ],
   "source": [
    "#month_user_message_surf_mean = month_user_message_surf.mean()\n",
    "#month_user_message_ultimate_mean = month_user_message_ultimate.mean()\n",
    "\n",
    "#month_user_message_surf_var = month_user_message_surf.var()\n",
    "#month_user_message_ultimate_var = month_user_message_ultimate.var()\n",
    "\n",
    "#month_user_message_surf_stdv = mt.sqrt(month_user_message_surf_var)\n",
    "#month_user_message_ultimate_stdv = mt.sqrt(month_user_message_ultimate_var)\n",
    "\n",
    "#print(f'--Surf--Monthly--Messages--\\nMean: {month_user_message_surf_mean}\\nVariance: {month_user_message_surf_var}\\nSt.Deviation: {month_user_message_surf_stdv}')\n",
    "#print()\n",
    "#print(f'--Ultimate--Monthly--Messages--\\nMean: {month_user_message_ultimate_mean}\\nVariance: {month_user_message_ultimate_var}\\nSt.Deviation: {month_user_message_ultimate_stdv}')\n",
    "\n",
    "def mean_var_stdv(series):\n",
    "    mean = series.mean()\n",
    "    var = series.var()\n",
    "    stdv = mt.sqrt(var)\n",
    "    return f'Mean: {mean}\\nVariance: {var}\\nSt.Deviation: {stdv}'\n",
    "\n",
    "print(f'Surf Messages:\\n{mean_var_stdv(month_user_message_surf)}','\\n\\n' f'Ultimate Messages:\\n{mean_var_stdv(month_user_message_ultimate)}')"
   ]
  },
  {
   "cell_type": "markdown",
   "metadata": {},
   "source": [
    "**From my observations: Surf users average a lower message count per month, but have more extreme outliers. Meanwhile, Ultimate has a slighlty higher average, with more evenly distributed values. There is a certain level of 'awareness' that Surf customers seem to have surrounding their 50 per month limit, especially considering that Surf has significantly more customers and still averaging less. While Ultimate users do not have to work within restrictions, which explains the smoother distribution.**"
   ]
  },
  {
   "cell_type": "markdown",
   "metadata": {},
   "source": [
    "[Formulate conclusions on how the users behave in terms of messaging. Is their behaviour different between the plans?]"
   ]
  },
  {
   "cell_type": "markdown",
   "metadata": {},
   "source": [
    "<div style=\"background-color: #fff3cd; color: #856404; padding: 15px; border-radius: 4px; border: 1px solid #ffeeba;\">\n",
    "\n",
    "<b>Reviewer's comment v1:</b>\n",
    "    \n",
    "To avoid repetitive code, you could use functions. "
   ]
  },
  {
   "cell_type": "markdown",
   "metadata": {},
   "source": [
    " "
   ]
  },
  {
   "cell_type": "markdown",
   "metadata": {},
   "source": [
    "### Internet"
   ]
  },
  {
   "cell_type": "code",
   "execution_count": 35,
   "metadata": {},
   "outputs": [
    {
     "data": {
      "image/png": "[encoded data removed]",
      "text/plain": [
       "<Figure size 1000x600 with 1 Axes>"
      ]
     },
     "metadata": {},
     "output_type": "display_data"
    }
   ],
   "source": [
    "month_user_data_surf = user_month_record[user_month_record['plan'] == 'surf'].groupby(['user_id', 'month'])['gb_used'].sum()\n",
    "month_user_data_ultimate = user_month_record[user_month_record['plan'] == 'ultimate'].groupby(['user_id', 'month'])['gb_used'].sum()\n",
    "\n",
    "month_user_data_surf.plot(kind='hist', bins=30, figsize=[10, 6])\n",
    "month_user_data_ultimate.plot(kind='hist', bins=30, alpha=.7)\n",
    "\n",
    "plt.legend(['Surf', 'Ultimate'])\n",
    "plt.title('How Much Data do Customers Use Each Month?')\n",
    "plt.xlabel('Data Used (GB)')\n",
    "plt.ylabel('Frequency')\n",
    "plt.grid(axis='y', alpha=.5)\n",
    "plt.show()\n",
    "\n",
    "#display(month_user_data_surf, month_user_data_ultimate)\n",
    "#display(user_month_record)"
   ]
  },
  {
   "cell_type": "markdown",
   "metadata": {},
   "source": [
    "**From this histogram we can see that the mean amount of data usage for both plans is ~15GB for Surf, and ~17GB for Ultimate. Surf also has a seperate peak of around 200 instances of ~25GB data usage, with a sharp decline afterwards, and a few outliers at 40GB, 50GB, and 70GB. Ultimate has a much smoother and more traditional distribution, with users averaging around 17GB, and less sharp of an incline following the 3rd quartile. From this graph we cannot see any extreme outliers from Ultimate, but the box plot will show us in the next graph.**"
   ]
  },
  {
   "cell_type": "code",
   "execution_count": 36,
   "metadata": {},
   "outputs": [
    {
     "data": {
      "image/png": "[encoded data removed]",
      "text/plain": [
       "<Figure size 500x500 with 1 Axes>"
      ]
     },
     "metadata": {},
     "output_type": "display_data"
    }
   ],
   "source": [
    "month_user_data_box = pd.DataFrame({'surf_gb_used' : month_user_data_surf,\n",
    "                                    'ultimate_gb_used' : month_user_data_ultimate,\n",
    "                                   })\n",
    "\n",
    "plt.figure(figsize=[5, 5])\n",
    "sns.boxplot(data=month_user_data_box)\n",
    "plt.title('Monthly Data Usage Distribution')\n",
    "plt.grid(axis='y', alpha=.5)\n",
    "plt.show()\n",
    "\n",
    "#display(month_user_data_box)"
   ]
  },
  {
   "cell_type": "markdown",
   "metadata": {},
   "source": [
    "**This box plot shows us that the distributons are nearly identical. With Surf surprisingly having users exceding 50GB of data. At $10 per GB of extra data, Surf is making bank off of some customers with over 50% of users surpassing their 15GB data limit.**\n",
    "\n",
    "**On the other hand, more than 75% of Ultimate users fall within their 30GB monthly usage limit. Few customers surpass their monthly limit, with the highest usage just shy of 50GB, and at 7$ per GB, this isn't bringing in as much profit for them as it would for Surf.**\n",
    "\n",
    "**Data usage / media consumption seem to be prevelant regardless of plan restrictions.**"
   ]
  },
  {
   "cell_type": "code",
   "execution_count": 37,
   "metadata": {},
   "outputs": [
    {
     "name": "stdout",
     "output_type": "stream",
     "text": [
      "Surf Data(GB):\n",
      "Mean: 16.670692943420217\n",
      "Variance: 61.58359983759013\n",
      "St.Deviation: 7.847521891501172 \n",
      "\n",
      "Ultimate Data(GB):\n",
      "Mean: 17.306944444444444\n",
      "Variance: 58.830549760469786\n",
      "St.Deviation: 7.670107545560869\n"
     ]
    }
   ],
   "source": [
    "#month_user_data_surf_mean = month_user_data_surf.mean()\n",
    "#month_user_data_ultimate_mean = month_user_data_ultimate.mean()\n",
    "\n",
    "#month_user_data_surf_var = month_user_data_surf.var()\n",
    "#month_user_data_ultimate_var = month_user_data_ultimate.var()\n",
    "\n",
    "#month_user_data_surf_stdv = mt.sqrt(month_user_data_surf_var)\n",
    "#month_user_data_ultimate_stdv = mt.sqrt(month_user_data_ultimate_var)\n",
    "\n",
    "#print(f'--Surf--Monthly--Data(GB)--\\nMean: {month_user_data_surf_mean}\\nVariance: {month_user_data_surf_var}\\nSt.Deviation: {month_user_data_surf_stdv}')\n",
    "#print()\n",
    "#print(f'--Ultimate--Monthly--Data(GB)--\\nMean: {month_user_data_ultimate_mean}\\nVariance: {month_user_data_ultimate_var}\\nSt.Deviation: {month_user_data_ultimate_stdv}')\n",
    "\n",
    "print(f'Surf Data(GB):\\n{mean_var_stdv(month_user_data_surf)}','\\n\\n' f'Ultimate Data(GB):\\n{mean_var_stdv(month_user_data_ultimate)}')"
   ]
  },
  {
   "cell_type": "markdown",
   "metadata": {},
   "source": [
    "**From this we can see even more intimately that both plans experience extremely similar data usage. Something worth noting though is that Surf's usage average is actually above their monthly allowance, which coincides with the box plot from earlier.**"
   ]
  },
  {
   "cell_type": "markdown",
   "metadata": {},
   "source": [
    "[Formulate conclusions on how the users tend to consume the internet traffic? Is their behaviour different between the plans?]"
   ]
  },
  {
   "cell_type": "markdown",
   "metadata": {},
   "source": [
    " "
   ]
  },
  {
   "cell_type": "markdown",
   "metadata": {},
   "source": [
    "## Revenue"
   ]
  },
  {
   "cell_type": "markdown",
   "metadata": {},
   "source": [
    "[Likewise you have studied the user behaviour, statistically describe the revenue between the plans.]"
   ]
  },
  {
   "cell_type": "code",
   "execution_count": 38,
   "metadata": {},
   "outputs": [
    {
     "data": {
      "image/png": "[encoded data removed]",
      "text/plain": [
       "<Figure size 1000x600 with 1 Axes>"
      ]
     },
     "metadata": {},
     "output_type": "display_data"
    }
   ],
   "source": [
    "month_user_profit_surf = user_month_record[user_month_record['plan'] == 'surf'].groupby(['user_id', 'month'])['monthly_revenue'].sum()\n",
    "month_user_profit_ultimate = user_month_record[user_month_record['plan'] == 'ultimate'].groupby(['user_id', 'month'])['monthly_revenue'].sum()\n",
    "\n",
    "month_user_profit_surf.plot(kind='hist', bins=25, figsize=[10, 6])\n",
    "month_user_profit_ultimate.plot(kind='hist', bins=5, alpha=.7)\n",
    "\n",
    "plt.title('How Much Are Customers Paying Each Month?')\n",
    "plt.xlabel('Amount ($USD)')\n",
    "plt.ylabel('Frequency')\n",
    "plt.grid(axis='y', alpha=.5)\n",
    "plt.show()\n",
    "\n",
    "#display(month_user_profit_surf, month_user_profit_ultimate)\n",
    "#display(user_month_record)"
   ]
  },
  {
   "cell_type": "markdown",
   "metadata": {},
   "source": [
    "**Both plans have a bulk of their users within their base monthly charge, Surf being 20 USD, and Ultimate being 70 USD. However, Surf has substantially more users paying more than the base price, with majority of Ultimate customers staying within their allowances and by exension their flat rate.**"
   ]
  },
  {
   "cell_type": "code",
   "execution_count": 39,
   "metadata": {},
   "outputs": [
    {
     "data": {
      "image/png": "[encoded data removed]",
      "text/plain": [
       "<Figure size 500x500 with 1 Axes>"
      ]
     },
     "metadata": {},
     "output_type": "display_data"
    }
   ],
   "source": [
    "month_user_profit_box = pd.DataFrame({'surf_profit' : month_user_profit_surf,\n",
    "                                      'ultimate_profit' : month_user_profit_ultimate,\n",
    "                                     })\n",
    "\n",
    "#display(month_user_profit_box)\n",
    "\n",
    "plt.figure(figsize=[5, 5])\n",
    "sns.boxplot(data=month_user_profit_box)\n",
    "plt.title('Monthly Profit Distribution')\n",
    "plt.grid(axis='y', alpha=.5)\n",
    "plt.show()"
   ]
  },
  {
   "cell_type": "markdown",
   "metadata": {},
   "source": [
    "**A wicked looking box-plot, but an expected one. This may not be the best graph to display such a metric given the context, but it allows us to clearly see any outliers in our data set. It seems like a decent number of Surf customers would benefit from switching to Ultimate, especially those with high data usage. Having a plus 15GB would save them $150 under Ultimate, and a 3 USD reduction on any GB after the allowance.**"
   ]
  },
  {
   "cell_type": "code",
   "execution_count": 40,
   "metadata": {},
   "outputs": [
    {
     "name": "stdout",
     "output_type": "stream",
     "text": [
      "Surf Profit(USD):\n",
      "Mean: 60.706408137317226\n",
      "Variance: 3067.835152293878\n",
      "St.Deviation: 55.388041600095214 \n",
      "\n",
      "Ultimate Profit(USD):\n",
      "Mean: 72.31388888888888\n",
      "Variance: 129.8484855509195\n",
      "St.Deviation: 11.395107965742119\n"
     ]
    }
   ],
   "source": [
    "#month_user_profit_surf_mean = month_user_profit_surf.mean()\n",
    "#month_user_profit_ultimate_mean = month_user_profit_ultimate.mean()\n",
    "\n",
    "#month_user_profit_surf_var = month_user_profit_surf.var()\n",
    "#month_user_profit_ultimate_var = month_user_profit_ultimate.var()\n",
    "\n",
    "#month_user_profit_surf_stdv = mt.sqrt(month_user_profit_surf_var)\n",
    "#month_user_profit_ultimate_stdv = mt.sqrt(month_user_profit_ultimate_var)\n",
    "\n",
    "#print(f'--Surf--Monthly--Profit(USD)--\\nMean: {month_user_profit_surf_mean}\\nVariance: {month_user_profit_surf_var}\\nSt.Deviation: {month_user_profit_surf_stdv}')\n",
    "#print()\n",
    "#print(f'--Ultimate--Monthly--Profit(USD)--\\nMean: {month_user_profit_ultimate_mean}\\nVariance: {month_user_profit_ultimate_var}\\nSt.Deviation: {month_user_profit_ultimate_stdv}')\n",
    "\n",
    "print(f'Surf Profit(USD):\\n{mean_var_stdv(month_user_profit_surf)}','\\n\\n' f'Ultimate Profit(USD):\\n{mean_var_stdv(month_user_profit_ultimate)}')"
   ]
  },
  {
   "cell_type": "markdown",
   "metadata": {},
   "source": [
    "**Our eyes are looking at something interesting at work here, the average monthly payment for Surf is 3 times their base price, while Ultimate's average is sitting nicely near their 70 USD price. The standard deviations are also interesting, the 3 sigma rule tells us that 99% of values are within 60.13 + 160.59, or intuitively between the range of 20 USD - 220.72 USD for Surf. For Ultimate this means 99% of values are within 72.28 + 34.05, or intuitively beween 70 USD - 106.33 USD**"
   ]
  },
  {
   "cell_type": "markdown",
   "metadata": {},
   "source": [
    "<div style=\"background-color: #d4edda; color: #155724; padding: 15px; border-radius: 4px; border: 1px solid #c3e6cb;\">\n",
    "\n",
    "<b>Reviewer's comment v1:</b>\n",
    "    \n",
    "I will write overall thoughts about the data analysis section:\n",
    "- Very nice visualization of the data. It's great that you combined both plans in one graph for comparison and also used different graph types to check the available data.\n",
    "- If you have time and are willing to practice, you can display two charts (a histogram and a boxplot) using a two-column subplot.\n",
    "\n",
    "```\n",
    "    # Create one row with 2 columns\n",
    "\t  fig, axes = plt.subplots(1, 2, figsize=(16, 5))\n",
    "\n",
    "\t  # Create a histogram for the surf plan\n",
    "\t  sns.distplot(... ax=axes[0])\n",
    "\t  # Create a histogram for the second plan\n",
    "\t  sns.distplot(... ax=axes[0])\n",
    "\t\n",
    "\t  # Create a boxplot for both plans\n",
    "\t  sns.boxplot(... ax=axes[1])\n",
    "```"
   ]
  },
  {
   "cell_type": "markdown",
   "metadata": {},
   "source": [
    " "
   ]
  },
  {
   "cell_type": "markdown",
   "metadata": {},
   "source": [
    "## Test statistical hypotheses"
   ]
  },
  {
   "cell_type": "markdown",
   "metadata": {},
   "source": [
    "[Test the hypothesis that the average revenue from users of the Ultimate and Surf calling plans differs.]"
   ]
  },
  {
   "cell_type": "markdown",
   "metadata": {},
   "source": [
    "[Formulate the null and the alternative hypotheses, choose the statistical test, decide on the alpha value.]"
   ]
  },
  {
   "cell_type": "code",
   "execution_count": 41,
   "metadata": {},
   "outputs": [
    {
     "name": "stdout",
     "output_type": "stream",
     "text": [
      "P-Value:  2.862674510698644e-08\n",
      "We reject the Null-Hypothesis\n"
     ]
    }
   ],
   "source": [
    "# Test the hypotheses\n",
    "\n",
    "#Null-Hypothesis: Surf Mean Revenue (no stat sig diff) Ultimate Mean Revenue\n",
    "#Alternative-Hypothesis: Surf Mean Revenue (yes stat sig diff) Ultimate Mean Revenue\n",
    "\n",
    "surf_profit = month_user_profit_surf\n",
    "ultimate_profit = month_user_profit_ultimate\n",
    "\n",
    "#display(surf_profit, ultimate_profit)\n",
    "\n",
    "alpha = .05\n",
    "\n",
    "results = st.ttest_ind(surf_profit, ultimate_profit)\n",
    "\n",
    "print(f'P-Value: ', results.pvalue)\n",
    "\n",
    "if results.pvalue < alpha:\n",
    "    print('We reject the Null-Hypothesis')\n",
    "else:\n",
    "    print('We do not have sufficient evidence to reject the Null-Hypothesis')"
   ]
  },
  {
   "cell_type": "markdown",
   "metadata": {},
   "source": [
    "<div style=\"background-color: #d4edda; color: #155724; padding: 15px; border-radius: 4px; border: 1px solid #c3e6cb;\">\n",
    "\n",
    "<b>Reviewer's comment v1:</b>\n",
    "\n",
    "    \n",
    "It's great to see that you've clearly formulated your null and alternative hypotheses.\n",
    "\n",
    "This is a crucial step in any data analysis or research project. "
   ]
  },
  {
   "cell_type": "markdown",
   "metadata": {},
   "source": [
    "**Utilizing a statistical significance level of 5%, and receiving a p-value of 2.3*1e-9, we can safely reject the Null-Hypothesis, and conclude that there is a remarkable difference in mean revenue between the two plans.**"
   ]
  },
  {
   "cell_type": "markdown",
   "metadata": {},
   "source": [
    "[Test the hypothesis that the average revenue from users in the NY-NJ area is different from that of the users from the other regions.]"
   ]
  },
  {
   "cell_type": "markdown",
   "metadata": {},
   "source": [
    "[Formulate the null and the alternative hypotheses, choose the statistical test, decide on the alpha value.]"
   ]
  },
  {
   "cell_type": "code",
   "execution_count": 42,
   "metadata": {},
   "outputs": [
    {
     "name": "stdout",
     "output_type": "stream",
     "text": [
      "NY-NJ Profit(USD):\n",
      "Mean: 59.921352785145885\n",
      "Variance: 1895.5456899204246\n",
      "St.Deviation: 43.537865013346995 \n",
      "\n",
      "Elsewhere Profit(USD):\n",
      "Mean: 65.2227713987474\n",
      "Variance: 2225.0479943518917\n",
      "St.Deviation: 47.170414396652184\n"
     ]
    }
   ],
   "source": [
    "ny_nj_user_id = users[users['city'] == 'New York-Newark-Jersey City, NY-NJ-PA MSA']['user_id']\n",
    "\n",
    "monthly_profit = user_month_record[['user_id', 'month', 'monthly_revenue']]\n",
    "\n",
    "ny_nj_profit = monthly_profit[monthly_profit['user_id'].isin(ny_nj_user_id)]['monthly_revenue']\n",
    "elsewhere_profit = monthly_profit[~monthly_profit['user_id'].isin(ny_nj_user_id)]['monthly_revenue']\n",
    "\n",
    "#display(ny_nj_user_id)\n",
    "#display(monthly_profit)\n",
    "#display(ny_nj_profit)\n",
    "#display(elsewhere_profit)\n",
    "\n",
    "#ny_nj_profit_mean = ny_nj_profit.mean()\n",
    "#elsewhere_profit_mean = elsewhere_profit.mean()\n",
    "\n",
    "#ny_nj_profit_var = ny_nj_profit.var()\n",
    "#elsewhere_profit_var = elsewhere_profit.var()\n",
    "\n",
    "#ny_nj_profit_stdv = mt.sqrt(ny_nj_profit_var)\n",
    "#elsewhere_profit_stdv = mt.sqrt(elsewhere_profit_var)\n",
    "\n",
    "#print(f'--NY-NJ--Monthly--Profit(USD)--\\nMean: {ny_nj_profit_mean}\\nVariance: {ny_nj_profit_var}\\nSt.Deviation: {ny_nj_profit_stdv}')\n",
    "#print()\n",
    "#print(f'--Elsewhere--Monthly--Profit(USD)--\\nMean: {elsewhere_profit_mean}\\nVariance: {elsewhere_profit_var}\\nSt.Deviation: {elsewhere_profit_stdv}')\n",
    "\n",
    "print(f'NY-NJ Profit(USD):\\n{mean_var_stdv(ny_nj_profit)}','\\n\\n' f'Elsewhere Profit(USD):\\n{mean_var_stdv(elsewhere_profit)}')"
   ]
  },
  {
   "cell_type": "markdown",
   "metadata": {},
   "source": [
    "**NY-NJ area has a 6 USD lower average revenue compared to everywhere else, with a slightly lower standard deviation as well.**"
   ]
  },
  {
   "cell_type": "code",
   "execution_count": 43,
   "metadata": {},
   "outputs": [
    {
     "name": "stdout",
     "output_type": "stream",
     "text": [
      "P-Value:  0.043557431621342436\n",
      "We reject the Null-Hypothesis\n"
     ]
    }
   ],
   "source": [
    "# Test the hypotheses\n",
    "\n",
    "#Null-Hypothesis: NY-NJ Profit (no stat sig diff) Elsewhere Profit\n",
    "#Alternative-Hypothesis: NY-NJ Profit (yes stat sig diff) Elsewhere Profit\n",
    "\n",
    "alpha = .05\n",
    "\n",
    "results = st.ttest_ind(ny_nj_profit, elsewhere_profit)\n",
    "\n",
    "print(f'P-Value: ', results.pvalue)\n",
    "\n",
    "if results.pvalue < alpha:\n",
    "    print('We reject the Null-Hypothesis')\n",
    "else:\n",
    "    print('We do not have sufficient evidence to reject the Null-Hypothesis')"
   ]
  },
  {
   "cell_type": "markdown",
   "metadata": {},
   "source": [
    "**Utilizing a statistical significance level of 5%, and receiving a p-value of 0.01720375613982688, we can safely reject the Null-Hypothesis, and conclude that there is a remarkable difference between the average revenue of users in the NY-NJ area to everywhere else**."
   ]
  },
  {
   "cell_type": "markdown",
   "metadata": {},
   "source": [
    "<div style=\"background-color: #d4edda; color: #155724; padding: 15px; border-radius: 4px; border: 1px solid #c3e6cb;\">\n",
    "\n",
    "<b>Reviewer's comment v1:</b>\n",
    "    \n",
    "- Everything is correct here.\n",
    "- Your conclusions based on the results are also correct.\n",
    "- You can also additionally compare the variances of the samples before testing hypotheses in order to understand with which equal_var parameter to use the ttest_ind test method (by default, True). Here you can manually calculate variances, or use Levene's statistic test (https://docs.scipy.org/doc/scipy/reference/generated/scipy.stats.levene.html) or Barlett's test (https: //docs.scipy .org / doc / scipy / reference / generated / scipy.stats.bartlett.html # scipy.stats.bartlett)\n",
    "    "
   ]
  },
  {
   "cell_type": "markdown",
   "metadata": {},
   "source": [
    "## General conclusion\n",
    "\n",
    "[List your important conclusions in this final section, make sure they cover all those important decisions (assumptions) that you've made and that led you to the way you processed and analyzed the data.]"
   ]
  },
  {
   "cell_type": "markdown",
   "metadata": {},
   "source": [
    " "
   ]
  },
  {
   "cell_type": "markdown",
   "metadata": {},
   "source": [
    "**During the process of this analysis, one of the most important changes we made to the original data was converting to date-time dtype. All of our observations were done on a by-month basis, which would not have been remotely possible without the ability to index based on time.**\n",
    "\n",
    "**Another observation was that data usage is the largest contributing factor to overall profit, with Surf seeing the largest transactions due to their low monthly allowance and price per GB. As time moves forward, world-wide media consumption will increase, and those who fall within that demographic should consider Ultimate in this case. That is, if they are concerned with paying up to $590.37 under Surf (our largest revenue value for one month).**\n",
    "\n",
    "**Ultimate's 3,000 monthly minutes, and 1,000 texts seems excessive as an allowance during this observation. While on the other hand Surf's 500 minutes, and 50 texts seem like a low ceiling.**"
   ]
  },
  {
   "cell_type": "markdown",
   "metadata": {},
   "source": [
    "<div style=\"background-color: #d4edda; color: #155724; padding: 15px; border-radius: 4px; border: 1px solid #c3e6cb;\">\n",
    "\n",
    "<b>Reviewer's comment v1:</b>\n",
    "\n",
    "    \n",
    "Overall, you conducted excellent research with accurate interim findings, clean code, and clear visualizations.\n",
    "\n",
    "I also appreciate your overall conclusions. They are well-structured and provide valuable insights into what you achieved, as well as recommendations for the business."
   ]
  }
 ],
 "metadata": {
  "ExecuteTimeLog": [
   {
    "duration": 828,
    "start_time": "2021-11-16T09:21:11.304Z"
   },
   {
    "duration": 893,
    "start_time": "2021-11-16T09:21:17.728Z"
   },
   {
    "duration": 1150,
    "start_time": "2021-11-16T09:21:29.568Z"
   },
   {
    "duration": 3,
    "start_time": "2021-11-16T09:24:14.495Z"
   },
   {
    "duration": 120,
    "start_time": "2021-11-16T09:24:46.630Z"
   },
   {
    "duration": 3,
    "start_time": "2021-11-16T09:28:27.882Z"
   },
   {
    "duration": 4,
    "start_time": "2021-11-16T09:29:54.281Z"
   },
   {
    "duration": 3,
    "start_time": "2021-11-16T09:30:45.936Z"
   },
   {
    "duration": 4,
    "start_time": "2021-11-16T09:31:06.300Z"
   },
   {
    "duration": 113,
    "start_time": "2021-11-16T09:31:37.208Z"
   },
   {
    "duration": 143,
    "start_time": "2021-11-16T09:31:48.656Z"
   },
   {
    "duration": 98,
    "start_time": "2021-11-16T09:31:55.678Z"
   },
   {
    "duration": 3,
    "start_time": "2021-11-16T09:32:08.535Z"
   },
   {
    "duration": 111,
    "start_time": "2021-11-16T09:32:10.120Z"
   },
   {
    "duration": 3,
    "start_time": "2021-11-16T09:32:15.732Z"
   },
   {
    "duration": 4,
    "start_time": "2021-11-16T09:32:29.423Z"
   },
   {
    "duration": 3,
    "start_time": "2021-11-16T10:03:03.074Z"
   },
   {
    "duration": 3,
    "start_time": "2021-11-16T10:10:01.288Z"
   },
   {
    "duration": 3,
    "start_time": "2021-11-16T10:10:46.923Z"
   },
   {
    "duration": 121,
    "start_time": "2021-11-16T10:37:46.494Z"
   },
   {
    "duration": 125,
    "start_time": "2021-11-16T10:38:20.632Z"
   },
   {
    "duration": 112,
    "start_time": "2021-11-16T10:46:53.001Z"
   },
   {
    "duration": 110,
    "start_time": "2021-11-16T10:48:25.775Z"
   },
   {
    "duration": 3,
    "start_time": "2021-11-16T10:50:18.720Z"
   },
   {
    "duration": 4,
    "start_time": "2021-11-16T10:50:37.649Z"
   },
   {
    "duration": 2,
    "start_time": "2021-11-16T10:50:51.884Z"
   },
   {
    "duration": 3,
    "start_time": "2021-11-16T10:51:56.237Z"
   },
   {
    "duration": 101,
    "start_time": "2021-11-16T10:53:13.791Z"
   },
   {
    "duration": 3,
    "start_time": "2021-11-16T10:55:59.186Z"
   },
   {
    "duration": 3,
    "start_time": "2021-11-16T10:56:10.751Z"
   },
   {
    "duration": 3,
    "start_time": "2021-11-16T10:56:49.038Z"
   },
   {
    "duration": 3,
    "start_time": "2021-11-16T10:56:49.174Z"
   },
   {
    "duration": 4,
    "start_time": "2021-11-16T10:56:49.414Z"
   },
   {
    "duration": 3,
    "start_time": "2021-11-16T10:56:49.680Z"
   },
   {
    "duration": 3,
    "start_time": "2021-11-16T10:56:50.370Z"
   },
   {
    "duration": 114,
    "start_time": "2021-11-16T10:59:34.518Z"
   },
   {
    "duration": 3,
    "start_time": "2021-11-16T11:01:41.201Z"
   },
   {
    "duration": 116,
    "start_time": "2021-11-16T11:01:48.754Z"
   },
   {
    "duration": 3,
    "start_time": "2021-11-16T11:02:16.685Z"
   },
   {
    "duration": 3,
    "start_time": "2021-11-16T11:02:19.479Z"
   },
   {
    "duration": 3,
    "start_time": "2021-11-16T11:02:47.067Z"
   },
   {
    "duration": 3,
    "start_time": "2021-11-16T11:02:49.353Z"
   },
   {
    "duration": 3,
    "start_time": "2021-11-16T11:03:07.835Z"
   },
   {
    "duration": 3,
    "start_time": "2021-11-16T11:03:07.953Z"
   },
   {
    "duration": 112,
    "start_time": "2021-11-16T11:07:52.072Z"
   },
   {
    "duration": 187,
    "start_time": "2021-11-16T11:09:23.468Z"
   },
   {
    "duration": 4,
    "start_time": "2021-11-16T11:10:01.455Z"
   },
   {
    "duration": 3,
    "start_time": "2021-11-16T11:10:05.069Z"
   },
   {
    "duration": 4,
    "start_time": "2021-11-16T11:10:13.376Z"
   },
   {
    "duration": 3,
    "start_time": "2021-11-16T11:10:14.434Z"
   },
   {
    "duration": 3,
    "start_time": "2021-11-16T11:10:22.853Z"
   },
   {
    "duration": 4,
    "start_time": "2021-11-16T11:27:29.279Z"
   },
   {
    "duration": 4,
    "start_time": "2021-11-16T11:29:08.919Z"
   },
   {
    "duration": 118,
    "start_time": "2021-11-16T11:29:46.703Z"
   },
   {
    "duration": 437,
    "start_time": "2021-11-16T11:36:02.181Z"
   },
   {
    "duration": 157,
    "start_time": "2021-11-16T11:36:14.388Z"
   },
   {
    "duration": 207,
    "start_time": "2021-11-16T11:47:15.898Z"
   },
   {
    "duration": 3,
    "start_time": "2021-11-16T11:53:52.092Z"
   },
   {
    "duration": 3,
    "start_time": "2021-11-16T11:53:52.236Z"
   },
   {
    "duration": 3,
    "start_time": "2021-11-16T11:59:12.005Z"
   },
   {
    "duration": 112,
    "start_time": "2021-11-16T12:00:33.446Z"
   },
   {
    "duration": 3,
    "start_time": "2021-11-16T12:02:14.453Z"
   },
   {
    "duration": 3,
    "start_time": "2021-11-16T12:02:39.512Z"
   },
   {
    "duration": 106,
    "start_time": "2021-11-16T12:03:03.460Z"
   },
   {
    "duration": 3,
    "start_time": "2021-11-17T20:37:21.139Z"
   },
   {
    "duration": 3,
    "start_time": "2021-11-17T20:37:22.229Z"
   },
   {
    "duration": 3,
    "start_time": "2021-11-17T20:38:38.806Z"
   },
   {
    "duration": 3,
    "start_time": "2021-11-17T20:38:41.958Z"
   },
   {
    "duration": 3,
    "start_time": "2021-11-17T20:43:46.551Z"
   },
   {
    "duration": 4,
    "start_time": "2021-11-17T20:58:21.835Z"
   },
   {
    "duration": 3,
    "start_time": "2021-11-17T20:59:21.872Z"
   },
   {
    "duration": 4,
    "start_time": "2021-11-17T20:59:45.352Z"
   },
   {
    "duration": 4,
    "start_time": "2021-11-17T20:59:49.646Z"
   },
   {
    "duration": 159,
    "start_time": "2021-11-17T21:02:26.949Z"
   },
   {
    "duration": 3,
    "start_time": "2021-11-17T21:03:53.461Z"
   },
   {
    "duration": 3,
    "start_time": "2021-11-17T21:03:53.694Z"
   },
   {
    "duration": 3,
    "start_time": "2021-11-17T21:05:28.145Z"
   },
   {
    "duration": 116,
    "start_time": "2021-11-17T21:05:57.787Z"
   },
   {
    "duration": 3,
    "start_time": "2021-11-17T21:06:37.993Z"
   },
   {
    "duration": 3,
    "start_time": "2021-11-17T21:06:38.261Z"
   },
   {
    "duration": 3,
    "start_time": "2021-11-17T21:11:54.358Z"
   },
   {
    "duration": 3,
    "start_time": "2021-11-17T21:12:43.846Z"
   },
   {
    "duration": 4,
    "start_time": "2021-11-17T21:13:08.773Z"
   },
   {
    "duration": 3,
    "start_time": "2021-11-17T21:14:44.441Z"
   },
   {
    "duration": 3,
    "start_time": "2021-11-17T21:15:42.059Z"
   },
   {
    "duration": 4,
    "start_time": "2021-11-17T21:15:51.995Z"
   },
   {
    "duration": 3,
    "start_time": "2021-11-17T21:15:53.923Z"
   },
   {
    "duration": 3,
    "start_time": "2021-11-17T21:15:55.282Z"
   },
   {
    "duration": 3,
    "start_time": "2021-11-17T21:16:28.492Z"
   },
   {
    "duration": 3,
    "start_time": "2021-11-17T21:16:32.603Z"
   },
   {
    "duration": 3,
    "start_time": "2021-11-17T21:17:06.941Z"
   },
   {
    "duration": 98,
    "start_time": "2021-11-17T21:18:05.733Z"
   },
   {
    "duration": 4,
    "start_time": "2021-11-17T21:21:35.255Z"
   },
   {
    "duration": 3,
    "start_time": "2021-11-17T21:21:37.804Z"
   },
   {
    "duration": 4,
    "start_time": "2021-11-17T21:23:06.071Z"
   },
   {
    "duration": 3,
    "start_time": "2021-11-17T21:23:24.799Z"
   },
   {
    "duration": 3,
    "start_time": "2021-11-17T21:23:32.591Z"
   },
   {
    "duration": 98,
    "start_time": "2021-11-17T21:28:31.559Z"
   },
   {
    "duration": 3,
    "start_time": "2021-11-17T21:28:45.448Z"
   },
   {
    "duration": 3,
    "start_time": "2021-11-17T21:29:17.303Z"
   },
   {
    "duration": 3,
    "start_time": "2021-11-17T21:29:29.617Z"
   },
   {
    "duration": 3,
    "start_time": "2021-11-17T21:29:32.681Z"
   },
   {
    "duration": 3,
    "start_time": "2021-11-17T21:36:11.474Z"
   },
   {
    "duration": 3,
    "start_time": "2021-11-17T21:36:14.791Z"
   },
   {
    "duration": 3,
    "start_time": "2021-11-17T21:36:53.943Z"
   },
   {
    "duration": 3,
    "start_time": "2021-11-17T21:36:56.165Z"
   },
   {
    "duration": 4,
    "start_time": "2021-11-17T21:37:16.590Z"
   },
   {
    "duration": 3,
    "start_time": "2021-11-17T21:37:22.702Z"
   },
   {
    "duration": 4,
    "start_time": "2021-11-17T21:38:03.479Z"
   },
   {
    "duration": 3,
    "start_time": "2021-11-17T21:38:08.601Z"
   },
   {
    "duration": 3,
    "start_time": "2021-11-17T21:38:12.928Z"
   },
   {
    "duration": 3,
    "start_time": "2021-11-17T21:38:48.896Z"
   },
   {
    "duration": 2,
    "start_time": "2021-11-17T21:38:49.171Z"
   },
   {
    "duration": 4,
    "start_time": "2021-11-17T21:39:57.889Z"
   },
   {
    "duration": 3,
    "start_time": "2021-11-17T21:39:58.057Z"
   },
   {
    "duration": 3,
    "start_time": "2021-11-17T21:41:20.108Z"
   },
   {
    "duration": 3,
    "start_time": "2021-11-17T21:41:20.629Z"
   },
   {
    "duration": 3,
    "start_time": "2021-11-17T21:42:49.136Z"
   },
   {
    "duration": 3,
    "start_time": "2021-11-17T21:43:15.137Z"
   },
   {
    "duration": 4,
    "start_time": "2021-11-17T21:43:16.766Z"
   },
   {
    "duration": 4,
    "start_time": "2021-11-17T21:43:31.711Z"
   },
   {
    "duration": 3,
    "start_time": "2021-11-17T21:43:36.312Z"
   },
   {
    "duration": 4,
    "start_time": "2021-11-17T21:45:08.825Z"
   },
   {
    "duration": 4,
    "start_time": "2021-11-17T21:45:10.119Z"
   },
   {
    "duration": 4,
    "start_time": "2021-11-17T21:45:13.748Z"
   },
   {
    "duration": 3,
    "start_time": "2021-11-17T21:45:22.219Z"
   },
   {
    "duration": 3,
    "start_time": "2021-11-17T21:45:33.412Z"
   },
   {
    "duration": 2,
    "start_time": "2021-11-17T21:46:01.885Z"
   },
   {
    "duration": 3,
    "start_time": "2021-11-17T21:46:03.628Z"
   },
   {
    "duration": 107,
    "start_time": "2021-11-17T21:47:32.512Z"
   },
   {
    "duration": 103,
    "start_time": "2021-11-17T21:50:36.243Z"
   },
   {
    "duration": 3,
    "start_time": "2021-11-18T06:28:31.440Z"
   },
   {
    "duration": 3,
    "start_time": "2021-11-18T06:29:00.168Z"
   },
   {
    "duration": 3,
    "start_time": "2021-11-18T06:31:27.008Z"
   },
   {
    "duration": 2,
    "start_time": "2021-11-18T06:35:34.288Z"
   },
   {
    "duration": 2,
    "start_time": "2021-11-18T06:38:04.527Z"
   }
  ],
  "kernelspec": {
   "display_name": "Python 3 (ipykernel)",
   "language": "python",
   "name": "python3"
  },
  "language_info": {
   "codemirror_mode": {
    "name": "ipython",
    "version": 3
   },
   "file_extension": ".py",
   "mimetype": "text/x-python",
   "name": "python",
   "nbconvert_exporter": "python",
   "pygments_lexer": "ipython3",
   "version": "3.9.22"
  },
  "toc": {
   "base_numbering": 1,
   "nav_menu": {},
   "number_sections": true,
   "sideBar": true,
   "skip_h1_title": false,
   "title_cell": "Table of Contents",
   "title_sidebar": "Contents",
   "toc_cell": false,
   "toc_position": {},
   "toc_section_display": true,
   "toc_window_display": true
  }
 },
 "nbformat": 4,
 "nbformat_minor": 4
}
