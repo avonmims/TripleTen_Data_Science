{
 "cells": [
  {
   "cell_type": "markdown",
   "id": "c5c39979",
   "metadata": {},
   "source": [
    "***KNOWN***\n",
    "\n",
    "// columns\n",
    "\n",
    "- id: unique oil well identifier\n",
    "- f0, f1, f2: features of points, specific meaning unimportant, but they are significant\n",
    "- product: volume of reserves in the oil well (thousand barrels)\n",
    "\n",
    "// conditions\n",
    "\n",
    "- Linear Regression only!\n",
    "- budget for development of 200 oil wells is 100 USD million\n",
    "- one barrel brings 4.5 USD of revenue, revenue from one unit is 4,500 USD (volumne of reserves is in thousand barrels)\n",
    "- keep only regions with risk of losses lower than 2.5%, then the region with highest mean profit should be selected\n",
    "\n",
    "// features & target\n",
    "\n",
    "- Indentifier column to be excluded from training: ['id']\n",
    "- Features: ['f0', 'f1', 'f2']\n",
    "- Target: ['product']\n",
    "\n",
    "***UNKNOWN***\n",
    "\n",
    "- hyperparameters?\n",
    "- ?\n",
    "\n",
    "***OBJECTIVES***\n",
    "\n",
    "*1. Download and prepare data, explain*\n",
    "\n",
    "- check for duplicates\n",
    "- check dtypes\n",
    "- remove 'id' identifier from features\n",
    "- scale features\n",
    "- box plot to observe historical 'product' distributions, maybe useful\n",
    "\n",
    "*2. Train and test model for each region*\n",
    "\n",
    "- 3:1 split for training:validation\n",
    "- save predictions and correct answers for validation set\n",
    "- print average predicted reserves and model RMSE\n",
    "- analyze\n",
    "\n",
    "*3. Prepare profit calculation*\n",
    "- store values for calculations in seperate variables\n",
    "- calculate volume of reserves sufficient for developing a new well without losses, compare obtained value\n",
    "with the average volume of reserves in each region\n",
    "- present findings\n",
    "\n",
    "*4. Write function to calculate profit from set of wells and model predictions*\n",
    "\n",
    "- pick wells with highest prediction values\n",
    "- summarize target volume of reserves in accordance with predictions\n",
    "- present findings: suggest a region and justify the choice, calculate profit for obtained reserves value\n",
    "\n",
    "*5. Calculate risks and profit for each region*\n",
    "\n",
    "- use bootstrapping with 1000 samples to find distribution of profit\n",
    "- find average profit, 95% confidence interval, loss is negative profit, calculate as probability expressed as percentage\n",
    "- present findings, suggest region for oil well development, justify choice"
   ]
  },
  {
   "cell_type": "code",
   "execution_count": 1,
   "id": "3e8e0f0b",
   "metadata": {},
   "outputs": [],
   "source": [
    "import pandas as pd"
   ]
  },
  {
   "cell_type": "code",
   "execution_count": 10,
   "id": "c6fda51d",
   "metadata": {},
   "outputs": [
    {
     "name": "stdout",
     "output_type": "stream",
     "text": [
      "False    100000\n",
      "Name: count, dtype: int64\n",
      "False    100000\n",
      "Name: count, dtype: int64\n",
      "False    100000\n",
      "Name: count, dtype: int64\n"
     ]
    }
   ],
   "source": [
    "geo_0 = pd.read_csv('geo_data_0.csv')\n",
    "geo_1 = pd.read_csv('geo_data_1.csv')\n",
    "geo_2 = pd.read_csv('geo_data_2.csv')\n",
    "\n",
    "print(geo_0.duplicated().value_counts())\n",
    "print(geo_1.duplicated().value_counts())\n",
    "print(geo_2.duplicated().value_counts())"
   ]
  }
 ],
 "metadata": {
  "kernelspec": {
   "display_name": "base",
   "language": "python",
   "name": "python3"
  },
  "language_info": {
   "codemirror_mode": {
    "name": "ipython",
    "version": 3
   },
   "file_extension": ".py",
   "mimetype": "text/x-python",
   "name": "python",
   "nbconvert_exporter": "python",
   "pygments_lexer": "ipython3",
   "version": "3.12.3"
  }
 },
 "nbformat": 4,
 "nbformat_minor": 5
}
