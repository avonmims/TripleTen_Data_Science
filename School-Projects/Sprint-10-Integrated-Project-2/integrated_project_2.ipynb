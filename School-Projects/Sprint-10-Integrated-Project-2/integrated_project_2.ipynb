{
 "cells": [
  {
   "cell_type": "markdown",
   "id": "04805c83",
   "metadata": {},
   "source": [
    "***OBJECTIVES 1***\n",
    "\n",
    "- using training set, calculate recovery for (rougher.output.recovery), find MAE between calculations and actuals\n",
    "- which features are not available in the test set? what are they? their type?\n",
    "- perfrom preprocessing, duplicates? missing?, feature scaling"
   ]
  },
  {
   "cell_type": "markdown",
   "id": "b3a7910a",
   "metadata": {},
   "source": [
    "***NOTES***\n",
    "\n",
    "1. recovery(ROUGHER.output.recovery) = ((rougher.output.concentrate_au * (rougher.input.feed_au - rougher.output.tail_au)) / (rougher.input.feed_au * (rougher.output.concentrate_au - rougher.output.tail_au))) * 100%\n",
    "\n",
    "2. recovery(FINAL.output.recovery) = ((final.output.concentrate_au * (rougher.output.concentrate_au - final.output.tail_au)) / (rougher.output.concentrate_au * (final.output.concentrate_au - final.output.tail_au))) * 100%"
   ]
  },
  {
   "cell_type": "code",
   "execution_count": 1,
   "id": "96c48903",
   "metadata": {},
   "outputs": [
    {
     "name": "stdout",
     "output_type": "stream",
     "text": [
      "rougher.output.concentrate_au  rougher.input.feed_au  rougher.output.tail_au  rougher.output.recovery\n",
      "False                          False                  False                   False                      14287\n",
      "                                                      True                    True                        2167\n",
      "                                                      False                   True                         323\n",
      "True                           True                   True                    True                          82\n",
      "False                          True                   False                   True                           1\n",
      "Name: count, dtype: int64\n",
      "rougher.output.concentrate_au      82\n",
      "rougher.input.feed_au              83\n",
      "rougher.output.tail_au           2249\n",
      "rougher.output.recovery          2573\n",
      "dtype: int64\n",
      "rougher.output.concentrate_au    0.004864\n",
      "rougher.input.feed_au            0.004923\n",
      "rougher.output.tail_au           0.133393\n",
      "rougher.output.recovery          0.152610\n",
      "dtype: float64\n",
      "\n",
      "final.output.concentrate_au  rougher.output.concentrate_au  final.output.tail_au  final.output.recovery\n",
      "False                        False                          False                 False                    15339\n",
      "                                                                                  True                      1424\n",
      "True                         True                           True                  True                        56\n",
      "False                        True                           False                 True                        26\n",
      "True                         False                          True                  True                        10\n",
      "                                                            False                 True                         5\n",
      "Name: count, dtype: int64\n",
      "final.output.concentrate_au        71\n",
      "rougher.output.concentrate_au      82\n",
      "final.output.tail_au               66\n",
      "final.output.recovery            1521\n",
      "dtype: int64\n",
      "final.output.concentrate_au      0.004211\n",
      "rougher.output.concentrate_au    0.004864\n",
      "final.output.tail_au             0.003915\n",
      "final.output.recovery            0.090214\n",
      "dtype: float64\n"
     ]
    }
   ],
   "source": [
    "import pandas as pd\n",
    "import numpy as np\n",
    "\n",
    "data_full = pd.read_csv('gold_recovery_full.csv')\n",
    "data_train = pd.read_csv('gold_recovery_train.csv')\n",
    "data_test = pd.read_csv('gold_recovery_test.csv')\n",
    "\n",
    "# setting 'date' column to be our new index\n",
    "data_full = data_full.set_index('date')\n",
    "data_train = data_train.set_index('date')\n",
    "data_test = data_test.set_index('date')\n",
    "\n",
    "# lists of variables used for recovery calculations\n",
    "rougher_recovery_features = ['rougher.output.concentrate_au', 'rougher.input.feed_au', 'rougher.output.tail_au', 'rougher.output.recovery']\n",
    "final_recovery_features = ['final.output.concentrate_au', 'rougher.output.concentrate_au', 'final.output.tail_au', 'final.output.recovery']\n",
    "\n",
    "# displaying non-missing/missing values and their combinations, including percentage as decimal\n",
    "print(data_train[rougher_recovery_features].isna().value_counts())\n",
    "print(data_train[rougher_recovery_features].isna().sum())\n",
    "print(data_train[rougher_recovery_features].isna().sum() / len(data_train))\n",
    "print()\n",
    "print(data_train[final_recovery_features].isna().value_counts())\n",
    "print(data_train[final_recovery_features].isna().sum())\n",
    "print(data_train[final_recovery_features].isna().sum() / len(data_train))\n",
    "\n",
    "#print(data_full.info())\n",
    "#print(data_train.info())\n",
    "#print(data_test.info())\n",
    "#print(data_full.isna().sum())\n",
    "#print(data_train.isna().sum())\n",
    "#print(data_test.isna().sum())\n",
    "#print(data_full.sample(20, random_state=777))"
   ]
  },
  {
   "cell_type": "markdown",
   "id": "b419ad57",
   "metadata": {},
   "source": [
    "**- All 3 data sets are missing values \"randomly\" in almost every column, with ['date'] being the functional index seeing as though none of the datetime columns are missing any values in any of the data sets**\n",
    "\n",
    "**- Only 2 dtypes across all 3 data sets (object, float64), ['date'] (the only object) will be our index, so there is no need to convert dtypes**\n",
    "\n",
    "**- There are 2,573 rows we cannot use to validate rougher.output.recovery due to at least one parameter missing, I will be creating a separate df containing only non-missing recovery parameters**\n",
    "\n",
    "**- There are 1,521 rows that cannot be used to validate final.output.recovery for the same reason as above**"
   ]
  },
  {
   "cell_type": "code",
   "execution_count": null,
   "id": "5545ea8a",
   "metadata": {},
   "outputs": [
    {
     "name": "stdout",
     "output_type": "stream",
     "text": [
      "Mean Absolute Error (rougher.output.recovery):  9.317053768151204e-15\n",
      "Mean Absolute Error (final.output.recovery):  25.37306375918405\n"
     ]
    }
   ],
   "source": [
    "# df containing non-null parameters and output recovery for both rougher and final\n",
    "calculation_features = ['rougher.output.concentrate_au', 'rougher.input.feed_au', 'rougher.output.tail_au',\n",
    "                        'rougher.output.recovery', 'final.output.concentrate_au', 'final.output.tail_au', 'final.output.recovery']\n",
    "calculation_features_df = data_train[calculation_features].dropna()\n",
    "\n",
    "# function: rougher output recovery\n",
    "def rougher_recovery(df):\n",
    "    C = df['rougher.output.concentrate_au'] # concentrate after flotation\n",
    "    F = df['rougher.input.feed_au'] # feed before flotation\n",
    "    T = df['rougher.output.tail_au'] # tail after flotation\n",
    "    recovery = np.where(F * (C - T) != 0, (C * (F - T)) / (F * (C - T)) * 100, 0)\n",
    "    return pd.Series(recovery)\n",
    "\n",
    "# function: final output recovery\n",
    "def final_recovery(df):\n",
    "    C = df['final.output.concentrate_au'] # concentrate after purification\n",
    "    F = df['rougher.output.concentrate_au'] # concentrate after flotation\n",
    "    T = df['final.output.tail_au'] # tails after purification\n",
    "    recovery = np.where(F * (C - T) != 0, (C * (F - T)) / (F * (C - T)) * 100, 0)\n",
    "    return pd.Series(recovery)\n",
    "\n",
    "# import MAE and verify accuracy of data\n",
    "from sklearn.metrics import mean_absolute_error as mae\n",
    "\n",
    "rougher_actual = calculation_features_df['rougher.output.recovery']\n",
    "rougher_calculated = rougher_recovery(calculation_features_df)\n",
    "\n",
    "final_actual = calculation_features_df['final.output.recovery']\n",
    "final_calculated = final_recovery(calculation_features_df)\n",
    "\n",
    "print('Mean Absolute Error (rougher.output.recovery): ', mae(rougher_actual, rougher_calculated))\n",
    "print('Mean Absolute Error (final.output.recovery): ', mae(final_actual, final_calculated))"
   ]
  },
  {
   "cell_type": "markdown",
   "id": "083b4ac1",
   "metadata": {},
   "source": [
    "**- With an MAE so close to zero (0.000000000000009317), we can see that the existing data from the warehouse correctly implemented the recovery equation to find output values for rougher.output.recovery**\n",
    "\n",
    "**- Since I had the framework for validating recovery against rougher.output, I decided to also check the accuracy of final.output.recovery using the equation, and our calculated values are off by an average of 25.4% for all observations. The chosen parameters have yielded the lowest final.recovery MAE for a few combinations, and I believe we should continue with the assumption that the final.output.recovery column in the original data is incorrect. We will be using calculated values instead of the origninal for our target when training to predict final recovery**"
   ]
  },
  {
   "cell_type": "code",
   "execution_count": 3,
   "id": "feb34ba7",
   "metadata": {},
   "outputs": [
    {
     "name": "stdout",
     "output_type": "stream",
     "text": [
      "{'rougher.output.recovery', 'secondary_cleaner.output.tail_ag', 'rougher.output.concentrate_ag', 'primary_cleaner.output.tail_sol', 'primary_cleaner.output.tail_au', 'rougher.output.concentrate_pb', 'final.output.concentrate_pb', 'final.output.concentrate_au', 'rougher.calculation.sulfate_to_au_concentrate', 'rougher.calculation.floatbank10_sulfate_to_au_feed', 'final.output.tail_au', 'final.output.concentrate_sol', 'final.output.tail_pb', 'secondary_cleaner.output.tail_sol', 'rougher.output.tail_au', 'primary_cleaner.output.tail_ag', 'rougher.output.concentrate_au', 'rougher.output.tail_ag', 'secondary_cleaner.output.tail_pb', 'final.output.concentrate_ag', 'final.output.tail_sol', 'final.output.recovery', 'rougher.calculation.au_pb_ratio', 'rougher.output.tail_pb', 'primary_cleaner.output.tail_pb', 'secondary_cleaner.output.tail_au', 'primary_cleaner.output.concentrate_pb', 'rougher.output.tail_sol', 'primary_cleaner.output.concentrate_ag', 'final.output.tail_ag', 'rougher.calculation.floatbank11_sulfate_to_au_feed', 'primary_cleaner.output.concentrate_au', 'rougher.output.concentrate_sol', 'primary_cleaner.output.concentrate_sol'}\n",
      "34\n"
     ]
    }
   ],
   "source": [
    "cols_train = set(data_train.columns)\n",
    "cols_test = set(data_test.columns)\n",
    "\n",
    "train_unique = cols_train - cols_test\n",
    "print(train_unique)\n",
    "print(len(train_unique))"
   ]
  },
  {
   "cell_type": "markdown",
   "id": "e5af8aca",
   "metadata": {},
   "source": [
    "**- The test set is missing 34 features compared to the training and full sets. 30 of them are of the 'output' parameter type, 4 of them are 'calculation'**"
   ]
  },
  {
   "cell_type": "code",
   "execution_count": 4,
   "id": "713e3a24",
   "metadata": {},
   "outputs": [
    {
     "name": "stdout",
     "output_type": "stream",
     "text": [
      "date\n",
      "2017-11-26 20:59:59     8.641922\n",
      "2017-09-12 09:59:59     6.820716\n",
      "2017-11-11 00:59:59     8.706555\n",
      "2016-12-07 05:59:59    10.274282\n",
      "2017-11-27 12:59:59    11.225959\n",
      "2016-11-26 12:59:59     0.000000\n",
      "2017-11-26 03:59:59     9.626784\n",
      "2017-10-18 11:59:59     9.118137\n",
      "2016-09-30 16:59:59     9.056000\n",
      "2016-12-20 02:59:59     9.230990\n",
      "Name: rougher.input.feed_au, dtype: float64\n",
      "                     rougher.output.concentrate_au  rougher.input.feed_au  \\\n",
      "date                                                                        \n",
      "2017-11-26 20:59:59                      20.754147               8.641922   \n",
      "2017-09-12 09:59:59                      19.126239               6.820716   \n",
      "2017-11-11 00:59:59                      19.502795               8.706555   \n",
      "2016-12-07 05:59:59                      21.512991              10.274282   \n",
      "2017-11-27 12:59:59                      21.237161              11.225959   \n",
      "2016-11-26 12:59:59                       0.000000               0.000000   \n",
      "2017-11-26 03:59:59                      19.599470               9.626784   \n",
      "2017-10-18 11:59:59                      20.962051               9.118137   \n",
      "2016-09-30 16:59:59                      25.610147               9.056000   \n",
      "2016-12-20 02:59:59                      21.010366               9.230990   \n",
      "\n",
      "                     rougher.output.tail_au  rougher.output.recovery  \n",
      "date                                                                  \n",
      "2017-11-26 20:59:59                1.567017                88.553380  \n",
      "2017-09-12 09:59:59                1.304332                86.796047  \n",
      "2017-11-11 00:59:59                2.129164                84.803458  \n",
      "2016-12-07 05:59:59                2.205365                87.505567  \n",
      "2017-11-27 12:59:59                1.948201                90.992841  \n",
      "2016-11-26 12:59:59                     NaN                      NaN  \n",
      "2017-11-26 03:59:59                0.936198                94.803504  \n",
      "2017-10-18 11:59:59                1.631810                89.034677  \n",
      "2016-09-30 16:59:59                2.411112                81.001563  \n",
      "2016-12-20 02:59:59                1.736572                88.502604  \n"
     ]
    }
   ],
   "source": [
    "huh = data_test.sample(10, random_state=12345).index\n",
    "\n",
    "print(data_test['rougher.input.feed_au'].sample(10, random_state=12345))\n",
    "print(data_full[rougher_recovery_features].loc[huh])"
   ]
  }
 ],
 "metadata": {
  "kernelspec": {
   "display_name": "base",
   "language": "python",
   "name": "python3"
  },
  "language_info": {
   "codemirror_mode": {
    "name": "ipython",
    "version": 3
   },
   "file_extension": ".py",
   "mimetype": "text/x-python",
   "name": "python",
   "nbconvert_exporter": "python",
   "pygments_lexer": "ipython3",
   "version": "3.12.3"
  }
 },
 "nbformat": 4,
 "nbformat_minor": 5
}
