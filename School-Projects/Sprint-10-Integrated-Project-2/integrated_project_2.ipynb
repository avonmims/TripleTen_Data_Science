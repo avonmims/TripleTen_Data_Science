{
 "cells": [
  {
   "cell_type": "markdown",
   "id": "04805c83",
   "metadata": {},
   "source": [
    "***OBJECTIVES 1***\n",
    "\n",
    "- using training set, calculate recovery for (rougher.output.recovery), find MAE between calculations and actuals\n",
    "- which features are not availavle in the test set? what are they? their type?\n",
    "- perfrom preprocessing, duplicates? missing?, feature scaling"
   ]
  },
  {
   "cell_type": "markdown",
   "id": "b3a7910a",
   "metadata": {},
   "source": [
    "***NOTES***\n",
    "\n",
    "1. recovery(ROUGHER.output.recovery) = ((rougher.output.concentrate_au * (rougher.input.feed_au - rougher.output.tail_au)) / (rougher.input.feed_au * (rougher.output.concentrate_au - rougher.output.tail_au))) * 100%\n",
    "\n",
    "2. recovery(FINAL.output.recovery) = ((final.output.concentrate_au * (rougher.output.concentrate_au - secondary_cleaner.output.tail_au)) / (rougher.output.concentrate_au * (final.output.concentrate_au - secondary_cleaner.output.tail_au))) * 100%\n",
    "\n",
    "**elements**\n",
    "- Au = gold\n",
    "- Ag = silver\n",
    "- Pb = lead"
   ]
  },
  {
   "cell_type": "code",
   "execution_count": 24,
   "id": "96c48903",
   "metadata": {},
   "outputs": [
    {
     "name": "stdout",
     "output_type": "stream",
     "text": [
      "rougher.output.concentrate_au  rougher.input.feed_au  rougher.output.tail_au  rougher.output.recovery\n",
      "False                          False                  False                   False                      14287\n",
      "                                                      True                    True                        2167\n",
      "                                                      False                   True                         323\n",
      "True                           True                   True                    True                          82\n",
      "False                          True                   False                   True                           1\n",
      "Name: count, dtype: int64\n",
      "rougher.output.concentrate_au      82\n",
      "rougher.input.feed_au              83\n",
      "rougher.output.tail_au           2249\n",
      "rougher.output.recovery          2573\n",
      "dtype: int64\n",
      "rougher.output.concentrate_au    0.004864\n",
      "rougher.input.feed_au            0.004923\n",
      "rougher.output.tail_au           0.133393\n",
      "rougher.output.recovery          0.152610\n",
      "dtype: float64\n"
     ]
    }
   ],
   "source": [
    "import pandas as pd\n",
    "import numpy as np\n",
    "\n",
    "data_full = pd.read_csv('gold_recovery_full.csv')\n",
    "data_train = pd.read_csv('gold_recovery_train.csv')\n",
    "data_test = pd.read_csv('gold_recovery_test.csv')\n",
    "\n",
    "# list of features used for rougher recovery calculation step\n",
    "rougher_recovery_features = ['rougher.output.concentrate_au', 'rougher.input.feed_au', 'rougher.output.tail_au', 'rougher.output.recovery']\n",
    "\n",
    "# displaying non-missing/missing values and their combinations, including percentage as decimal\n",
    "print(data_train[rougher_recovery_features].isna().value_counts())\n",
    "print(data_train[rougher_recovery_features].isna().sum())\n",
    "print(data_train[rougher_recovery_features].isna().sum() / len(data_train))\n",
    "\n",
    "#print(data_full.info())\n",
    "#print(data_train.info())\n",
    "#print(data_test.info())\n",
    "#print(data_full.isna().sum())\n",
    "#print(data_train.isna().sum())\n",
    "#print(data_test.isna().sum())\n",
    "#print(data_full.sample(20, random_state=777))"
   ]
  },
  {
   "cell_type": "markdown",
   "id": "b419ad57",
   "metadata": {},
   "source": [
    "**- All 3 data sets are missing values \"randomly\" in almost every column, with ['date'] being the functional index seeing as though none of the datetime columns are missing any values in any of the data sets**\n",
    "\n",
    "**- There are 2,573 rows we cannot use to validate rougher.output.recovery due to at least one parameter missing, I will be creating a separate df containing only non-missing recovery parameters**"
   ]
  },
  {
   "cell_type": "code",
   "execution_count": 33,
   "id": "5545ea8a",
   "metadata": {},
   "outputs": [
    {
     "name": "stdout",
     "output_type": "stream",
     "text": [
      "Mean Absolute Error:  9.303415616264301e-15\n"
     ]
    }
   ],
   "source": [
    "# df containing non-null parameters and output recovery\n",
    "rougher_recovery_df = data_train[rougher_recovery_features].dropna()\n",
    "\n",
    "# simplified variable capture for calculation\n",
    "C = rougher_recovery_df['rougher.output.concentrate_au']\n",
    "F = rougher_recovery_df['rougher.input.feed_au']\n",
    "T = rougher_recovery_df['rougher.output.tail_au']\n",
    "\n",
    "# where recovery denominator != 0, calculate recovery, otherwise 0 ... create new column with vectorization\n",
    "calculated_recovery = np.where(F * (C - T) != 0, (C * (F - T)) / (F * (C - T)) * 100, 0)\n",
    "rougher_recovery_df['calculated_rougher_recovery'] = calculated_recovery\n",
    "\n",
    "# import MAE and verify accuracy of data\n",
    "from sklearn.metrics import mean_absolute_error as mae\n",
    "\n",
    "actual = rougher_recovery_df['rougher.output.recovery']\n",
    "calculated = rougher_recovery_df['calculated_rougher_recovery']\n",
    "\n",
    "print('Mean Absolute Error: ', mae(actual, calculated))"
   ]
  },
  {
   "cell_type": "markdown",
   "id": "083b4ac1",
   "metadata": {},
   "source": [
    "**- With an MAE so close to zero, we can see that the existing data correctly implements the recovery equation to find output values**"
   ]
  }
 ],
 "metadata": {
  "kernelspec": {
   "display_name": "base",
   "language": "python",
   "name": "python3"
  },
  "language_info": {
   "codemirror_mode": {
    "name": "ipython",
    "version": 3
   },
   "file_extension": ".py",
   "mimetype": "text/x-python",
   "name": "python",
   "nbconvert_exporter": "python",
   "pygments_lexer": "ipython3",
   "version": "3.12.3"
  }
 },
 "nbformat": 4,
 "nbformat_minor": 5
}
