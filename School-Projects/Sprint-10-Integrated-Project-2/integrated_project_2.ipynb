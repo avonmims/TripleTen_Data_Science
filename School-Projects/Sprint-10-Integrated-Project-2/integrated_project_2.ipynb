{
 "cells": [
  {
   "cell_type": "markdown",
   "id": "04805c83",
   "metadata": {},
   "source": [
    "***OBJECTIVES***\n",
    "\n",
    "- using training set, calculate recovery for (rougher.output.recovery), find MAE between calculations and actuals\n",
    "- which features are not availavle in the test set? what are they? their type?\n",
    "- perfrom preprocessing, duplicates? missing?, feature scaling"
   ]
  },
  {
   "cell_type": "markdown",
   "id": "b3a7910a",
   "metadata": {},
   "source": [
    "***NOTES***\n",
    "\n",
    "1. recovery(ROUGHER.output.recovery) = ((rougher.output.concentrate_au * (rougher.input.feed_au - rougher.output.tail_au)) / (rougher.input.feed_au * (rougher.output.concentrate_au - rougher.output.tail_au))) * 100%\n",
    "\n",
    "2. recovery(FINAL.output.recovery) = ((final.output.concentrate_au * (rougher.output.concentrate_au - secondary_cleaner.output.tail_au)) / (rougher.output.concentrate_au * (final.output.concentrate_au - secondary_cleaner.output.tail_au))) * 100%\n",
    "\n",
    "**elements**\n",
    "- Au = gold\n",
    "- Ag = silver\n",
    "- Pb = lead"
   ]
  },
  {
   "cell_type": "code",
   "execution_count": 21,
   "id": "96c48903",
   "metadata": {},
   "outputs": [],
   "source": [
    "import pandas as pd\n",
    "\n",
    "data_full = pd.read_csv('gold_recovery_full.csv')\n",
    "data_train = pd.read_csv('gold_recovery_train.csv')\n",
    "data_test = pd.read_csv('gold_recovery_test.csv')\n",
    "\n",
    "#print(data_full.info())\n",
    "#print(data_train.info())\n",
    "#print(data_test.info())\n",
    "#print(data_full.isna().sum())\n",
    "#print(data_full.sample(20, random_state=777))"
   ]
  },
  {
   "cell_type": "markdown",
   "id": "b419ad57",
   "metadata": {},
   "source": [
    "**All 3 data sets are missing values \"randomly\" in almost every column, with ['date'] being the functional index seeing as though none of the datetime columns are missing any values in any of the data sets**"
   ]
  }
 ],
 "metadata": {
  "kernelspec": {
   "display_name": "base",
   "language": "python",
   "name": "python3"
  },
  "language_info": {
   "codemirror_mode": {
    "name": "ipython",
    "version": 3
   },
   "file_extension": ".py",
   "mimetype": "text/x-python",
   "name": "python",
   "nbconvert_exporter": "python",
   "pygments_lexer": "ipython3",
   "version": "3.12.3"
  }
 },
 "nbformat": 4,
 "nbformat_minor": 5
}
