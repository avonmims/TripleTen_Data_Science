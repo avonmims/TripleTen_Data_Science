{
 "cells": [
  {
   "cell_type": "markdown",
   "id": "industrial-explosion",
   "metadata": {},
   "source": [
    "# DS Technical Mock Interview"
   ]
  },
  {
   "cell_type": "code",
   "execution_count": null,
   "id": "soviet-revelation",
   "metadata": {},
   "outputs": [],
   "source": [
    "from sklearn.linear_model import LinearRegression\n",
    "from sklearn.linear_model import LogisticRegression\n",
    "from sklearn import tree\n",
    "from sklearn.model_selection import train_test_split \n",
    "from sklearn.metrics import mean_squared_error, r2_score, confusion_matrix\n",
    "from sklearn.preprocessing import StandardScaler\n",
    "import matplotlib.pyplot as plt\n",
    "%matplotlib inline\n",
    "import seaborn as sns\n",
    "import pandas as pd\n",
    "import numpy as np"
   ]
  },
  {
   "cell_type": "markdown",
   "id": "through-machinery",
   "metadata": {},
   "source": [
    "Data is available here on Kaggle: https://www.kaggle.com/brentpafford/true-car-listings-2017-project?select=true_car_project_full.csv"
   ]
  },
  {
   "cell_type": "code",
   "execution_count": null,
   "id": "armed-religion",
   "metadata": {},
   "outputs": [],
   "source": [
    "df = pd.read_csv('true_car_project_full.csv')\n",
    "df.head()"
   ]
  },
  {
   "cell_type": "code",
   "execution_count": null,
   "id": "handed-arbitration",
   "metadata": {},
   "outputs": [],
   "source": [
    "df.shape"
   ]
  },
  {
   "cell_type": "markdown",
   "id": "separate-lunch",
   "metadata": {},
   "source": [
    "## Preprocessing"
   ]
  },
  {
   "cell_type": "code",
   "execution_count": null,
   "id": "mathematical-california",
   "metadata": {},
   "outputs": [],
   "source": [
    "df.info()"
   ]
  },
  {
   "cell_type": "markdown",
   "id": "retired-korean",
   "metadata": {},
   "source": [
    "Create a new column that is the mixture of make and model with an underscore between them. Call this new column \"Make_Model\""
   ]
  },
  {
   "cell_type": "code",
   "execution_count": null,
   "id": "mental-eugene",
   "metadata": {},
   "outputs": [],
   "source": [
    "#YOUR CODE HERE"
   ]
  },
  {
   "cell_type": "markdown",
   "id": "raised-courage",
   "metadata": {},
   "source": [
    "Drop the City, State, City State, Vin, Make, and Model columns"
   ]
  },
  {
   "cell_type": "code",
   "execution_count": null,
   "id": "intelligent-magic",
   "metadata": {},
   "outputs": [],
   "source": [
    "#YOUR CODE HERE"
   ]
  },
  {
   "cell_type": "code",
   "execution_count": null,
   "id": "published-suspect",
   "metadata": {},
   "outputs": [],
   "source": [
    "#Check for NAs\n",
    "df.isna().sum()"
   ]
  },
  {
   "cell_type": "code",
   "execution_count": null,
   "id": "institutional-custom",
   "metadata": {},
   "outputs": [],
   "source": [
    "#Check for duplicatess\n",
    "duplicate = df[df.duplicated()]\n",
    "duplicate"
   ]
  },
  {
   "cell_type": "markdown",
   "id": "superb-object",
   "metadata": {},
   "source": [
    "## ML"
   ]
  },
  {
   "cell_type": "markdown",
   "id": "surprised-annex",
   "metadata": {},
   "source": [
    "Here we will make a small linear regression model to predict the price of a used car. There are a lot of different Make_Model combinations in the data, so we will be using only the 30 most frequent of these. "
   ]
  },
  {
   "cell_type": "code",
   "execution_count": null,
   "id": "enhanced-affiliation",
   "metadata": {},
   "outputs": [],
   "source": [
    "#Get a list of the 30 car make_models that were most frequent\n",
    "top_30 = [name for name in df.Make_Model.value_counts().head(30).index]"
   ]
  },
  {
   "cell_type": "markdown",
   "id": "arranged-world",
   "metadata": {},
   "source": [
    "Here we will create a new version of the dataframe. Take only the rows where the Make_Model is in top_30 "
   ]
  },
  {
   "cell_type": "code",
   "execution_count": null,
   "id": "solar-cigarette",
   "metadata": {},
   "outputs": [],
   "source": [
    "df = df.loc[df[\"Make_Model\"].isin(top_30), :]"
   ]
  },
  {
   "cell_type": "markdown",
   "id": "acceptable-employment",
   "metadata": {},
   "source": [
    "Get dummy variables for the categorical variables."
   ]
  },
  {
   "cell_type": "code",
   "execution_count": null,
   "id": "religious-grace",
   "metadata": {},
   "outputs": [],
   "source": [
    "# Binary encoding using Pandas (multiple columns)\n",
    "df_binary_encoded = #YOUR CODE HERE"
   ]
  },
  {
   "cell_type": "markdown",
   "id": "informative-artist",
   "metadata": {},
   "source": [
    "Please explain what the following code chunk does. "
   ]
  },
  {
   "cell_type": "code",
   "execution_count": null,
   "id": "ideal-penny",
   "metadata": {},
   "outputs": [],
   "source": [
    "# Creating the scaler instance\n",
    "data_scaler = StandardScaler()\n",
    "# Fitting the scaler\n",
    "data_scaler.fit(df_binary_encoded)\n",
    "# Transforming the data\n",
    "df_data_scaled = data_scaler.transform(df_binary_encoded)"
   ]
  },
  {
   "cell_type": "code",
   "execution_count": null,
   "id": "guided-thickness",
   "metadata": {},
   "outputs": [],
   "source": [
    "X = df_binary_encoded.iloc[:, 2:]\n",
    "y = df_binary_encoded.iloc[:, 1]"
   ]
  },
  {
   "cell_type": "markdown",
   "id": "sealed-hobby",
   "metadata": {},
   "source": [
    "Do a train/test split, with 20% test data."
   ]
  },
  {
   "cell_type": "code",
   "execution_count": null,
   "id": "fleet-american",
   "metadata": {},
   "outputs": [],
   "source": [
    "#Train test split\n",
    "#YOUR CODE HERE"
   ]
  },
  {
   "cell_type": "markdown",
   "id": "brutal-vacation",
   "metadata": {},
   "source": [
    "Train a linear regression model with the data and get predictions."
   ]
  },
  {
   "cell_type": "code",
   "execution_count": null,
   "id": "altered-tonight",
   "metadata": {},
   "outputs": [],
   "source": [
    "# Instantiate linear regression model\n",
    "# YOUR CODE HERE\n",
    "\n",
    "# Fit the model\n",
    "# YOUR CODE HERE\n",
    "\n",
    "#Get predictions \n",
    "y_pred = #YOUR CODE HERE"
   ]
  },
  {
   "cell_type": "code",
   "execution_count": null,
   "id": "monthly-wilderness",
   "metadata": {},
   "outputs": [],
   "source": [
    "mean_squared_error(y_pred, y_test)"
   ]
  },
  {
   "cell_type": "code",
   "execution_count": null,
   "id": "complete-wallet",
   "metadata": {},
   "outputs": [],
   "source": [
    "import math\n",
    "math.sqrt(mean_squared_error(y_pred, y_test))"
   ]
  },
  {
   "cell_type": "markdown",
   "id": "related-roller",
   "metadata": {},
   "source": [
    "Please describe what MSE is. Also please interpret the sqrt of the MSE."
   ]
  },
  {
   "cell_type": "code",
   "execution_count": null,
   "id": "hearing-error",
   "metadata": {},
   "outputs": [],
   "source": []
  }
 ],
 "metadata": {
  "kernelspec": {
   "display_name": "Python 3",
   "language": "python",
   "name": "python3"
  },
  "language_info": {
   "codemirror_mode": {
    "name": "ipython",
    "version": 3
   },
   "file_extension": ".py",
   "mimetype": "text/x-python",
   "name": "python",
   "nbconvert_exporter": "python",
   "pygments_lexer": "ipython3",
   "version": "3.8.6"
  }
 },
 "nbformat": 4,
 "nbformat_minor": 5
}
