{
 "cells": [
  {
   "cell_type": "markdown",
   "id": "industrial-explosion",
   "metadata": {},
   "source": [
    "# DS Technical Mock Interview"
   ]
  },
  {
   "cell_type": "code",
   "execution_count": 1,
   "id": "soviet-revelation",
   "metadata": {},
   "outputs": [],
   "source": [
    "from sklearn.linear_model import LinearRegression\n",
    "from sklearn.linear_model import LogisticRegression\n",
    "from sklearn import tree\n",
    "from sklearn.model_selection import train_test_split \n",
    "from sklearn.metrics import mean_squared_error, r2_score, confusion_matrix\n",
    "from sklearn.preprocessing import StandardScaler\n",
    "import matplotlib.pyplot as plt\n",
    "%matplotlib inline\n",
    "import seaborn as sns\n",
    "import pandas as pd\n",
    "import numpy as np"
   ]
  },
  {
   "cell_type": "markdown",
   "id": "through-machinery",
   "metadata": {},
   "source": [
    "Data is available here on Kaggle: https://www.kaggle.com/brentpafford/true-car-listings-2017-project?select=true_car_project_full.csv"
   ]
  },
  {
   "cell_type": "code",
   "execution_count": 2,
   "id": "armed-religion",
   "metadata": {},
   "outputs": [
    {
     "data": {
      "text/html": [
       "<div>\n",
       "<style scoped>\n",
       "    .dataframe tbody tr th:only-of-type {\n",
       "        vertical-align: middle;\n",
       "    }\n",
       "\n",
       "    .dataframe tbody tr th {\n",
       "        vertical-align: top;\n",
       "    }\n",
       "\n",
       "    .dataframe thead th {\n",
       "        text-align: right;\n",
       "    }\n",
       "</style>\n",
       "<table border=\"1\" class=\"dataframe\">\n",
       "  <thead>\n",
       "    <tr style=\"text-align: right;\">\n",
       "      <th></th>\n",
       "      <th>Id</th>\n",
       "      <th>Price</th>\n",
       "      <th>Year</th>\n",
       "      <th>Mileage</th>\n",
       "      <th>City</th>\n",
       "      <th>State</th>\n",
       "      <th>City State</th>\n",
       "      <th>Vin</th>\n",
       "      <th>Make</th>\n",
       "      <th>Model</th>\n",
       "      <th>Region</th>\n",
       "    </tr>\n",
       "  </thead>\n",
       "  <tbody>\n",
       "    <tr>\n",
       "      <th>0</th>\n",
       "      <td>1</td>\n",
       "      <td>16472</td>\n",
       "      <td>2015</td>\n",
       "      <td>18681</td>\n",
       "      <td>Jefferson City</td>\n",
       "      <td>MO</td>\n",
       "      <td>Jefferson City MO</td>\n",
       "      <td>KL4CJBSBXFB267643</td>\n",
       "      <td>Buick</td>\n",
       "      <td>EncoreConvenience</td>\n",
       "      <td>Midwest</td>\n",
       "    </tr>\n",
       "    <tr>\n",
       "      <th>1</th>\n",
       "      <td>2</td>\n",
       "      <td>15749</td>\n",
       "      <td>2015</td>\n",
       "      <td>27592</td>\n",
       "      <td>Highland</td>\n",
       "      <td>IN</td>\n",
       "      <td>Highland IN</td>\n",
       "      <td>KL4CJASB5FB245057</td>\n",
       "      <td>Buick</td>\n",
       "      <td>EncoreFWD</td>\n",
       "      <td>Midwest</td>\n",
       "    </tr>\n",
       "    <tr>\n",
       "      <th>2</th>\n",
       "      <td>3</td>\n",
       "      <td>16998</td>\n",
       "      <td>2015</td>\n",
       "      <td>13650</td>\n",
       "      <td>Boone</td>\n",
       "      <td>NC</td>\n",
       "      <td>Boone NC</td>\n",
       "      <td>KL4CJCSB0FB264921</td>\n",
       "      <td>Buick</td>\n",
       "      <td>EncoreLeather</td>\n",
       "      <td>Southeast</td>\n",
       "    </tr>\n",
       "    <tr>\n",
       "      <th>3</th>\n",
       "      <td>4</td>\n",
       "      <td>15777</td>\n",
       "      <td>2015</td>\n",
       "      <td>25195</td>\n",
       "      <td>New Orleans</td>\n",
       "      <td>LA</td>\n",
       "      <td>New Orleans LA</td>\n",
       "      <td>KL4CJASB4FB217542</td>\n",
       "      <td>Buick</td>\n",
       "      <td>EncoreFWD</td>\n",
       "      <td>Southeast</td>\n",
       "    </tr>\n",
       "    <tr>\n",
       "      <th>4</th>\n",
       "      <td>5</td>\n",
       "      <td>16784</td>\n",
       "      <td>2015</td>\n",
       "      <td>22800</td>\n",
       "      <td>Las Vegas</td>\n",
       "      <td>NV</td>\n",
       "      <td>Las Vegas NV</td>\n",
       "      <td>KL4CJBSB3FB166881</td>\n",
       "      <td>Buick</td>\n",
       "      <td>EncoreConvenience</td>\n",
       "      <td>Rockies</td>\n",
       "    </tr>\n",
       "  </tbody>\n",
       "</table>\n",
       "</div>"
      ],
      "text/plain": [
       "   Id  Price  Year  Mileage            City State         City State  \\\n",
       "0   1  16472  2015    18681  Jefferson City    MO  Jefferson City MO   \n",
       "1   2  15749  2015    27592        Highland    IN        Highland IN   \n",
       "2   3  16998  2015    13650           Boone    NC           Boone NC   \n",
       "3   4  15777  2015    25195     New Orleans    LA     New Orleans LA   \n",
       "4   5  16784  2015    22800       Las Vegas    NV       Las Vegas NV   \n",
       "\n",
       "                 Vin   Make              Model     Region  \n",
       "0  KL4CJBSBXFB267643  Buick  EncoreConvenience    Midwest  \n",
       "1  KL4CJASB5FB245057  Buick          EncoreFWD    Midwest  \n",
       "2  KL4CJCSB0FB264921  Buick      EncoreLeather  Southeast  \n",
       "3  KL4CJASB4FB217542  Buick          EncoreFWD  Southeast  \n",
       "4  KL4CJBSB3FB166881  Buick  EncoreConvenience    Rockies  "
      ]
     },
     "execution_count": 2,
     "metadata": {},
     "output_type": "execute_result"
    }
   ],
   "source": [
    "df = pd.read_csv('true_car_project_full.csv')\n",
    "df.head()"
   ]
  },
  {
   "cell_type": "code",
   "execution_count": 5,
   "id": "handed-arbitration",
   "metadata": {},
   "outputs": [
    {
     "data": {
      "text/plain": [
       "(1048575, 11)"
      ]
     },
     "execution_count": 5,
     "metadata": {},
     "output_type": "execute_result"
    }
   ],
   "source": [
    "df.shape"
   ]
  },
  {
   "cell_type": "markdown",
   "id": "separate-lunch",
   "metadata": {},
   "source": [
    "## Preprocessing"
   ]
  },
  {
   "cell_type": "code",
   "execution_count": null,
   "id": "mathematical-california",
   "metadata": {},
   "outputs": [
    {
     "name": "stdout",
     "output_type": "stream",
     "text": [
      "<class 'pandas.core.frame.DataFrame'>\n",
      "RangeIndex: 1048575 entries, 0 to 1048574\n",
      "Data columns (total 11 columns):\n",
      " #   Column      Non-Null Count    Dtype \n",
      "---  ------      --------------    ----- \n",
      " 0   Id          1048575 non-null  int64 \n",
      " 1   Price       1048575 non-null  int64 \n",
      " 2   Year        1048575 non-null  int64 \n",
      " 3   Mileage     1048575 non-null  int64 \n",
      " 4   City        1048575 non-null  object\n",
      " 5   State       1048575 non-null  object\n",
      " 6   City State  1048575 non-null  object\n",
      " 7   Vin         1048575 non-null  object\n",
      " 8   Make        1048575 non-null  object\n",
      " 9   Model       1048575 non-null  object\n",
      " 10  Region      1048575 non-null  object\n",
      "dtypes: int64(4), object(7)\n",
      "memory usage: 88.0+ MB\n"
     ]
    }
   ],
   "source": [
    "df.info()"
   ]
  },
  {
   "cell_type": "markdown",
   "id": "retired-korean",
   "metadata": {},
   "source": [
    "Create a new column that is the mixture of make and model with an underscore between them. Call this new column \"Make_Model\""
   ]
  },
  {
   "cell_type": "code",
   "execution_count": 8,
   "id": "mental-eugene",
   "metadata": {},
   "outputs": [
    {
     "name": "stdout",
     "output_type": "stream",
     "text": [
      "<class 'pandas.core.frame.DataFrame'>\n",
      "RangeIndex: 1048575 entries, 0 to 1048574\n",
      "Data columns (total 12 columns):\n",
      " #   Column      Non-Null Count    Dtype \n",
      "---  ------      --------------    ----- \n",
      " 0   Id          1048575 non-null  int64 \n",
      " 1   Price       1048575 non-null  int64 \n",
      " 2   Year        1048575 non-null  int64 \n",
      " 3   Mileage     1048575 non-null  int64 \n",
      " 4   City        1048575 non-null  object\n",
      " 5   State       1048575 non-null  object\n",
      " 6   City State  1048575 non-null  object\n",
      " 7   Vin         1048575 non-null  object\n",
      " 8   Make        1048575 non-null  object\n",
      " 9   Model       1048575 non-null  object\n",
      " 10  Region      1048575 non-null  object\n",
      " 11  Make_Model  1048575 non-null  object\n",
      "dtypes: int64(4), object(8)\n",
      "memory usage: 96.0+ MB\n"
     ]
    }
   ],
   "source": [
    "df['Make_Model'] = df['Make'] + '_' + df['Model']\n",
    "df.info()"
   ]
  },
  {
   "cell_type": "markdown",
   "id": "raised-courage",
   "metadata": {},
   "source": [
    "Drop the City, State, City State, Vin, Make, and Model columns"
   ]
  },
  {
   "cell_type": "code",
   "execution_count": 9,
   "id": "intelligent-magic",
   "metadata": {},
   "outputs": [
    {
     "name": "stdout",
     "output_type": "stream",
     "text": [
      "<class 'pandas.core.frame.DataFrame'>\n",
      "RangeIndex: 1048575 entries, 0 to 1048574\n",
      "Data columns (total 6 columns):\n",
      " #   Column      Non-Null Count    Dtype \n",
      "---  ------      --------------    ----- \n",
      " 0   Id          1048575 non-null  int64 \n",
      " 1   Price       1048575 non-null  int64 \n",
      " 2   Year        1048575 non-null  int64 \n",
      " 3   Mileage     1048575 non-null  int64 \n",
      " 4   Region      1048575 non-null  object\n",
      " 5   Make_Model  1048575 non-null  object\n",
      "dtypes: int64(4), object(2)\n",
      "memory usage: 48.0+ MB\n"
     ]
    }
   ],
   "source": [
    "drop = ['City', 'State', 'City State', 'Vin', 'Make', 'Model']\n",
    "\n",
    "df = df.drop(drop, axis=1)\n",
    "df.info()"
   ]
  },
  {
   "cell_type": "code",
   "execution_count": 10,
   "id": "published-suspect",
   "metadata": {},
   "outputs": [
    {
     "data": {
      "text/plain": [
       "Id            0\n",
       "Price         0\n",
       "Year          0\n",
       "Mileage       0\n",
       "Region        0\n",
       "Make_Model    0\n",
       "dtype: int64"
      ]
     },
     "execution_count": 10,
     "metadata": {},
     "output_type": "execute_result"
    }
   ],
   "source": [
    "#Check for NAs\n",
    "df.isna().sum()"
   ]
  },
  {
   "cell_type": "code",
   "execution_count": 11,
   "id": "institutional-custom",
   "metadata": {},
   "outputs": [
    {
     "data": {
      "text/html": [
       "<div>\n",
       "<style scoped>\n",
       "    .dataframe tbody tr th:only-of-type {\n",
       "        vertical-align: middle;\n",
       "    }\n",
       "\n",
       "    .dataframe tbody tr th {\n",
       "        vertical-align: top;\n",
       "    }\n",
       "\n",
       "    .dataframe thead th {\n",
       "        text-align: right;\n",
       "    }\n",
       "</style>\n",
       "<table border=\"1\" class=\"dataframe\">\n",
       "  <thead>\n",
       "    <tr style=\"text-align: right;\">\n",
       "      <th></th>\n",
       "      <th>Id</th>\n",
       "      <th>Price</th>\n",
       "      <th>Year</th>\n",
       "      <th>Mileage</th>\n",
       "      <th>Region</th>\n",
       "      <th>Make_Model</th>\n",
       "    </tr>\n",
       "  </thead>\n",
       "  <tbody>\n",
       "  </tbody>\n",
       "</table>\n",
       "</div>"
      ],
      "text/plain": [
       "Empty DataFrame\n",
       "Columns: [Id, Price, Year, Mileage, Region, Make_Model]\n",
       "Index: []"
      ]
     },
     "execution_count": 11,
     "metadata": {},
     "output_type": "execute_result"
    }
   ],
   "source": [
    "#Check for duplicatess\n",
    "duplicate = df[df.duplicated()]\n",
    "duplicate"
   ]
  },
  {
   "cell_type": "markdown",
   "id": "superb-object",
   "metadata": {},
   "source": [
    "## ML"
   ]
  },
  {
   "cell_type": "markdown",
   "id": "surprised-annex",
   "metadata": {},
   "source": [
    "Here we will make a small linear regression model to predict the price of a used car. There are a lot of different Make_Model combinations in the data, so we will be using only the 30 most frequent of these. "
   ]
  },
  {
   "cell_type": "code",
   "execution_count": 12,
   "id": "enhanced-affiliation",
   "metadata": {},
   "outputs": [],
   "source": [
    "#Get a list of the 30 car make_models that were most frequent\n",
    "top_30 = [name for name in df.Make_Model.value_counts().head(30).index]"
   ]
  },
  {
   "cell_type": "markdown",
   "id": "arranged-world",
   "metadata": {},
   "source": [
    "Here we will create a new version of the dataframe. Take only the rows where the Make_Model is in top_30 "
   ]
  },
  {
   "cell_type": "code",
   "execution_count": 16,
   "id": "solar-cigarette",
   "metadata": {},
   "outputs": [
    {
     "name": "stdout",
     "output_type": "stream",
     "text": [
      "<class 'pandas.core.frame.DataFrame'>\n",
      "Index: 283292 entries, 681 to 1048570\n",
      "Data columns (total 6 columns):\n",
      " #   Column      Non-Null Count   Dtype \n",
      "---  ------      --------------   ----- \n",
      " 0   Id          283292 non-null  int64 \n",
      " 1   Price       283292 non-null  int64 \n",
      " 2   Year        283292 non-null  int64 \n",
      " 3   Mileage     283292 non-null  int64 \n",
      " 4   Region      283292 non-null  object\n",
      " 5   Make_Model  283292 non-null  object\n",
      "dtypes: int64(4), object(2)\n",
      "memory usage: 15.1+ MB\n",
      "                 Id          Price           Year       Mileage\n",
      "count  2.832920e+05  283292.000000  283292.000000  2.832920e+05\n",
      "mean   5.059333e+05   22684.978764    2013.476519  5.353672e+04\n",
      "std    3.080870e+05   11212.785643       3.295757  4.309149e+04\n",
      "min    6.820000e+02    1500.000000    1997.000000  5.000000e+00\n",
      "25%    2.072075e+05   14988.000000    2012.000000  2.495975e+04\n",
      "50%    5.289455e+05   19800.000000    2014.000000  4.072600e+04\n",
      "75%    7.506432e+05   28998.000000    2016.000000  7.187300e+04\n",
      "max    1.048571e+06  214888.000000    2018.000000  2.457832e+06\n"
     ]
    }
   ],
   "source": [
    "df = df.loc[df[\"Make_Model\"].isin(top_30), :]\n",
    "df.info()\n",
    "print(df.describe())"
   ]
  },
  {
   "cell_type": "markdown",
   "id": "acceptable-employment",
   "metadata": {},
   "source": [
    "Get dummy variables for the categorical variables."
   ]
  },
  {
   "cell_type": "code",
   "execution_count": 18,
   "id": "religious-grace",
   "metadata": {},
   "outputs": [
    {
     "name": "stdout",
     "output_type": "stream",
     "text": [
      "<class 'pandas.core.frame.DataFrame'>\n",
      "Index: 283292 entries, 681 to 1048570\n",
      "Data columns (total 38 columns):\n",
      " #   Column                            Non-Null Count   Dtype\n",
      "---  ------                            --------------   -----\n",
      " 0   Id                                283292 non-null  int64\n",
      " 1   Price                             283292 non-null  int64\n",
      " 2   Year                              283292 non-null  int64\n",
      " 3   Mileage                           283292 non-null  int64\n",
      " 4   Region_Northeast                  283292 non-null  bool \n",
      " 5   Region_Pacific                    283292 non-null  bool \n",
      " 6   Region_Rockies                    283292 non-null  bool \n",
      " 7   Region_Southeast                  283292 non-null  bool \n",
      " 8   Region_Southwest                  283292 non-null  bool \n",
      " 9   Make_Model_BMW_5                  283292 non-null  bool \n",
      " 10  Make_Model_Chevrolet_CamaroCoupe  283292 non-null  bool \n",
      " 11  Make_Model_Chevrolet_EquinoxAWD   283292 non-null  bool \n",
      " 12  Make_Model_Chevrolet_EquinoxFWD   283292 non-null  bool \n",
      " 13  Make_Model_Chevrolet_MalibuLT     283292 non-null  bool \n",
      " 14  Make_Model_Chevrolet_Silverado    283292 non-null  bool \n",
      " 15  Make_Model_Chrysler_Town          283292 non-null  bool \n",
      " 16  Make_Model_Dodge_Grand            283292 non-null  bool \n",
      " 17  Make_Model_Dodge_Ram              283292 non-null  bool \n",
      " 18  Make_Model_Ford_EscapeSE          283292 non-null  bool \n",
      " 19  Make_Model_Ford_ExplorerXLT       283292 non-null  bool \n",
      " 20  Make_Model_Ford_F-1502WD          283292 non-null  bool \n",
      " 21  Make_Model_Ford_F-1504WD          283292 non-null  bool \n",
      " 22  Make_Model_Ford_F-150XLT          283292 non-null  bool \n",
      " 23  Make_Model_Ford_FusionSE          283292 non-null  bool \n",
      " 24  Make_Model_Ford_Super             283292 non-null  bool \n",
      " 25  Make_Model_GMC_Sierra             283292 non-null  bool \n",
      " 26  Make_Model_Honda_Accord           283292 non-null  bool \n",
      " 27  Make_Model_Honda_Civic            283292 non-null  bool \n",
      " 28  Make_Model_Hyundai_Santa          283292 non-null  bool \n",
      " 29  Make_Model_Hyundai_Sonata2.4L     283292 non-null  bool \n",
      " 30  Make_Model_Jeep_Grand             283292 non-null  bool \n",
      " 31  Make_Model_Jeep_Wrangler          283292 non-null  bool \n",
      " 32  Make_Model_Kia_OptimaLX           283292 non-null  bool \n",
      " 33  Make_Model_Kia_SorentoLX          283292 non-null  bool \n",
      " 34  Make_Model_Land_Rover             283292 non-null  bool \n",
      " 35  Make_Model_Lexus_RX               283292 non-null  bool \n",
      " 36  Make_Model_MINI_Cooper            283292 non-null  bool \n",
      " 37  Make_Model_Nissan_Altima2.5       283292 non-null  bool \n",
      "dtypes: bool(34), int64(4)\n",
      "memory usage: 20.0 MB\n"
     ]
    }
   ],
   "source": [
    "# Binary encoding using Pandas (multiple columns)\n",
    "df_binary_encoded = pd.get_dummies(df, drop_first=True)\n",
    "df_binary_encoded.info()"
   ]
  },
  {
   "cell_type": "markdown",
   "id": "informative-artist",
   "metadata": {},
   "source": [
    "Please explain what the following code chunk does. "
   ]
  },
  {
   "cell_type": "code",
   "execution_count": 19,
   "id": "ideal-penny",
   "metadata": {},
   "outputs": [],
   "source": [
    "# Creating the scaler instance\n",
    "data_scaler = StandardScaler()\n",
    "# Fitting the scaler\n",
    "data_scaler.fit(df_binary_encoded)\n",
    "# Transforming the data\n",
    "df_data_scaled = data_scaler.transform(df_binary_encoded)"
   ]
  },
  {
   "cell_type": "code",
   "execution_count": 20,
   "id": "guided-thickness",
   "metadata": {},
   "outputs": [],
   "source": [
    "features = df_binary_encoded.iloc[:, 2:]\n",
    "target = df_binary_encoded.iloc[:, 1]"
   ]
  },
  {
   "cell_type": "markdown",
   "id": "sealed-hobby",
   "metadata": {},
   "source": [
    "Do a train/test split, with 20% test data."
   ]
  },
  {
   "cell_type": "code",
   "execution_count": 24,
   "id": "fleet-american",
   "metadata": {},
   "outputs": [
    {
     "name": "stdout",
     "output_type": "stream",
     "text": [
      "(226633, 36)\n",
      "(226633,)\n",
      "(56659, 36)\n",
      "(56659,)\n"
     ]
    }
   ],
   "source": [
    "#Train test split\n",
    "\n",
    "train, test = train_test_split(df_binary_encoded, test_size=.2, random_state=777)\n",
    "\n",
    "train_features = train[features.columns]\n",
    "train_target = train[target.name]\n",
    "\n",
    "test_features = test[features.columns]\n",
    "test_target = test[target.name]\n",
    "\n",
    "print(train_features.shape)\n",
    "print(train_target.shape)\n",
    "print(test_features.shape)\n",
    "print(test_target.shape)"
   ]
  },
  {
   "cell_type": "markdown",
   "id": "brutal-vacation",
   "metadata": {},
   "source": [
    "Train a linear regression model with the data and get predictions."
   ]
  },
  {
   "cell_type": "code",
   "execution_count": 25,
   "id": "altered-tonight",
   "metadata": {},
   "outputs": [],
   "source": [
    "# Instantiate linear regression model\n",
    "\n",
    "model = LinearRegression()\n",
    "model.fit(train_features, train_target)\n",
    "\n",
    "test_pred = model.predict(test_features)\n",
    "\n",
    "#Get predictions "
   ]
  },
  {
   "cell_type": "code",
   "execution_count": 26,
   "id": "monthly-wilderness",
   "metadata": {},
   "outputs": [
    {
     "data": {
      "text/plain": [
       "34214886.71569756"
      ]
     },
     "execution_count": 26,
     "metadata": {},
     "output_type": "execute_result"
    }
   ],
   "source": [
    "mean_squared_error(test_pred, test_target)"
   ]
  },
  {
   "cell_type": "code",
   "execution_count": 27,
   "id": "complete-wallet",
   "metadata": {},
   "outputs": [
    {
     "data": {
      "text/plain": [
       "5849.349255746109"
      ]
     },
     "execution_count": 27,
     "metadata": {},
     "output_type": "execute_result"
    }
   ],
   "source": [
    "import math\n",
    "math.sqrt(mean_squared_error(test_pred, test_target))"
   ]
  },
  {
   "cell_type": "markdown",
   "id": "related-roller",
   "metadata": {},
   "source": [
    "Please describe what MSE is. Also please interpret the sqrt of the MSE."
   ]
  },
  {
   "cell_type": "code",
   "execution_count": null,
   "id": "hearing-error",
   "metadata": {},
   "outputs": [],
   "source": []
  }
 ],
 "metadata": {
  "kernelspec": {
   "display_name": "base",
   "language": "python",
   "name": "python3"
  },
  "language_info": {
   "codemirror_mode": {
    "name": "ipython",
    "version": 3
   },
   "file_extension": ".py",
   "mimetype": "text/x-python",
   "name": "python",
   "nbconvert_exporter": "python",
   "pygments_lexer": "ipython3",
   "version": "3.12.3"
  }
 },
 "nbformat": 4,
 "nbformat_minor": 5
}
