{
 "cells": [
  {
   "cell_type": "markdown",
   "metadata": {},
   "source": [
    "# Project description\n",
    "\n",
    "Sweet Lift Taxi company has collected historical data on taxi orders at airports. To attract more drivers during peak hours, we need to predict the amount of taxi orders for the next hour. Build a model for such a prediction.\n",
    "\n",
    "The RMSE metric on the test set should not be more than 48.\n",
    "\n",
    "## Project instructions\n",
    "\n",
    "1. Download the data and resample it by one hour.\n",
    "2. Analyze the data.\n",
    "3. Train different models with different hyperparameters. The test sample should be 10% of the initial dataset. \n",
    "4. Test the data using the test sample and provide a conclusion.\n",
    "\n",
    "## Data description\n",
    "\n",
    "The data is stored in file `taxi.csv`. The number of orders is in the '*num_orders*' column."
   ]
  },
  {
   "cell_type": "markdown",
   "metadata": {},
   "source": [
    "## Preparation"
   ]
  },
  {
   "cell_type": "code",
   "execution_count": 1,
   "metadata": {},
   "outputs": [],
   "source": [
    "import pandas as pd\n",
    "import numpy as np\n",
    "from sklearn.model_selection import train_test_split"
   ]
  },
  {
   "cell_type": "code",
   "execution_count": null,
   "metadata": {},
   "outputs": [
    {
     "name": "stdout",
     "output_type": "stream",
     "text": [
      "<class 'pandas.core.frame.DataFrame'>\n",
      "DatetimeIndex: 26496 entries, 2018-03-01 00:00:00 to 2018-08-31 23:50:00\n",
      "Data columns (total 1 columns):\n",
      " #   Column      Non-Null Count  Dtype\n",
      "---  ------      --------------  -----\n",
      " 0   num_orders  26496 non-null  int64\n",
      "dtypes: int64(1)\n",
      "memory usage: 414.0 KB\n",
      "None\n",
      "         num_orders\n",
      "count  26496.000000\n",
      "mean      14.070463\n",
      "std        9.211330\n",
      "min        0.000000\n",
      "25%        8.000000\n",
      "50%       13.000000\n",
      "75%       19.000000\n",
      "max      119.000000\n",
      "                     num_orders\n",
      "datetime                       \n",
      "2018-03-01 00:00:00           9\n",
      "2018-03-01 00:10:00          14\n",
      "2018-03-01 00:20:00          28\n",
      "2018-03-01 00:30:00          20\n",
      "2018-03-01 00:40:00          32\n",
      "<class 'pandas.core.frame.DataFrame'>\n",
      "DatetimeIndex: 4416 entries, 2018-03-01 00:00:00 to 2018-08-31 23:00:00\n",
      "Freq: h\n",
      "Data columns (total 1 columns):\n",
      " #   Column      Non-Null Count  Dtype\n",
      "---  ------      --------------  -----\n",
      " 0   num_orders  4416 non-null   int64\n",
      "dtypes: int64(1)\n",
      "memory usage: 69.0 KB\n",
      "None\n",
      "        num_orders\n",
      "count  4416.000000\n",
      "mean     84.422781\n",
      "std      45.023853\n",
      "min       0.000000\n",
      "25%      54.000000\n",
      "50%      78.000000\n",
      "75%     107.000000\n",
      "max     462.000000\n",
      "                     num_orders\n",
      "datetime                       \n",
      "2018-03-01 00:00:00         124\n",
      "2018-03-01 01:00:00          85\n",
      "2018-03-01 02:00:00          71\n",
      "2018-03-01 03:00:00          66\n",
      "2018-03-01 04:00:00          43\n"
     ]
    }
   ],
   "source": [
    "data = pd.read_csv('taxi.csv', parse_dates=[0], index_col=[0])\n",
    "\n",
    "# initial data analysis\n",
    "print(data.info())\n",
    "print(data.describe())\n",
    "print(data.head())\n",
    "\n",
    "# data sort, resampled by 1 hour, sum\n",
    "data.sort_index(inplace=True)\n",
    "data = data.resample('1h').sum()\n",
    "\n",
    "# post processing analysis\n",
    "print(data.info())\n",
    "print(data.describe())\n",
    "print(data.head())"
   ]
  },
  {
   "cell_type": "markdown",
   "metadata": {},
   "source": [
    "## Analysis"
   ]
  },
  {
   "cell_type": "code",
   "execution_count": null,
   "metadata": {},
   "outputs": [],
   "source": []
  },
  {
   "cell_type": "markdown",
   "metadata": {},
   "source": [
    "## Training"
   ]
  },
  {
   "cell_type": "code",
   "execution_count": null,
   "metadata": {},
   "outputs": [],
   "source": []
  },
  {
   "cell_type": "markdown",
   "metadata": {},
   "source": [
    "## Testing"
   ]
  },
  {
   "cell_type": "code",
   "execution_count": null,
   "metadata": {},
   "outputs": [],
   "source": []
  },
  {
   "cell_type": "markdown",
   "metadata": {},
   "source": [
    "# Review checklist"
   ]
  },
  {
   "cell_type": "markdown",
   "metadata": {},
   "source": [
    "- [x]  Jupyter Notebook is open\n",
    "- [ ]  The code is error-free\n",
    "- [ ]  The cells with the code have been arranged in order of execution\n",
    "- [ ]  The data has been downloaded and prepared\n",
    "- [ ]  The data has been analyzed\n",
    "- [ ]  The model has been trained and hyperparameters have been selected\n",
    "- [ ]  The models have been evaluated. Conclusion has been provided\n",
    "- [ ] *RMSE* for the test set is not more than 48"
   ]
  }
 ],
 "metadata": {
  "kernelspec": {
   "display_name": "base",
   "language": "python",
   "name": "python3"
  },
  "language_info": {
   "codemirror_mode": {
    "name": "ipython",
    "version": 3
   },
   "file_extension": ".py",
   "mimetype": "text/x-python",
   "name": "python",
   "nbconvert_exporter": "python",
   "pygments_lexer": "ipython3",
   "version": "3.13.5"
  }
 },
 "nbformat": 4,
 "nbformat_minor": 4
}
