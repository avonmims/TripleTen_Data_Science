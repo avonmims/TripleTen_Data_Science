{
 "cells": [
  {
   "cell_type": "markdown",
   "metadata": {},
   "source": [
    "Rusty Bargain used car sales service is developing an app to attract new customers. In that app, you can quickly find out the market value of your car. You have access to historical data: technical specifications, trim versions, and prices. You need to build the model to determine the value. \n",
    "\n",
    "Rusty Bargain is interested in:\n",
    "\n",
    "- the quality of the prediction;\n",
    "- the speed of the prediction;\n",
    "- the time required for training"
   ]
  },
  {
   "cell_type": "markdown",
   "metadata": {},
   "source": [
    "## Data preparation"
   ]
  },
  {
   "cell_type": "code",
   "execution_count": 1,
   "metadata": {},
   "outputs": [],
   "source": [
    "import pandas as pd\n",
    "import numpy as np\n",
    "import math as mt\n",
    "import matplotlib.pyplot as plt\n",
    "import seaborn as sns\n",
    "\n",
    "\n",
    "data = pd.read_csv('car_data.csv')"
   ]
  },
  {
   "cell_type": "code",
   "execution_count": 2,
   "metadata": {},
   "outputs": [
    {
     "name": "stdout",
     "output_type": "stream",
     "text": [
      "<class 'pandas.core.frame.DataFrame'>\n",
      "RangeIndex: 354369 entries, 0 to 354368\n",
      "Data columns (total 16 columns):\n",
      " #   Column             Non-Null Count   Dtype \n",
      "---  ------             --------------   ----- \n",
      " 0   DateCrawled        354369 non-null  object\n",
      " 1   Price              354369 non-null  int64 \n",
      " 2   VehicleType        316879 non-null  object\n",
      " 3   RegistrationYear   354369 non-null  int64 \n",
      " 4   Gearbox            334536 non-null  object\n",
      " 5   Power              354369 non-null  int64 \n",
      " 6   Model              334664 non-null  object\n",
      " 7   Mileage            354369 non-null  int64 \n",
      " 8   RegistrationMonth  354369 non-null  int64 \n",
      " 9   FuelType           321474 non-null  object\n",
      " 10  Brand              354369 non-null  object\n",
      " 11  NotRepaired        283215 non-null  object\n",
      " 12  DateCreated        354369 non-null  object\n",
      " 13  NumberOfPictures   354369 non-null  int64 \n",
      " 14  PostalCode         354369 non-null  int64 \n",
      " 15  LastSeen           354369 non-null  object\n",
      "dtypes: int64(7), object(9)\n",
      "memory usage: 43.3+ MB\n",
      "None\n",
      "date_crawled              0\n",
      "price                     0\n",
      "vehicle_type          37490\n",
      "registration_year         0\n",
      "gearbox               19833\n",
      "power                     0\n",
      "model                 19705\n",
      "mileage                   0\n",
      "registration_month        0\n",
      "fuel_type             32895\n",
      "brand                     0\n",
      "repaired              71154\n",
      "date_created              0\n",
      "number_of_pictures        0\n",
      "postal_code               0\n",
      "last_seen                 0\n",
      "dtype: int64\n"
     ]
    },
    {
     "data": {
      "text/html": [
       "<div>\n",
       "<style scoped>\n",
       "    .dataframe tbody tr th:only-of-type {\n",
       "        vertical-align: middle;\n",
       "    }\n",
       "\n",
       "    .dataframe tbody tr th {\n",
       "        vertical-align: top;\n",
       "    }\n",
       "\n",
       "    .dataframe thead th {\n",
       "        text-align: right;\n",
       "    }\n",
       "</style>\n",
       "<table border=\"1\" class=\"dataframe\">\n",
       "  <thead>\n",
       "    <tr style=\"text-align: right;\">\n",
       "      <th></th>\n",
       "      <th>price</th>\n",
       "      <th>registration_year</th>\n",
       "      <th>power</th>\n",
       "      <th>mileage</th>\n",
       "      <th>registration_month</th>\n",
       "      <th>number_of_pictures</th>\n",
       "      <th>postal_code</th>\n",
       "    </tr>\n",
       "  </thead>\n",
       "  <tbody>\n",
       "    <tr>\n",
       "      <th>count</th>\n",
       "      <td>354369.000000</td>\n",
       "      <td>354369.000000</td>\n",
       "      <td>354369.000000</td>\n",
       "      <td>354369.000000</td>\n",
       "      <td>354369.000000</td>\n",
       "      <td>354369.0</td>\n",
       "      <td>354369.000000</td>\n",
       "    </tr>\n",
       "    <tr>\n",
       "      <th>mean</th>\n",
       "      <td>4416.656776</td>\n",
       "      <td>2004.234448</td>\n",
       "      <td>110.094337</td>\n",
       "      <td>128211.172535</td>\n",
       "      <td>5.714645</td>\n",
       "      <td>0.0</td>\n",
       "      <td>50508.689087</td>\n",
       "    </tr>\n",
       "    <tr>\n",
       "      <th>std</th>\n",
       "      <td>4514.158514</td>\n",
       "      <td>90.227958</td>\n",
       "      <td>189.850405</td>\n",
       "      <td>37905.341530</td>\n",
       "      <td>3.726421</td>\n",
       "      <td>0.0</td>\n",
       "      <td>25783.096248</td>\n",
       "    </tr>\n",
       "    <tr>\n",
       "      <th>min</th>\n",
       "      <td>0.000000</td>\n",
       "      <td>1000.000000</td>\n",
       "      <td>0.000000</td>\n",
       "      <td>5000.000000</td>\n",
       "      <td>0.000000</td>\n",
       "      <td>0.0</td>\n",
       "      <td>1067.000000</td>\n",
       "    </tr>\n",
       "    <tr>\n",
       "      <th>25%</th>\n",
       "      <td>1050.000000</td>\n",
       "      <td>1999.000000</td>\n",
       "      <td>69.000000</td>\n",
       "      <td>125000.000000</td>\n",
       "      <td>3.000000</td>\n",
       "      <td>0.0</td>\n",
       "      <td>30165.000000</td>\n",
       "    </tr>\n",
       "    <tr>\n",
       "      <th>50%</th>\n",
       "      <td>2700.000000</td>\n",
       "      <td>2003.000000</td>\n",
       "      <td>105.000000</td>\n",
       "      <td>150000.000000</td>\n",
       "      <td>6.000000</td>\n",
       "      <td>0.0</td>\n",
       "      <td>49413.000000</td>\n",
       "    </tr>\n",
       "    <tr>\n",
       "      <th>75%</th>\n",
       "      <td>6400.000000</td>\n",
       "      <td>2008.000000</td>\n",
       "      <td>143.000000</td>\n",
       "      <td>150000.000000</td>\n",
       "      <td>9.000000</td>\n",
       "      <td>0.0</td>\n",
       "      <td>71083.000000</td>\n",
       "    </tr>\n",
       "    <tr>\n",
       "      <th>max</th>\n",
       "      <td>20000.000000</td>\n",
       "      <td>9999.000000</td>\n",
       "      <td>20000.000000</td>\n",
       "      <td>150000.000000</td>\n",
       "      <td>12.000000</td>\n",
       "      <td>0.0</td>\n",
       "      <td>99998.000000</td>\n",
       "    </tr>\n",
       "  </tbody>\n",
       "</table>\n",
       "</div>"
      ],
      "text/plain": [
       "               price  registration_year          power        mileage  \\\n",
       "count  354369.000000      354369.000000  354369.000000  354369.000000   \n",
       "mean     4416.656776        2004.234448     110.094337  128211.172535   \n",
       "std      4514.158514          90.227958     189.850405   37905.341530   \n",
       "min         0.000000        1000.000000       0.000000    5000.000000   \n",
       "25%      1050.000000        1999.000000      69.000000  125000.000000   \n",
       "50%      2700.000000        2003.000000     105.000000  150000.000000   \n",
       "75%      6400.000000        2008.000000     143.000000  150000.000000   \n",
       "max     20000.000000        9999.000000   20000.000000  150000.000000   \n",
       "\n",
       "       registration_month  number_of_pictures    postal_code  \n",
       "count       354369.000000            354369.0  354369.000000  \n",
       "mean             5.714645                 0.0   50508.689087  \n",
       "std              3.726421                 0.0   25783.096248  \n",
       "min              0.000000                 0.0    1067.000000  \n",
       "25%              3.000000                 0.0   30165.000000  \n",
       "50%              6.000000                 0.0   49413.000000  \n",
       "75%              9.000000                 0.0   71083.000000  \n",
       "max             12.000000                 0.0   99998.000000  "
      ]
     },
     "metadata": {},
     "output_type": "display_data"
    }
   ],
   "source": [
    "print(data.info())\n",
    "\n",
    "# re-formatting column names\n",
    "data = data.rename(columns = {'DateCrawled' : 'date_crawled', 'Price': 'price', 'VehicleType': 'vehicle_type',\n",
    "                              'RegistrationYear': 'registration_year', 'Gearbox': 'gearbox', 'Power': 'power',\n",
    "                              'Model': 'model', 'Mileage': 'mileage', 'RegistrationMonth': 'registration_month',\n",
    "                              'FuelType': 'fuel_type', 'Brand': 'brand', 'NotRepaired': 'repaired',\n",
    "                              'DateCreated': 'date_created', 'NumberOfPictures': 'number_of_pictures',\n",
    "                              'PostalCode': 'postal_code', 'LastSeen': 'last_seen'})\n",
    "\n",
    "print(data.isna().sum())\n",
    "display(data.describe())\n",
    "#print(data.sample(30, random_state=777))"
   ]
  },
  {
   "cell_type": "markdown",
   "metadata": {},
   "source": [
    "**- ['not_repaired'] is a bit confusing at first, not_repaired == no ... is a double negative, but documentation states \"Vehicle repaird or not\", so no = no. For clarity I will be changing the name of this column to simply ['repaired'].**\n",
    "\n",
    "**- ['number_of_pictures'] is completely filled with zeros, we will be removing this from the features since it has no value to our training.**\n",
    "\n",
    "**- ['registration_month'] has zero values, but this doesn't make logical sense, becuase month range is (1 - January) to (12 - December)**\n",
    "\n",
    "**- ['registration_year'] has values as low as 1000, and as high as 9999, also some vehicles are registered past the year of data extraction (2016), meaning time travel?**\n",
    "\n",
    "**- Registration date does in fact impact vehicle resale value in the European Union, hence the target variable Price(euros), so we will be keeping these columns for training.**\n",
    "\n",
    "**- ['date_crawled', 'date_created', 'number_of_pictures', 'postal_code', 'last_seen'] have no predictive power in relation to model training, so these will be removed.**"
   ]
  },
  {
   "cell_type": "code",
   "execution_count": 3,
   "metadata": {},
   "outputs": [
    {
     "name": "stdout",
     "output_type": "stream",
     "text": [
      "BEFORE:\n",
      "number of vehicles registered before the year 1898:  66\n",
      "number of vehicles registered after 2016:  14530\n",
      "number of vehicles registered in the month 0:  37352\n",
      "AFTER:\n",
      "number of vehicles registered before the year 1898:  0\n",
      "number of vehicles registered after 2016:  0\n",
      "number of vehicles registered in the month 0:  0\n"
     ]
    }
   ],
   "source": [
    "print('BEFORE:\\nnumber of vehicles registered before the year 1898: ', (data['registration_year'] < 1898).sum())\n",
    "print('number of vehicles registered after 2016: ', (data['registration_year'] > 2016).sum())\n",
    "print('number of vehicles registered in the month 0: ', (data['registration_month'] < 1).sum())\n",
    "#print(data[data['registration_year'] < 1898])\n",
    "#print(data[data['registration_year'] > 2016])\n",
    "\n",
    "# removing entries of vehicles registered before 1898 & after 2016 (all data was crawled during the year 2016, cars registered in 2018 are paradoxical)\n",
    "data = data[(data['registration_year'] >= 1898) & (data['registration_year'] <= 2016)]\n",
    "\n",
    "# replacing registration_month == 0, with the mean\n",
    "mean_month = data.loc[data['registration_month'] != 0, 'registration_month'].mean()\n",
    "data.loc[data['registration_month'] == 0, 'registration_month'] = round(mean_month)\n",
    "\n",
    "print('AFTER:\\nnumber of vehicles registered before the year 1898: ', (data['registration_year'] < 1898).sum())\n",
    "print('number of vehicles registered after 2016: ', (data['registration_year'] > 2016).sum())\n",
    "print('number of vehicles registered in the month 0: ', (data['registration_month'] < 1).sum())"
   ]
  },
  {
   "cell_type": "markdown",
   "metadata": {},
   "source": [
    "**- The Netherlands was the first country to ever require vehicle registration in the year 1898, so any registrations before this date are invalid, these entries also contain wildly inconsistent data, missing multiple columns of data. These will be removed.**\n",
    "\n",
    "**- All data was captured during the year 2016, so cars registered in 2017 onward are logically impossible. The upper limit of this feature is 9999, proving that we have impossible values within this column. These amount for roughly ~4% of our data set, so they are safe for removal.**\n",
    "\n",
    "**- Month values range from 1-12, 0 values are replaced with the mean.**"
   ]
  },
  {
   "cell_type": "code",
   "execution_count": 6,
   "metadata": {},
   "outputs": [
    {
     "name": "stdout",
     "output_type": "stream",
     "text": [
      "               price  registration_year          power        mileage  \\\n",
      "count  339773.000000      339773.000000  339773.000000  339773.000000   \n",
      "mean     4471.307373        2002.482222     111.002711  128086.119262   \n",
      "std      4546.019252           7.091181     186.879221   37895.647481   \n",
      "min         0.000000        1910.000000       0.000000    5000.000000   \n",
      "25%      1099.000000        1999.000000      69.000000  125000.000000   \n",
      "50%      2799.000000        2003.000000     105.000000  150000.000000   \n",
      "75%      6500.000000        2007.000000     143.000000  150000.000000   \n",
      "max     20000.000000        2016.000000   20000.000000  150000.000000   \n",
      "\n",
      "       registration_month  number_of_pictures    postal_code  \n",
      "count       339773.000000            339773.0  339773.000000  \n",
      "mean             6.349992                 0.0   50605.581132  \n",
      "std              3.182215                 0.0   25806.453730  \n",
      "min              1.000000                 0.0    1067.000000  \n",
      "25%              4.000000                 0.0   30169.000000  \n",
      "50%              6.000000                 0.0   49492.000000  \n",
      "75%              9.000000                 0.0   71229.000000  \n",
      "max             12.000000                 0.0   99998.000000  \n",
      "<class 'pandas.core.frame.DataFrame'>\n",
      "Index: 339773 entries, 0 to 354368\n",
      "Data columns (total 16 columns):\n",
      " #   Column              Non-Null Count   Dtype \n",
      "---  ------              --------------   ----- \n",
      " 0   date_crawled        339773 non-null  object\n",
      " 1   price               339773 non-null  int64 \n",
      " 2   vehicle_type        316859 non-null  object\n",
      " 3   registration_year   339773 non-null  int64 \n",
      " 4   gearbox             321864 non-null  object\n",
      " 5   power               339773 non-null  int64 \n",
      " 6   model               322148 non-null  object\n",
      " 7   mileage             339773 non-null  int64 \n",
      " 8   registration_month  339773 non-null  int64 \n",
      " 9   fuel_type           312524 non-null  object\n",
      " 10  brand               339773 non-null  object\n",
      " 11  repaired            274974 non-null  object\n",
      " 12  date_created        339773 non-null  object\n",
      " 13  number_of_pictures  339773 non-null  int64 \n",
      " 14  postal_code         339773 non-null  int64 \n",
      " 15  last_seen           339773 non-null  object\n",
      "dtypes: int64(7), object(9)\n",
      "memory usage: 44.1+ MB\n",
      "None\n"
     ]
    }
   ],
   "source": [
    "print(data.describe())\n",
    "print(data.info())\n",
    "#display(data.loc[data['power'] > 1000])\n"
   ]
  },
  {
   "cell_type": "markdown",
   "metadata": {},
   "source": [
    "**WE HAVE TO FIX 'power' RANGES, AND 'price' RANGES**"
   ]
  },
  {
   "cell_type": "code",
   "execution_count": 7,
   "metadata": {},
   "outputs": [],
   "source": [
    "#numerical_features = ['registration_year', 'power', 'mileage', 'registration_month']\n",
    "#melted = data[numerical_features].melt(var_name='feature', value_name='value')\n",
    "\n",
    "#for feature in numerical_features:\n",
    "    #plt.figure(figsize=(6, 4))\n",
    "    #sns.boxplot(y=data[feature])\n",
    "    #plt.title(f'Distribution of {feature}')\n",
    "    #plt.show()"
   ]
  },
  {
   "cell_type": "markdown",
   "metadata": {},
   "source": [
    "## Model training"
   ]
  },
  {
   "cell_type": "code",
   "execution_count": null,
   "metadata": {},
   "outputs": [],
   "source": []
  },
  {
   "cell_type": "markdown",
   "metadata": {},
   "source": [
    "## Model analysis"
   ]
  },
  {
   "cell_type": "code",
   "execution_count": null,
   "metadata": {},
   "outputs": [],
   "source": []
  },
  {
   "cell_type": "markdown",
   "metadata": {},
   "source": [
    "# Checklist"
   ]
  },
  {
   "cell_type": "markdown",
   "metadata": {},
   "source": [
    "Type 'x' to check. Then press Shift+Enter."
   ]
  },
  {
   "cell_type": "markdown",
   "metadata": {},
   "source": [
    "- [x]  Jupyter Notebook is open\n",
    "- [ ]  Code is error free\n",
    "- [ ]  The cells with the code have been arranged in order of execution\n",
    "- [ ]  The data has been downloaded and prepared\n",
    "- [ ]  The models have been trained\n",
    "- [ ]  The analysis of speed and quality of the models has been performed"
   ]
  },
  {
   "cell_type": "code",
   "execution_count": null,
   "metadata": {},
   "outputs": [],
   "source": []
  }
 ],
 "metadata": {
  "kernelspec": {
   "display_name": "base",
   "language": "python",
   "name": "python3"
  },
  "language_info": {
   "codemirror_mode": {
    "name": "ipython",
    "version": 3
   },
   "file_extension": ".py",
   "mimetype": "text/x-python",
   "name": "python",
   "nbconvert_exporter": "python",
   "pygments_lexer": "ipython3",
   "version": "3.12.3"
  }
 },
 "nbformat": 4,
 "nbformat_minor": 4
}
