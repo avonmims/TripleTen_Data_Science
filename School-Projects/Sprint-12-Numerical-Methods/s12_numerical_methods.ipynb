{
 "cells": [
  {
   "cell_type": "markdown",
   "metadata": {},
   "source": [
    "<div style=\"border:solid green 2px; padding: 20px\"> <h1 style=\"color:green; margin-bottom:20px\">Reviewers comment v1</h1>\n",
    "\n",
    "Hello Avon!\n",
    "\n",
    "I'm happy to review your project today 🙌\n",
    "\n",
    "My name is **Justino Imbert** ([this](https://hub.tripleten.com/u/125e88ae) is my Hub profile) and today I'll be reviewing your project!\n",
    "\n",
    "\n",
    "You can find my comments under the heading **«Review»**. I will categorize my comments in green, yellow, red or blue boxes like this:\n",
    "\n",
    "<div class=\"alert alert-success\">\n",
    "    <b>Success:</b> if everything is done successfully\n",
    "</div>\n",
    "<div class=\"alert alert-warning\">\n",
    "    <b>Remarks:</b> if I can give some recommendations or ways to improve the project\n",
    "</div>\n",
    "<div class=\"alert alert-danger\">\n",
    "    <b>Needs fixing:</b> if the block requires some corrections. Work cant be accepted with the red comments\n",
    "</div>\n",
    "\n",
    "Please dont remove my comments :) If you have any questions dont hesitate to respond to my comments in a different section. \n",
    "<div class=\"alert alert-info\"> <b>Student comments:</b> For example like this</div>    "
   ]
  },
  {
   "cell_type": "markdown",
   "metadata": {},
   "source": [
    "<div class=\"alert alert-block alert-info\">\n",
    "<b>Reviewer's comment v1:</b> </a>\n",
    "\n",
    "You did an incredible job on this project!! Your attention to detail and genuine curiosity really stood out throughout your work! Your code was really well organized!\n",
    "\n",
    "I’m really looking forward to reviewing your next submissions, keep up the great work, and best of luck!!!\n",
    "\n",
    "</div>"
   ]
  },
  {
   "cell_type": "markdown",
   "metadata": {},
   "source": [
    "Rusty Bargain used car sales service is developing an app to attract new customers. In that app, you can quickly find out the market value of your car. You have access to historical data: technical specifications, trim versions, and prices. You need to build the model to determine the value. \n",
    "\n",
    "Rusty Bargain is interested in:\n",
    "\n",
    "- the quality of the prediction;\n",
    "- the speed of the prediction;\n",
    "- the time required for training"
   ]
  },
  {
   "cell_type": "markdown",
   "metadata": {},
   "source": [
    "## Data preparation"
   ]
  },
  {
   "cell_type": "code",
   "execution_count": 1,
   "metadata": {},
   "outputs": [],
   "source": [
    "import pandas as pd\n",
    "import numpy as np\n",
    "import math as mt\n",
    "import matplotlib.pyplot as plt\n",
    "import seaborn as sns\n",
    "\n",
    "\n",
    "data = pd.read_csv('/datasets/car_data.csv')"
   ]
  },
  {
   "cell_type": "code",
   "execution_count": 2,
   "metadata": {},
   "outputs": [
    {
     "name": "stdout",
     "output_type": "stream",
     "text": [
      "<class 'pandas.core.frame.DataFrame'>\n",
      "RangeIndex: 354369 entries, 0 to 354368\n",
      "Data columns (total 16 columns):\n",
      " #   Column             Non-Null Count   Dtype \n",
      "---  ------             --------------   ----- \n",
      " 0   DateCrawled        354369 non-null  object\n",
      " 1   Price              354369 non-null  int64 \n",
      " 2   VehicleType        316879 non-null  object\n",
      " 3   RegistrationYear   354369 non-null  int64 \n",
      " 4   Gearbox            334536 non-null  object\n",
      " 5   Power              354369 non-null  int64 \n",
      " 6   Model              334664 non-null  object\n",
      " 7   Mileage            354369 non-null  int64 \n",
      " 8   RegistrationMonth  354369 non-null  int64 \n",
      " 9   FuelType           321474 non-null  object\n",
      " 10  Brand              354369 non-null  object\n",
      " 11  NotRepaired        283215 non-null  object\n",
      " 12  DateCreated        354369 non-null  object\n",
      " 13  NumberOfPictures   354369 non-null  int64 \n",
      " 14  PostalCode         354369 non-null  int64 \n",
      " 15  LastSeen           354369 non-null  object\n",
      "dtypes: int64(7), object(9)\n",
      "memory usage: 43.3+ MB\n",
      "None\n",
      "date_crawled              0\n",
      "price                     0\n",
      "vehicle_type          37490\n",
      "registration_year         0\n",
      "gearbox               19833\n",
      "power                     0\n",
      "model                 19705\n",
      "mileage                   0\n",
      "registration_month        0\n",
      "fuel_type             32895\n",
      "brand                     0\n",
      "repaired              71154\n",
      "date_created              0\n",
      "number_of_pictures        0\n",
      "postal_code               0\n",
      "last_seen                 0\n",
      "dtype: int64\n"
     ]
    },
    {
     "data": {
      "text/html": [
       "<div>\n",
       "<style scoped>\n",
       "    .dataframe tbody tr th:only-of-type {\n",
       "        vertical-align: middle;\n",
       "    }\n",
       "\n",
       "    .dataframe tbody tr th {\n",
       "        vertical-align: top;\n",
       "    }\n",
       "\n",
       "    .dataframe thead th {\n",
       "        text-align: right;\n",
       "    }\n",
       "</style>\n",
       "<table border=\"1\" class=\"dataframe\">\n",
       "  <thead>\n",
       "    <tr style=\"text-align: right;\">\n",
       "      <th></th>\n",
       "      <th>price</th>\n",
       "      <th>registration_year</th>\n",
       "      <th>power</th>\n",
       "      <th>mileage</th>\n",
       "      <th>registration_month</th>\n",
       "      <th>number_of_pictures</th>\n",
       "      <th>postal_code</th>\n",
       "    </tr>\n",
       "  </thead>\n",
       "  <tbody>\n",
       "    <tr>\n",
       "      <th>count</th>\n",
       "      <td>354369.000000</td>\n",
       "      <td>354369.000000</td>\n",
       "      <td>354369.000000</td>\n",
       "      <td>354369.000000</td>\n",
       "      <td>354369.000000</td>\n",
       "      <td>354369.0</td>\n",
       "      <td>354369.000000</td>\n",
       "    </tr>\n",
       "    <tr>\n",
       "      <th>mean</th>\n",
       "      <td>4416.656776</td>\n",
       "      <td>2004.234448</td>\n",
       "      <td>110.094337</td>\n",
       "      <td>128211.172535</td>\n",
       "      <td>5.714645</td>\n",
       "      <td>0.0</td>\n",
       "      <td>50508.689087</td>\n",
       "    </tr>\n",
       "    <tr>\n",
       "      <th>std</th>\n",
       "      <td>4514.158514</td>\n",
       "      <td>90.227958</td>\n",
       "      <td>189.850405</td>\n",
       "      <td>37905.341530</td>\n",
       "      <td>3.726421</td>\n",
       "      <td>0.0</td>\n",
       "      <td>25783.096248</td>\n",
       "    </tr>\n",
       "    <tr>\n",
       "      <th>min</th>\n",
       "      <td>0.000000</td>\n",
       "      <td>1000.000000</td>\n",
       "      <td>0.000000</td>\n",
       "      <td>5000.000000</td>\n",
       "      <td>0.000000</td>\n",
       "      <td>0.0</td>\n",
       "      <td>1067.000000</td>\n",
       "    </tr>\n",
       "    <tr>\n",
       "      <th>25%</th>\n",
       "      <td>1050.000000</td>\n",
       "      <td>1999.000000</td>\n",
       "      <td>69.000000</td>\n",
       "      <td>125000.000000</td>\n",
       "      <td>3.000000</td>\n",
       "      <td>0.0</td>\n",
       "      <td>30165.000000</td>\n",
       "    </tr>\n",
       "    <tr>\n",
       "      <th>50%</th>\n",
       "      <td>2700.000000</td>\n",
       "      <td>2003.000000</td>\n",
       "      <td>105.000000</td>\n",
       "      <td>150000.000000</td>\n",
       "      <td>6.000000</td>\n",
       "      <td>0.0</td>\n",
       "      <td>49413.000000</td>\n",
       "    </tr>\n",
       "    <tr>\n",
       "      <th>75%</th>\n",
       "      <td>6400.000000</td>\n",
       "      <td>2008.000000</td>\n",
       "      <td>143.000000</td>\n",
       "      <td>150000.000000</td>\n",
       "      <td>9.000000</td>\n",
       "      <td>0.0</td>\n",
       "      <td>71083.000000</td>\n",
       "    </tr>\n",
       "    <tr>\n",
       "      <th>max</th>\n",
       "      <td>20000.000000</td>\n",
       "      <td>9999.000000</td>\n",
       "      <td>20000.000000</td>\n",
       "      <td>150000.000000</td>\n",
       "      <td>12.000000</td>\n",
       "      <td>0.0</td>\n",
       "      <td>99998.000000</td>\n",
       "    </tr>\n",
       "  </tbody>\n",
       "</table>\n",
       "</div>"
      ],
      "text/plain": [
       "               price  registration_year          power        mileage  \\\n",
       "count  354369.000000      354369.000000  354369.000000  354369.000000   \n",
       "mean     4416.656776        2004.234448     110.094337  128211.172535   \n",
       "std      4514.158514          90.227958     189.850405   37905.341530   \n",
       "min         0.000000        1000.000000       0.000000    5000.000000   \n",
       "25%      1050.000000        1999.000000      69.000000  125000.000000   \n",
       "50%      2700.000000        2003.000000     105.000000  150000.000000   \n",
       "75%      6400.000000        2008.000000     143.000000  150000.000000   \n",
       "max     20000.000000        9999.000000   20000.000000  150000.000000   \n",
       "\n",
       "       registration_month  number_of_pictures    postal_code  \n",
       "count       354369.000000            354369.0  354369.000000  \n",
       "mean             5.714645                 0.0   50508.689087  \n",
       "std              3.726421                 0.0   25783.096248  \n",
       "min              0.000000                 0.0    1067.000000  \n",
       "25%              3.000000                 0.0   30165.000000  \n",
       "50%              6.000000                 0.0   49413.000000  \n",
       "75%              9.000000                 0.0   71083.000000  \n",
       "max             12.000000                 0.0   99998.000000  "
      ]
     },
     "metadata": {},
     "output_type": "display_data"
    }
   ],
   "source": [
    "print(data.info())\n",
    "\n",
    "# re-formatting column names\n",
    "data = data.rename(columns = {'DateCrawled' : 'date_crawled', 'Price': 'price', 'VehicleType': 'vehicle_type',\n",
    "                              'RegistrationYear': 'registration_year', 'Gearbox': 'gearbox', 'Power': 'power',\n",
    "                              'Model': 'model', 'Mileage': 'mileage', 'RegistrationMonth': 'registration_month',\n",
    "                              'FuelType': 'fuel_type', 'Brand': 'brand', 'NotRepaired': 'repaired',\n",
    "                              'DateCreated': 'date_created', 'NumberOfPictures': 'number_of_pictures',\n",
    "                              'PostalCode': 'postal_code', 'LastSeen': 'last_seen'})\n",
    "\n",
    "print(data.isna().sum())\n",
    "display(data.describe())\n",
    "#print(data.sample(30, random_state=777))"
   ]
  },
  {
   "cell_type": "markdown",
   "metadata": {},
   "source": [
    "**- ['not_repaired'] is a bit confusing at first, not_repaired == no ... is a double negative, but documentation states \"Vehicle repaired or not\", so no = no. For clarity I will be changing the name of this column to simply ['repaired'].**\n",
    "\n",
    "**- ['number_of_pictures'] is completely filled with zeros, we will be removing this from the features since it has no value to our training.**\n",
    "\n",
    "**- ['registration_month'] has zero values, but this doesn't make logical sense, becuase month range is (1 - January) to (12 - December)**\n",
    "\n",
    "**- ['registration_year'] has values as low as 1000, and as high as 9999, also some vehicles are registered past the year of data extraction (2016), meaning time travel?**\n",
    "\n",
    "**- Registration date does in fact impact vehicle resale value in the European Union, hence the target variable Price(euros), so we will be keeping these columns for training.**\n",
    "\n",
    "**- ['date_crawled', 'date_created', 'number_of_pictures', 'postal_code', 'last_seen'] have no predictive power in relation to model training, so these will be removed.**"
   ]
  },
  {
   "cell_type": "code",
   "execution_count": 3,
   "metadata": {},
   "outputs": [
    {
     "name": "stdout",
     "output_type": "stream",
     "text": [
      "BEFORE:\n",
      "number of vehicles registered before the year 1960:  422\n",
      "number of vehicles registered after 2016:  14530\n",
      "number of vehicles registered in the month 0:  37352\n",
      "AFTER:\n",
      "number of vehicles registered before the year 1960:  0\n",
      "number of vehicles registered after 2016:  0\n",
      "number of vehicles registered in the month 0:  0\n"
     ]
    }
   ],
   "source": [
    "print('BEFORE:\\nnumber of vehicles registered before the year 1960: ', (data['registration_year'] < 1960).sum())\n",
    "print('number of vehicles registered after 2016: ', (data['registration_year'] > 2016).sum())\n",
    "print('number of vehicles registered in the month 0: ', (data['registration_month'] < 1).sum())\n",
    "#print(data[data['registration_year'] < 1960])\n",
    "#print(data[data['registration_year'] > 2016])\n",
    "\n",
    "# removing entries of vehicles registered before 1898 & after 2016 (all data was crawled during the year 2016, cars registered in 2018 are paradoxical)\n",
    "data = data[(data['registration_year'] >= 1960) & (data['registration_year'] <= 2016)]\n",
    "\n",
    "# replacing registration_month == 0, with the mean\n",
    "mean_month = data.loc[data['registration_month'] != 0, 'registration_month'].mean()\n",
    "data.loc[data['registration_month'] == 0, 'registration_month'] = round(mean_month)\n",
    "\n",
    "print('AFTER:\\nnumber of vehicles registered before the year 1960: ', (data['registration_year'] < 1960).sum())\n",
    "print('number of vehicles registered after 2016: ', (data['registration_year'] > 2016).sum())\n",
    "print('number of vehicles registered in the month 0: ', (data['registration_month'] < 1).sum())"
   ]
  },
  {
   "cell_type": "markdown",
   "metadata": {},
   "source": [
    "**- The Netherlands was the first country to ever require vehicle registration in the year 1898, so any registrations before this date are invalid, but for the sake of training a model focused on the mainstream market, we will be applying a lower limit of 1960, with an upper limit of 2016 (year of data).**\n",
    "\n",
    "**- All data was captured during the year 2016, so cars registered in 2017 onward are logically impossible. The upper limit of this feature is 9999, proving that we have impossible values within this column. These amount for roughly ~4% of our data set, so they are safe for removal.**\n",
    "\n",
    "**- Month values range from 1-12, 0 values are replaced with the mean.**"
   ]
  },
  {
   "cell_type": "code",
   "execution_count": 4,
   "metadata": {},
   "outputs": [
    {
     "data": {
      "text/html": [
       "<div>\n",
       "<style scoped>\n",
       "    .dataframe tbody tr th:only-of-type {\n",
       "        vertical-align: middle;\n",
       "    }\n",
       "\n",
       "    .dataframe tbody tr th {\n",
       "        vertical-align: top;\n",
       "    }\n",
       "\n",
       "    .dataframe thead th {\n",
       "        text-align: right;\n",
       "    }\n",
       "</style>\n",
       "<table border=\"1\" class=\"dataframe\">\n",
       "  <thead>\n",
       "    <tr style=\"text-align: right;\">\n",
       "      <th></th>\n",
       "      <th>price</th>\n",
       "      <th>registration_year</th>\n",
       "      <th>power</th>\n",
       "      <th>mileage</th>\n",
       "      <th>registration_month</th>\n",
       "      <th>number_of_pictures</th>\n",
       "      <th>postal_code</th>\n",
       "    </tr>\n",
       "  </thead>\n",
       "  <tbody>\n",
       "    <tr>\n",
       "      <th>count</th>\n",
       "      <td>339417.000000</td>\n",
       "      <td>339417.000000</td>\n",
       "      <td>339417.000000</td>\n",
       "      <td>339417.000000</td>\n",
       "      <td>339417.000000</td>\n",
       "      <td>339417.0</td>\n",
       "      <td>339417.000000</td>\n",
       "    </tr>\n",
       "    <tr>\n",
       "      <th>mean</th>\n",
       "      <td>4469.893187</td>\n",
       "      <td>2002.549669</td>\n",
       "      <td>111.075341</td>\n",
       "      <td>128152.641146</td>\n",
       "      <td>6.351102</td>\n",
       "      <td>0.0</td>\n",
       "      <td>50608.841428</td>\n",
       "    </tr>\n",
       "    <tr>\n",
       "      <th>std</th>\n",
       "      <td>4543.692216</td>\n",
       "      <td>6.752035</td>\n",
       "      <td>186.925261</td>\n",
       "      <td>37813.605479</td>\n",
       "      <td>3.182562</td>\n",
       "      <td>0.0</td>\n",
       "      <td>25803.571234</td>\n",
       "    </tr>\n",
       "    <tr>\n",
       "      <th>min</th>\n",
       "      <td>0.000000</td>\n",
       "      <td>1960.000000</td>\n",
       "      <td>0.000000</td>\n",
       "      <td>5000.000000</td>\n",
       "      <td>1.000000</td>\n",
       "      <td>0.0</td>\n",
       "      <td>1067.000000</td>\n",
       "    </tr>\n",
       "    <tr>\n",
       "      <th>25%</th>\n",
       "      <td>1100.000000</td>\n",
       "      <td>1999.000000</td>\n",
       "      <td>69.000000</td>\n",
       "      <td>125000.000000</td>\n",
       "      <td>4.000000</td>\n",
       "      <td>0.0</td>\n",
       "      <td>30169.000000</td>\n",
       "    </tr>\n",
       "    <tr>\n",
       "      <th>50%</th>\n",
       "      <td>2799.000000</td>\n",
       "      <td>2003.000000</td>\n",
       "      <td>105.000000</td>\n",
       "      <td>150000.000000</td>\n",
       "      <td>6.000000</td>\n",
       "      <td>0.0</td>\n",
       "      <td>49492.000000</td>\n",
       "    </tr>\n",
       "    <tr>\n",
       "      <th>75%</th>\n",
       "      <td>6500.000000</td>\n",
       "      <td>2007.000000</td>\n",
       "      <td>143.000000</td>\n",
       "      <td>150000.000000</td>\n",
       "      <td>9.000000</td>\n",
       "      <td>0.0</td>\n",
       "      <td>71229.000000</td>\n",
       "    </tr>\n",
       "    <tr>\n",
       "      <th>max</th>\n",
       "      <td>20000.000000</td>\n",
       "      <td>2016.000000</td>\n",
       "      <td>20000.000000</td>\n",
       "      <td>150000.000000</td>\n",
       "      <td>12.000000</td>\n",
       "      <td>0.0</td>\n",
       "      <td>99998.000000</td>\n",
       "    </tr>\n",
       "  </tbody>\n",
       "</table>\n",
       "</div>"
      ],
      "text/plain": [
       "               price  registration_year          power        mileage  \\\n",
       "count  339417.000000      339417.000000  339417.000000  339417.000000   \n",
       "mean     4469.893187        2002.549669     111.075341  128152.641146   \n",
       "std      4543.692216           6.752035     186.925261   37813.605479   \n",
       "min         0.000000        1960.000000       0.000000    5000.000000   \n",
       "25%      1100.000000        1999.000000      69.000000  125000.000000   \n",
       "50%      2799.000000        2003.000000     105.000000  150000.000000   \n",
       "75%      6500.000000        2007.000000     143.000000  150000.000000   \n",
       "max     20000.000000        2016.000000   20000.000000  150000.000000   \n",
       "\n",
       "       registration_month  number_of_pictures    postal_code  \n",
       "count       339417.000000            339417.0  339417.000000  \n",
       "mean             6.351102                 0.0   50608.841428  \n",
       "std              3.182562                 0.0   25803.571234  \n",
       "min              1.000000                 0.0    1067.000000  \n",
       "25%              4.000000                 0.0   30169.000000  \n",
       "50%              6.000000                 0.0   49492.000000  \n",
       "75%              9.000000                 0.0   71229.000000  \n",
       "max             12.000000                 0.0   99998.000000  "
      ]
     },
     "metadata": {},
     "output_type": "display_data"
    },
    {
     "name": "stdout",
     "output_type": "stream",
     "text": [
      "BEFORE:\n",
      "number of vehicles with (30 < power < 500):  37522\n",
      "number of vehicles with (price < 100):  12349\n",
      "AFTER:\n",
      "number of vehicles with (30 < power < 500):  0\n",
      "number of vehicles with (price < 100):  0\n"
     ]
    },
    {
     "data": {
      "text/html": [
       "<div>\n",
       "<style scoped>\n",
       "    .dataframe tbody tr th:only-of-type {\n",
       "        vertical-align: middle;\n",
       "    }\n",
       "\n",
       "    .dataframe tbody tr th {\n",
       "        vertical-align: top;\n",
       "    }\n",
       "\n",
       "    .dataframe thead th {\n",
       "        text-align: right;\n",
       "    }\n",
       "</style>\n",
       "<table border=\"1\" class=\"dataframe\">\n",
       "  <thead>\n",
       "    <tr style=\"text-align: right;\">\n",
       "      <th></th>\n",
       "      <th>price</th>\n",
       "      <th>registration_year</th>\n",
       "      <th>power</th>\n",
       "      <th>mileage</th>\n",
       "      <th>registration_month</th>\n",
       "      <th>number_of_pictures</th>\n",
       "      <th>postal_code</th>\n",
       "    </tr>\n",
       "  </thead>\n",
       "  <tbody>\n",
       "    <tr>\n",
       "      <th>count</th>\n",
       "      <td>294388.000000</td>\n",
       "      <td>294388.000000</td>\n",
       "      <td>294388.000000</td>\n",
       "      <td>294388.000000</td>\n",
       "      <td>294388.000000</td>\n",
       "      <td>294388.0</td>\n",
       "      <td>294388.000000</td>\n",
       "    </tr>\n",
       "    <tr>\n",
       "      <th>mean</th>\n",
       "      <td>4872.632329</td>\n",
       "      <td>2002.892886</td>\n",
       "      <td>120.854865</td>\n",
       "      <td>128469.706646</td>\n",
       "      <td>6.359295</td>\n",
       "      <td>0.0</td>\n",
       "      <td>51261.347371</td>\n",
       "    </tr>\n",
       "    <tr>\n",
       "      <th>std</th>\n",
       "      <td>4609.434838</td>\n",
       "      <td>6.357164</td>\n",
       "      <td>53.318752</td>\n",
       "      <td>36539.697450</td>\n",
       "      <td>3.247446</td>\n",
       "      <td>0.0</td>\n",
       "      <td>25761.479908</td>\n",
       "    </tr>\n",
       "    <tr>\n",
       "      <th>min</th>\n",
       "      <td>100.000000</td>\n",
       "      <td>1960.000000</td>\n",
       "      <td>30.000000</td>\n",
       "      <td>5000.000000</td>\n",
       "      <td>1.000000</td>\n",
       "      <td>0.0</td>\n",
       "      <td>1067.000000</td>\n",
       "    </tr>\n",
       "    <tr>\n",
       "      <th>25%</th>\n",
       "      <td>1350.000000</td>\n",
       "      <td>1999.000000</td>\n",
       "      <td>77.000000</td>\n",
       "      <td>125000.000000</td>\n",
       "      <td>4.000000</td>\n",
       "      <td>0.0</td>\n",
       "      <td>30952.000000</td>\n",
       "    </tr>\n",
       "    <tr>\n",
       "      <th>50%</th>\n",
       "      <td>3200.000000</td>\n",
       "      <td>2003.000000</td>\n",
       "      <td>112.000000</td>\n",
       "      <td>150000.000000</td>\n",
       "      <td>6.000000</td>\n",
       "      <td>0.0</td>\n",
       "      <td>50321.000000</td>\n",
       "    </tr>\n",
       "    <tr>\n",
       "      <th>75%</th>\n",
       "      <td>6999.000000</td>\n",
       "      <td>2007.000000</td>\n",
       "      <td>150.000000</td>\n",
       "      <td>150000.000000</td>\n",
       "      <td>9.000000</td>\n",
       "      <td>0.0</td>\n",
       "      <td>72108.000000</td>\n",
       "    </tr>\n",
       "    <tr>\n",
       "      <th>max</th>\n",
       "      <td>20000.000000</td>\n",
       "      <td>2016.000000</td>\n",
       "      <td>500.000000</td>\n",
       "      <td>150000.000000</td>\n",
       "      <td>12.000000</td>\n",
       "      <td>0.0</td>\n",
       "      <td>99998.000000</td>\n",
       "    </tr>\n",
       "  </tbody>\n",
       "</table>\n",
       "</div>"
      ],
      "text/plain": [
       "               price  registration_year          power        mileage  \\\n",
       "count  294388.000000      294388.000000  294388.000000  294388.000000   \n",
       "mean     4872.632329        2002.892886     120.854865  128469.706646   \n",
       "std      4609.434838           6.357164      53.318752   36539.697450   \n",
       "min       100.000000        1960.000000      30.000000    5000.000000   \n",
       "25%      1350.000000        1999.000000      77.000000  125000.000000   \n",
       "50%      3200.000000        2003.000000     112.000000  150000.000000   \n",
       "75%      6999.000000        2007.000000     150.000000  150000.000000   \n",
       "max     20000.000000        2016.000000     500.000000  150000.000000   \n",
       "\n",
       "       registration_month  number_of_pictures    postal_code  \n",
       "count       294388.000000            294388.0  294388.000000  \n",
       "mean             6.359295                 0.0   51261.347371  \n",
       "std              3.247446                 0.0   25761.479908  \n",
       "min              1.000000                 0.0    1067.000000  \n",
       "25%              4.000000                 0.0   30952.000000  \n",
       "50%              6.000000                 0.0   50321.000000  \n",
       "75%              9.000000                 0.0   72108.000000  \n",
       "max             12.000000                 0.0   99998.000000  "
      ]
     },
     "metadata": {},
     "output_type": "display_data"
    }
   ],
   "source": [
    "display(data.describe())\n",
    "#print(data.info())\n",
    "#display(data.loc[(data['power'] >= 500) | (data['power']  <= 30)])\n",
    "#display(data.loc[data['price'] < 100])\n",
    "\n",
    "print('BEFORE:\\nnumber of vehicles with (30 < power < 500): ', ((data['power'] > 500) | (data['power']  < 30)).sum())\n",
    "print('number of vehicles with (price < 100): ', (data['price'] < 100).sum())\n",
    "\n",
    "# removing entries of vehicles with power less than 30, or exceeding 500\n",
    "data = data[(data['power'] >= 30) & (data['power'] <= 500)]\n",
    "\n",
    "# removing entries of vehicles with price < 100, this is most likely a bait to place their vehicle higher in the listing system\n",
    "data = data[(data['price'] >= 100)]\n",
    "\n",
    "print('AFTER:\\nnumber of vehicles with (30 < power < 500): ', ((data['power'] > 500) | (data['power']  < 30)).sum())\n",
    "print('number of vehicles with (price < 100): ', (data['price'] < 100).sum())\n",
    "\n",
    "display(data.describe())\n",
    "#print(data.info())\n",
    "#display(data.loc[(data['power'] > 500) | (data['power']  < 30)])\n",
    "#display(data.loc[data['price'] < 100])"
   ]
  },
  {
   "cell_type": "markdown",
   "metadata": {},
   "source": [
    "**- After some research on the used car market, I've established some boundaries for our numerical feature ranges. This way, our model will be trained on realistic data, and not on anomalous data such as 20000 power, or registration year 9999, etc. These paradoxical entries are either data entry errors, or ways to manipulate the listing system (price 0 will show at the top of the list sorted by price ascending). Either way, this data is not useful in relation to our model.**\n",
    "\n",
    "**- 'registration_month' = 0, has been replaced with the rounded mean value (6)**\n",
    "\n",
    "**- 'registration_year', has been limited to entries between the ranges of 1960 to 2016, this gives us relevant data reflecting a realistic market. Even if it is possible that a car from the 1920's is for sale, 75% of our data was between 1999 to 2016, so bringing the lower bound closer gives our model a more stable environment to learn.**\n",
    "\n",
    "**- 'power', has been limited to entries between the ranges of 30 to 500, for the same reason as above. 75% of our data was between 69 to 143, 0 makes no sense, and 20000 is absurd. Bringing our boundaries much closer to the majority distribution creates a more realistic setting for training.**\n",
    "\n",
    "**- 'price', only had it's lower limit raised from 0 to 100. It's possible that someone could be selling a low power, older vehicle for quick cash. However, anything lower than this already low value, is most likely an input error, or an attempt to place their listing higher in the list when sorted by price ascending. This lower boundary, even though less than 10% of our lower quartile (Q1: 1350), still represents realistic data, which is what we are striving for in the data cleaning process.**\n",
    "\n",
    "**- There are still plenty of missing values in ['vehcile_type', 'gearbox', 'model', 'fuel_type', 'repaired'] we have to handle, but our numerical columns have been cleaned. The next section will analyze the numerical columns distributions via boxplots.**"
   ]
  },
  {
   "cell_type": "markdown",
   "metadata": {},
   "source": [
    "<div class=\"alert alert-block alert-success\">\n",
    "<b>Reviewer's comment v1:</b> </a>\n",
    "\n",
    "AMAZING job analyzing the data! You did a really in-depth exploration that shows how committed you are to the project!\n",
    "\n",
    "Looking good!\n",
    "\n",
    "</div>"
   ]
  },
  {
   "cell_type": "code",
   "execution_count": 5,
   "metadata": {},
   "outputs": [
    {
     "data": {
      "image/png": "[encoded data removed]",
      "text/plain": [
       "<Figure size 1200x1000 with 4 Axes>"
      ]
     },
     "metadata": {},
     "output_type": "display_data"
    }
   ],
   "source": [
    "# plotting altered numerical column distributions \n",
    "numerical_distribution_check = ['price', 'registration_year', 'power', 'mileage']\n",
    "fig, axes = plt.subplots(2, 2, figsize=(12, 10))\n",
    "\n",
    "for ax, feature in zip(axes.flatten(), numerical_distribution_check):\n",
    "    sns.boxplot(y=data[feature], ax=ax)\n",
    "    ax.set_title(f'Distribution of {feature}')\n",
    "\n",
    "plt.tight_layout()\n",
    "plt.show()"
   ]
  },
  {
   "cell_type": "markdown",
   "metadata": {},
   "source": [
    "**- Our distributions are looking much, much better after applying the new boundaries for outliers, more closely resembling the vast range of vehicles in a realistic used car market.**"
   ]
  },
  {
   "cell_type": "markdown",
   "metadata": {},
   "source": [
    "<div class=\"alert alert-block alert-success\">\n",
    "<b>Reviewer's comment v1:</b> </a>\n",
    "\n",
    "Great job with the data visualization! Box plots are looking good!\n",
    "    \n",
    "</div>"
   ]
  },
  {
   "cell_type": "code",
   "execution_count": 6,
   "metadata": {},
   "outputs": [
    {
     "name": "stdout",
     "output_type": "stream",
     "text": [
      "-------MISSING-BEFORE-------\n",
      " date_crawled              0\n",
      "price                     0\n",
      "vehicle_type          10766\n",
      "registration_year         0\n",
      "gearbox                5186\n",
      "power                     0\n",
      "model                 10786\n",
      "mileage                   0\n",
      "registration_month        0\n",
      "fuel_type             15213\n",
      "brand                     0\n",
      "repaired              42265\n",
      "date_created              0\n",
      "number_of_pictures        0\n",
      "postal_code               0\n",
      "last_seen                 0\n",
      "dtype: int64\n",
      "------MISSING-AFTER-------\n",
      " date_crawled          0\n",
      "price                 0\n",
      "vehicle_type          0\n",
      "registration_year     0\n",
      "gearbox               0\n",
      "power                 0\n",
      "model                 0\n",
      "mileage               0\n",
      "registration_month    0\n",
      "fuel_type             0\n",
      "brand                 0\n",
      "repaired              0\n",
      "date_created          0\n",
      "number_of_pictures    0\n",
      "postal_code           0\n",
      "last_seen             0\n",
      "dtype: int64\n",
      "<class 'pandas.core.frame.DataFrame'>\n",
      "Int64Index: 294388 entries, 1 to 354368\n",
      "Data columns (total 16 columns):\n",
      " #   Column              Non-Null Count   Dtype \n",
      "---  ------              --------------   ----- \n",
      " 0   date_crawled        294388 non-null  object\n",
      " 1   price               294388 non-null  int64 \n",
      " 2   vehicle_type        294388 non-null  object\n",
      " 3   registration_year   294388 non-null  int64 \n",
      " 4   gearbox             294388 non-null  object\n",
      " 5   power               294388 non-null  int64 \n",
      " 6   model               294388 non-null  object\n",
      " 7   mileage             294388 non-null  int64 \n",
      " 8   registration_month  294388 non-null  int64 \n",
      " 9   fuel_type           294388 non-null  object\n",
      " 10  brand               294388 non-null  object\n",
      " 11  repaired            294388 non-null  object\n",
      " 12  date_created        294388 non-null  object\n",
      " 13  number_of_pictures  294388 non-null  int64 \n",
      " 14  postal_code         294388 non-null  int64 \n",
      " 15  last_seen           294388 non-null  object\n",
      "dtypes: int64(7), object(9)\n",
      "memory usage: 38.2+ MB\n",
      "None\n"
     ]
    }
   ],
   "source": [
    "# missing = ['vehcile_type', 'gearbox', 'model', 'fuel_type', 'repaired']\n",
    "\n",
    "print('-------MISSING-BEFORE-------\\n',data.isna().sum())\n",
    "\n",
    "data['vehicle_type'] = data['vehicle_type'].fillna('unknown_vehicle_type')\n",
    "data['gearbox'] = data['gearbox'].fillna('unknown_gearbox')\n",
    "data['model'] = data['model'].fillna('unkown_model')\n",
    "data['fuel_type'] = data['fuel_type'].fillna('unknown_fuel_type')\n",
    "data['repaired'] = data['repaired'].fillna('unknown_repaired')\n",
    "\n",
    "print('------MISSING-AFTER-------\\n',data.isna().sum())\n",
    "\n",
    "print(data.info())"
   ]
  },
  {
   "cell_type": "markdown",
   "metadata": {},
   "source": [
    "**- I've replaced the missing values in our categorical columns with 'unknown_{feature}', giving us full columns without introducing bias, treating the missing values as their own category. We're now ready to move onto preprocessing/model training.**"
   ]
  },
  {
   "cell_type": "markdown",
   "metadata": {},
   "source": [
    "<div class=\"alert alert-block alert-success\">\n",
    "<b>Reviewer's comment v1:</b> </a>\n",
    "\n",
    "Beautiful job handling the missing values! Assigning `unknown_{feature}` where data was missing is a clear and consistent approach!\n",
    "\n",
    "</div>"
   ]
  },
  {
   "cell_type": "code",
   "execution_count": 7,
   "metadata": {},
   "outputs": [],
   "source": [
    "from sklearn.model_selection import train_test_split\n",
    "\n",
    "# 80:20 - (train + val):test\n",
    "train_val, test = train_test_split(data, test_size=.2, random_state=99)\n",
    "\n",
    "# 60:20 - train:val\n",
    "train, val = train_test_split(train_val, test_size=.25, random_state=99)\n",
    "\n",
    "# features separate by dtype\n",
    "numerical = ['registration_year', 'power', 'mileage', 'registration_month']\n",
    "categorical = ['vehicle_type', 'gearbox', 'model', 'fuel_type', 'brand', 'repaired']\n",
    "\n",
    "# prediction target\n",
    "target = ['price']\n",
    "\n",
    "# 60:20:20 - train:valid:test - features\n",
    "train_features = train[numerical + categorical]\n",
    "valid_features = val[numerical + categorical]\n",
    "test_features = test[numerical + categorical]\n",
    "\n",
    "# 60:20:20 - train:valid:test - target\n",
    "train_target = train[target]\n",
    "valid_target = val[target]\n",
    "test_target = test[target]\n",
    "\n",
    "#print(train_features.info())\n",
    "#print(valid_features.info())\n",
    "#print(test_features.info())\n",
    "\n",
    "#print(train_target.info())\n",
    "#print(valid_target.info())\n",
    "#print(test_target.info())"
   ]
  },
  {
   "cell_type": "markdown",
   "metadata": {},
   "source": [
    "**- Our data is now split and contains only the features with predictive power, 3 sets for training-validation-testing.**"
   ]
  },
  {
   "cell_type": "markdown",
   "metadata": {},
   "source": [
    "<div class=\"alert alert-block alert-success\">\n",
    "<b>Reviewer's comment v1:</b> </a>\n",
    "\n",
    "Good job splitting the data!\n",
    "\n",
    "</div>"
   ]
  },
  {
   "cell_type": "markdown",
   "metadata": {},
   "source": [
    "<div class=\"alert alert-block alert-success\">\n",
    "<b>Reviewer's comment v1:</b> </a>\n",
    "\n",
    "It’s really easy to follow your code, the way you explain each step makes it very clear and organized! Keep up the good work!\n",
    "\n",
    "</div>"
   ]
  },
  {
   "cell_type": "markdown",
   "metadata": {},
   "source": [
    "## Model training"
   ]
  },
  {
   "cell_type": "code",
   "execution_count": 8,
   "metadata": {},
   "outputs": [
    {
     "name": "stdout",
     "output_type": "stream",
     "text": [
      "-RMSE of LinearRegression-\n",
      "Validation Set: 2524.56\n",
      "Test Set: 2534.75\n"
     ]
    }
   ],
   "source": [
    "# LINEAR REGRESSION\n",
    "from sklearn.linear_model import LinearRegression\n",
    "from sklearn.preprocessing import StandardScaler\n",
    "from sklearn.metrics import mean_squared_error\n",
    "\n",
    "scaler = StandardScaler()\n",
    "scaler.fit(train_features[numerical])\n",
    "\n",
    "def numerical_scaler(features):\n",
    "    return scaler.transform(features[numerical])\n",
    "\n",
    "def categorical_encoder(features):\n",
    "    return pd.get_dummies(features, drop_first=True)\n",
    "\n",
    "def sanity_benchmark(train_features, valid_features, test_features, train_target, valid_target, test_target):\n",
    "    train_ohe = categorical_encoder(train_features) # OHE train features\n",
    "    valid_ohe = categorical_encoder(valid_features) # OHE valid features\n",
    "    test_ohe = categorical_encoder(test_features) # OHE test features\n",
    "    valid_ohe = valid_ohe.reindex(columns=train_ohe.columns, fill_value=0) # realign valid columns with train\n",
    "    test_ohe = test_ohe.reindex(columns=train_ohe.columns, fill_value=0) # realign test columns with train\n",
    "    train_ohe[numerical] = numerical_scaler(train_ohe) # train numerical scaling\n",
    "    valid_ohe[numerical] = numerical_scaler(valid_ohe) # valid numerical scaling\n",
    "    test_ohe[numerical] = numerical_scaler(test_ohe) # test numerical scaling\n",
    "    model = LinearRegression() # model initiation\n",
    "    model.fit(train_ohe, train_target) # model trained \n",
    "    val_predictions = model.predict(valid_ohe) # validation target predictions\n",
    "    validation_score = mean_squared_error(valid_target, val_predictions) ** .5 # RMSE validation predictions\n",
    "    test_predictions = model.predict(test_ohe) # test target predictions\n",
    "    test_score = mean_squared_error(test_target, test_predictions) ** .5 # RMSE test predictions\n",
    "    return f'-RMSE of LinearRegression-\\nValidation Set: {validation_score:.2f}\\nTest Set: {test_score:.2f}'\n",
    "\n",
    "print(sanity_benchmark(train_features, valid_features, test_features, train_target, valid_target, test_target))"
   ]
  },
  {
   "cell_type": "markdown",
   "metadata": {},
   "source": [
    "**- Our LinearRegression model RMSE will serve as the goal for our other models to overcome. As it stands, our RandomForest, LightGBM, and CatBoost models all should surpass an RMSE of 2524.56 Euros against the Validation Set, and an RMSE of 2534.75 Euros against the Test Set.**"
   ]
  },
  {
   "cell_type": "code",
   "execution_count": 9,
   "metadata": {},
   "outputs": [
    {
     "name": "stdout",
     "output_type": "stream",
     "text": [
      "RMSE of best model:  2332.525869091253 \n",
      "Best model:  RandomForestRegressor(max_depth=5, n_estimators=10, random_state=99)\n"
     ]
    }
   ],
   "source": [
    "# RANDOM FOREST HYPERPARAMETER TUNING\n",
    "from sklearn.ensemble import RandomForestRegressor\n",
    "\n",
    "# OHE categorical featres \n",
    "train_forest_ohe = categorical_encoder(train_features)\n",
    "valid_forest_ohe = categorical_encoder(valid_features)\n",
    "test_forest_ohe = categorical_encoder(test_features)\n",
    "\n",
    "# realign valid/test indices with the training set\n",
    "valid_forest_ohe = valid_forest_ohe.reindex(columns=train_forest_ohe.columns, fill_value=0)\n",
    "test_forest_ohe = test_forest_ohe.reindex(columns=train_forest_ohe.columns, fill_value=0)\n",
    "\n",
    "#print(train_forest_ohe.sample(5, random_state=99))\n",
    "#print(train_features.sample(5, random_state=99))\n",
    "\n",
    "# iterating over hyperparameter combinations, saving the best model and score\n",
    "best_model = None\n",
    "best_result = 5000\n",
    "for est in range(2, 11, 2):\n",
    "    for depth in range(1, 6):\n",
    "        model = RandomForestRegressor(random_state=99, n_estimators=est, max_depth=depth)\n",
    "        model.fit(train_forest_ohe, train_target.values.ravel())\n",
    "        val_predictions = model.predict(valid_forest_ohe)\n",
    "        score = mean_squared_error(valid_target.values.ravel(), val_predictions) ** .5\n",
    "        if score < best_result:\n",
    "            best_model = model\n",
    "            best_result = score\n",
    "\n",
    "print('RMSE of best model: ', best_result, '\\nBest model: ', best_model)"
   ]
  },
  {
   "cell_type": "markdown",
   "metadata": {},
   "source": [
    "**- Our RandomForest hyperparameter iteration loop has landed us with an RMSE of 2332.53 Euros against the Validation Set, beating out our LinearRegression model by 192.03 Euros. The hyperparameters associated with the best result are (max_depth=5, n_estimators=10, random_state=99).**"
   ]
  },
  {
   "cell_type": "code",
   "execution_count": 10,
   "metadata": {},
   "outputs": [
    {
     "name": "stdout",
     "output_type": "stream",
     "text": [
      "RMSE of best model:  1578.4050196829073 \n",
      "Best model:  LGBMRegressor(learning_rate=0.3, max_depth=7, n_estimators=60, random_state=99,\n",
      "              verbose=-1)\n"
     ]
    }
   ],
   "source": [
    "# LIGHT GBM HYPERPARAMETER TUNING\n",
    "from lightgbm import LGBMRegressor\n",
    "\n",
    "# copying df as to not overwrite our precious data\n",
    "train_lgbm = train_features.copy()\n",
    "valid_lgbm = valid_features.copy()\n",
    "test_lgbm = test_features.copy()\n",
    "\n",
    "# converting categorical object dtype to category for our model\n",
    "for col in categorical:\n",
    "    train_lgbm[col] = train_lgbm[col].astype('category')\n",
    "    valid_lgbm[col] = valid_lgbm[col].astype('category')\n",
    "    test_lgbm[col] = test_lgbm[col].astype('category')\n",
    "\n",
    "# iterating over hyperparameter combinations, saving the best model and score\n",
    "best_model = None\n",
    "best_result = 5000\n",
    "for est in [20, 40, 60]:\n",
    "    for depth in [3, 5, 7]:\n",
    "        for lr in [.1, .3, .5]:\n",
    "            model = LGBMRegressor(n_estimators=est, max_depth=depth, learning_rate=lr, random_state=99, verbose=-1)\n",
    "            model.fit(train_lgbm, train_target.values.ravel())\n",
    "            val_predictions = model.predict(valid_lgbm)\n",
    "            score = mean_squared_error(valid_target.values.ravel(), val_predictions) ** .5\n",
    "            if score < best_result:\n",
    "                best_model = model\n",
    "                best_result = score\n",
    "\n",
    "print('RMSE of best model: ', best_result, '\\nBest model: ', best_model)"
   ]
  },
  {
   "cell_type": "markdown",
   "metadata": {},
   "source": [
    "**- LGBMRegressor absolutley smoked our RandomForestRegressor in both prediction score and speed. This is my first time using this library and I'm impressed!**\n",
    "\n",
    "**- LGBMRegressor gives us an RMSE of 1578.41 Euros against the validation set, beating our RandomForestRegressor by 754.12 Euros, very impressive. The hyperparameters associated with the best result are (learning_rate=0.3, max_depth=7, n_estimators=60, random_state=99) plus the optional (verbose=-1) to conceal the messages during training.**"
   ]
  },
  {
   "cell_type": "code",
   "execution_count": 11,
   "metadata": {},
   "outputs": [
    {
     "name": "stdout",
     "output_type": "stream",
     "text": [
      "RMSE of best model:  1633.0607268832916 \n",
      "Best model:  {'iterations': 60, 'learning_rate': 0.5, 'depth': 7, 'loss_function': 'RMSE', 'verbose': 0, 'random_state': 99}\n"
     ]
    }
   ],
   "source": [
    "# CATBOOST HYPERPARAMETER TUNING\n",
    "from catboost import CatBoostRegressor\n",
    "\n",
    "# capturing categorical feature indices for our model\n",
    "cat_features_index = [train_features.columns.get_loc(col) for col in categorical]\n",
    "\n",
    "# iterating over hyperparameter combinations, saving the best model and score\n",
    "best_model = None\n",
    "best_result = 5000\n",
    "for est in [20, 40, 60]:\n",
    "    for depth in [3, 5, 7]:\n",
    "        for lr in [.1, .3, .5]:\n",
    "            model = CatBoostRegressor(iterations=est, depth=depth, learning_rate=lr, random_state=99, verbose=0)\n",
    "            model.fit(train_features, train_target.values.ravel(), cat_features=cat_features_index)\n",
    "            val_predictions = model.predict(valid_features)\n",
    "            score = mean_squared_error(valid_target.values.ravel(), val_predictions) ** .5\n",
    "            if score < best_result:\n",
    "                best_model = model\n",
    "                best_result = score\n",
    "\n",
    "print('RMSE of best model: ', best_result, '\\nBest model: ', best_model.get_params())"
   ]
  },
  {
   "cell_type": "markdown",
   "metadata": {},
   "source": [
    "**- CatBoostRegressor also scores substantially better than RandomForestRegressor (1633.06 vs 2332.53), but performing slightly worse than LGBMRegressor (1633.06 vs 1578.41), and a much longer time to loop over hyperparameter combinations while utilizing the same combo (est, depth, lr).**\n",
    "\n",
    "**- The hyperparameters associated with the best result are (iterations=60, depth=7, learning_rate=.5, random_state=99) plus (verbose=0) to conceal training messages.**"
   ]
  },
  {
   "cell_type": "markdown",
   "metadata": {},
   "source": [
    "<div class=\"alert alert-block alert-success\">\n",
    "<b>Reviewer's comment v1:</b> </a>\n",
    "\n",
    "You did an incredible job training these models with different hyperparameters! Nice work!\n",
    "\n",
    "</div>"
   ]
  },
  {
   "cell_type": "markdown",
   "metadata": {},
   "source": [
    "## Model analysis"
   ]
  },
  {
   "cell_type": "code",
   "execution_count": 12,
   "metadata": {},
   "outputs": [
    {
     "name": "stdout",
     "output_type": "stream",
     "text": [
      "Training time: 8.99 seconds\n",
      "Prediction time: 0.09 seconds\n",
      "Final RMSE: 2368.65 Euros\n"
     ]
    }
   ],
   "source": [
    "import time\n",
    "\n",
    "# RANDOM FOREST\n",
    "best_forest = RandomForestRegressor(max_depth=5, n_estimators=10, random_state=99)\n",
    "\n",
    "start = time.time()\n",
    "best_forest.fit(train_forest_ohe, train_target.values.ravel())\n",
    "end = time.time()\n",
    "\n",
    "print(f'Training time: {end - start:.2f} seconds')\n",
    "\n",
    "start = time.time()\n",
    "forest_test_predict = best_forest.predict(test_forest_ohe)\n",
    "end = time.time()\n",
    "\n",
    "forest_score = mean_squared_error(test_target.values.ravel(), forest_test_predict) ** .5\n",
    "\n",
    "print(f'Prediction time: {end - start:.2f} seconds\\nFinal RMSE: {forest_score:.2f} Euros')"
   ]
  },
  {
   "cell_type": "code",
   "execution_count": 13,
   "metadata": {},
   "outputs": [
    {
     "name": "stderr",
     "output_type": "stream",
     "text": [
      "/.venv/lib/python3.9/site-packages/lightgbm/basic.py:2065: UserWarning: Using categorical_feature in Dataset.\n",
      "  _log_warning('Using categorical_feature in Dataset.')\n"
     ]
    },
    {
     "name": "stdout",
     "output_type": "stream",
     "text": [
      "Training time: 9.64 seconds\n",
      "Prediction time: 0.19 seconds\n",
      "Final RMSE: 1581.65 Euros\n"
     ]
    }
   ],
   "source": [
    "# LIGHT GBM\n",
    "best_lgbm = LGBMRegressor(learning_rate=0.3, max_depth=7, n_estimators=60, random_state=99, verbose=-1)\n",
    "\n",
    "start = time.time()\n",
    "best_lgbm.fit(train_lgbm, train_target.values.ravel(), categorical_feature=categorical)\n",
    "end = time.time()\n",
    "\n",
    "print(f'Training time: {end - start:.2f} seconds')\n",
    "\n",
    "start = time.time()\n",
    "lgbm_test_predict = best_lgbm.predict(test_lgbm)\n",
    "end = time.time()\n",
    "\n",
    "lgbm_score = mean_squared_error(test_target.values.ravel(), lgbm_test_predict) ** .5\n",
    "\n",
    "print(f'Prediction time: {end - start:.2f} seconds\\nFinal RMSE: {lgbm_score:.2f} Euros')"
   ]
  },
  {
   "cell_type": "code",
   "execution_count": 14,
   "metadata": {},
   "outputs": [
    {
     "name": "stdout",
     "output_type": "stream",
     "text": [
      "Training time: 2.46 seconds\n",
      "Prediction time: 0.07 seconds\n",
      "Final RMSE: 1645.42 Euros\n"
     ]
    }
   ],
   "source": [
    "# CAT BOOST\n",
    "best_cat = CatBoostRegressor(iterations=60, depth=7, learning_rate=.5, random_state=99, verbose=0)\n",
    "\n",
    "start = time.time()\n",
    "best_cat.fit(train_features, train_target.values.ravel(), cat_features=cat_features_index)\n",
    "end = time.time()\n",
    "\n",
    "print(f'Training time: {end - start:.2f} seconds')\n",
    "\n",
    "start = time.time()\n",
    "cat_test_predict = best_cat.predict(test_features)\n",
    "end = time.time()\n",
    "\n",
    "cat_score = mean_squared_error(test_target.values.ravel(), cat_test_predict) ** .5\n",
    "\n",
    "print(f'Prediction time: {end - start:.2f} seconds\\nFinal RMSE: {cat_score:.2f} Euros')"
   ]
  },
  {
   "cell_type": "markdown",
   "metadata": {},
   "source": [
    "<div class=\"alert alert-block alert-success\">\n",
    "<b>Reviewer's comment v1:</b> </a>\n",
    "\n",
    "Great job analyzing the speed and quality of the models!\n",
    "\n",
    "</div>"
   ]
  },
  {
   "cell_type": "markdown",
   "metadata": {},
   "source": [
    "*****Summary*****\n",
    "\n",
    "*Times are estimates with minor deviations, they will not be exact every time*\n",
    "\n",
    "**RandomForest**\n",
    "\n",
    "Training time: ~ 7.07 seconds\n",
    "\n",
    "Prediction time: ~ 0.7 seconds\n",
    "\n",
    "Final RMSE: 2368.65 Euros\n",
    "\n",
    "**LightGBM**\n",
    "\n",
    "Training time: ~ 0.24 seconds\n",
    "\n",
    "Prediction time: ~ 0.03 seconds\n",
    "\n",
    "Final RMSE: 1581.65 Euros\n",
    "\n",
    "**CatBoost**\n",
    "\n",
    "Training time: ~ 2.99 seconds\n",
    "\n",
    "Prediction time: ~ 0.14 seconds\n",
    "\n",
    "Final RMSE: 1645.42 Euros"
   ]
  },
  {
   "cell_type": "markdown",
   "metadata": {},
   "source": [
    "**- In conclusion, all of our tuned models surpassed the benchmark (LinearRegression), with RandomForestRegressor not scoring much higher and with the longest training times of all the models. LightGBM performed the best in every metric by far, especially training and predictions times. CatBoost sits in between RandomForest and LightGBM in terms of speed, but is not far off from LightGBM in terms of prediction accuracy.**\n",
    "\n",
    "**- Given the results, I would highly recommend LightGBM for Rusty Bargain's app, as it provides lightning fast predictions with the highest accuracy against new unseen data.**"
   ]
  },
  {
   "cell_type": "markdown",
   "metadata": {},
   "source": [
    "***Side Note: The code runs flawlessly in VsCode, but training and prediction times are much longer in regards to LightGBM when running on the tripleten platform notebook, as well as ocassionally outputting warnings. My first execution here resulted in LightGBM causing the notebook to stop functioning at the hyperparameter tuning stage. I had to restart the kernel and run all cells a few times before it worked.***"
   ]
  },
  {
   "cell_type": "markdown",
   "metadata": {},
   "source": [
    "<div class=\"alert alert-block alert-success\">\n",
    "<b>Reviewer's comment v1:</b> </a>\n",
    "\n",
    "Great conclusion! You justified it considering the balance between training time, validation performance, and RMSE!\n",
    "\n",
    "I'm approving this submission! Good job!\n",
    "\n",
    "</div>"
   ]
  },
  {
   "cell_type": "markdown",
   "metadata": {},
   "source": [
    "# Checklist"
   ]
  },
  {
   "cell_type": "markdown",
   "metadata": {},
   "source": [
    "Type 'x' to check. Then press Shift+Enter."
   ]
  },
  {
   "cell_type": "markdown",
   "metadata": {},
   "source": [
    "- [x]  Jupyter Notebook is open\n",
    "- [x]  Code is error free\n",
    "- [x]  The cells with the code have been arranged in order of execution\n",
    "- [x]  The data has been downloaded and prepared\n",
    "- [x]  The models have been trained\n",
    "- [x]  The analysis of speed and quality of the models has been performed"
   ]
  }
 ],
 "metadata": {
  "kernelspec": {
   "display_name": "Python 3 (ipykernel)",
   "language": "python",
   "name": "python3"
  },
  "language_info": {
   "codemirror_mode": {
    "name": "ipython",
    "version": 3
   },
   "file_extension": ".py",
   "mimetype": "text/x-python",
   "name": "python",
   "nbconvert_exporter": "python",
   "pygments_lexer": "ipython3",
   "version": "3.9.23"
  }
 },
 "nbformat": 4,
 "nbformat_minor": 4
}
